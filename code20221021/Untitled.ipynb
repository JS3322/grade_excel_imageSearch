{
 "cells": [
  {
   "cell_type": "code",
   "execution_count": 2,
   "id": "386a45d2-639e-473a-98d4-f522bc235b59",
   "metadata": {},
   "outputs": [],
   "source": [
    "import cv2 # pip install opencv-python"
   ]
  },
  {
   "cell_type": "code",
   "execution_count": null,
   "id": "c5b2e8f2-5f42-4943-a291-eff10a334ebc",
   "metadata": {},
   "outputs": [],
   "source": [
    "image = cv2.imread(\"cv_example_img.png\",cv2.IMREAD_COLOR)\n",
    "cv2.imshow(\"TEST\",image)\n",
    "cv2.waitKey(0)\n",
    "cv2.destroyAllWindows()\n",
    "\n",
    "cv2."
   ]
  }
 ],
 "metadata": {
  "kernelspec": {
   "display_name": "Python 3 (ipykernel)",
   "language": "python",
   "name": "python3"
  },
  "language_info": {
   "codemirror_mode": {
    "name": "ipython",
    "version": 3
   },
   "file_extension": ".py",
   "mimetype": "text/x-python",
   "name": "python",
   "nbconvert_exporter": "python",
   "pygments_lexer": "ipython3",
   "version": "3.10.8"
  }
 },
 "nbformat": 4,
 "nbformat_minor": 5
}
