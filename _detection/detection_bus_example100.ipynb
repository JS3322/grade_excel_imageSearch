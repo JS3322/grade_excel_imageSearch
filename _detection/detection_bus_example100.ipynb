{
 "cells": [
  {
   "cell_type": "code",
   "execution_count": 1,
   "id": "0285304e-b7d6-4d9c-a729-03e73ed77dff",
   "metadata": {},
   "outputs": [
    {
     "name": "stdout",
     "output_type": "stream",
     "text": [
      "4.6.0\n"
     ]
    }
   ],
   "source": [
    "import cv2\n",
    "print(cv2.__version__)"
   ]
  },
  {
   "cell_type": "code",
   "execution_count": null,
   "id": "74b287ec-3e6b-4011-8e31-8e9a83c3b129",
   "metadata": {},
   "outputs": [],
   "source": [
    "# create a video capture object\n",
    "cap = cv2.VideoCapture(\"rtsp://mycamera:8554/mystream\")"
   ]
  },
  {
   "cell_type": "code",
   "execution_count": null,
   "id": "2dfa84de-d37a-4bd9-9d46-a56784584782",
   "metadata": {},
   "outputs": [],
   "source": [
    "# loop until interrupted\n",
    "while True:\n",
    "    # read a frame from the camera\n",
    "    ret, frame = cap.read()\n",
    "    if not ret:\n",
    "        print(\"error while reading frame\")\n",
    "        break\n",
    "\n",
    "    # show the frame on the screen\n",
    "    cv2.imshow(\"frame\", frame)\n",
    "\n",
    "    # wait for a key press\n",
    "    key = cv2.waitKey(1)\n",
    "    if key == ord(\"q\"):\n",
    "        print(\"quitting\")\n",
    "        break\n",
    "\n",
    "# release the capture object and destroy all windows\n",
    "cap.release()\n",
    "cv2.destroyAllWindows()"
   ]
  }
 ],
 "metadata": {
  "kernelspec": {
   "display_name": "Python 3 (ipykernel)",
   "language": "python",
   "name": "python3"
  },
  "language_info": {
   "codemirror_mode": {
    "name": "ipython",
    "version": 3
   },
   "file_extension": ".py",
   "mimetype": "text/x-python",
   "name": "python",
   "nbconvert_exporter": "python",
   "pygments_lexer": "ipython3",
   "version": "3.8.16"
  }
 },
 "nbformat": 4,
 "nbformat_minor": 5
}
