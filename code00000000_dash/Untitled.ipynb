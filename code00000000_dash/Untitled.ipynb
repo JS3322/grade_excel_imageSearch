{
 "cells": [
  {
   "cell_type": "code",
   "execution_count": 1,
   "outputs": [
    {
     "data": {
      "text/plain": "       0   1    2    3    4   5    6    7    8    9   ...   89   90   91   92  \\\n1999  199  79   88   34   39  63  104  151  129  194  ...   39   99   46   43   \n2000    5  92   53  147   78  24   74  109  200  193  ...  198    9  193  174   \n2001  169  65  178  198  152  71   14  121  133   54  ...   24  106   64   54   \n\n       93   94   95   96   97   98  \n1999  189   76   88  127   11  130  \n2000  126   17  171  145  103  148  \n2001  115  134   49  144  109   83  \n\n[3 rows x 99 columns]",
      "text/html": "<div>\n<style scoped>\n    .dataframe tbody tr th:only-of-type {\n        vertical-align: middle;\n    }\n\n    .dataframe tbody tr th {\n        vertical-align: top;\n    }\n\n    .dataframe thead th {\n        text-align: right;\n    }\n</style>\n<table border=\"1\" class=\"dataframe\">\n  <thead>\n    <tr style=\"text-align: right;\">\n      <th></th>\n      <th>0</th>\n      <th>1</th>\n      <th>2</th>\n      <th>3</th>\n      <th>4</th>\n      <th>5</th>\n      <th>6</th>\n      <th>7</th>\n      <th>8</th>\n      <th>9</th>\n      <th>...</th>\n      <th>89</th>\n      <th>90</th>\n      <th>91</th>\n      <th>92</th>\n      <th>93</th>\n      <th>94</th>\n      <th>95</th>\n      <th>96</th>\n      <th>97</th>\n      <th>98</th>\n    </tr>\n  </thead>\n  <tbody>\n    <tr>\n      <th>1999</th>\n      <td>199</td>\n      <td>79</td>\n      <td>88</td>\n      <td>34</td>\n      <td>39</td>\n      <td>63</td>\n      <td>104</td>\n      <td>151</td>\n      <td>129</td>\n      <td>194</td>\n      <td>...</td>\n      <td>39</td>\n      <td>99</td>\n      <td>46</td>\n      <td>43</td>\n      <td>189</td>\n      <td>76</td>\n      <td>88</td>\n      <td>127</td>\n      <td>11</td>\n      <td>130</td>\n    </tr>\n    <tr>\n      <th>2000</th>\n      <td>5</td>\n      <td>92</td>\n      <td>53</td>\n      <td>147</td>\n      <td>78</td>\n      <td>24</td>\n      <td>74</td>\n      <td>109</td>\n      <td>200</td>\n      <td>193</td>\n      <td>...</td>\n      <td>198</td>\n      <td>9</td>\n      <td>193</td>\n      <td>174</td>\n      <td>126</td>\n      <td>17</td>\n      <td>171</td>\n      <td>145</td>\n      <td>103</td>\n      <td>148</td>\n    </tr>\n    <tr>\n      <th>2001</th>\n      <td>169</td>\n      <td>65</td>\n      <td>178</td>\n      <td>198</td>\n      <td>152</td>\n      <td>71</td>\n      <td>14</td>\n      <td>121</td>\n      <td>133</td>\n      <td>54</td>\n      <td>...</td>\n      <td>24</td>\n      <td>106</td>\n      <td>64</td>\n      <td>54</td>\n      <td>115</td>\n      <td>134</td>\n      <td>49</td>\n      <td>144</td>\n      <td>109</td>\n      <td>83</td>\n    </tr>\n  </tbody>\n</table>\n<p>3 rows × 99 columns</p>\n</div>"
     },
     "execution_count": 1,
     "metadata": {},
     "output_type": "execute_result"
    }
   ],
   "source": [
    "#env\n",
    "import random\n",
    "\n",
    "import pandas as pd\n",
    "\n",
    "list_box1=[]\n",
    "list_box2=[]\n",
    "list_box3=[]\n",
    "for i in range(1, 100):\n",
    "    ran_num1 = random.randint(1, 200)\n",
    "    list_box1.append(ran_num1)\n",
    "    ran_num2 = random.randint(1, 200)\n",
    "    list_box2.append(ran_num2)\n",
    "    ran_num3 = random.randint(1, 200)\n",
    "    list_box3.append(ran_num3)\n",
    "\n",
    "df = pd.DataFrame({\n",
    "    1999:list_box1,\n",
    "    2000:list_box2,\n",
    "    2001:list_box3\n",
    "}).T\n",
    "df"
   ],
   "metadata": {
    "collapsed": false,
    "pycharm": {
     "name": "#%%\n"
    }
   }
  },
  {
   "cell_type": "code",
   "execution_count": 3,
   "outputs": [
    {
     "name": "stdout",
     "output_type": "stream",
     "text": [
      "Dash is running on http://127.0.0.1:8050/\n",
      "\n",
      " * Serving Flask app '__main__' (lazy loading)\n",
      " * Environment: production\n",
      "\u001B[31m   WARNING: This is a development server. Do not use it in a production deployment.\u001B[0m\n",
      "\u001B[2m   Use a production WSGI server instead.\u001B[0m\n",
      " * Debug mode: on\n"
     ]
    },
    {
     "name": "stderr",
     "output_type": "stream",
     "text": [
      "Traceback (most recent call last):\n",
      "  File \"/opt/homebrew/Caskroom/miniconda/base/envs/studyEnsemble/lib/python3.10/site-packages/ipykernel_launcher.py\", line 17, in <module>\n",
      "    app.launch_new_instance()\n",
      "  File \"/opt/homebrew/Caskroom/miniconda/base/envs/studyEnsemble/lib/python3.10/site-packages/traitlets/config/application.py\", line 845, in launch_instance\n",
      "    app.initialize(argv)\n",
      "  File \"/opt/homebrew/Caskroom/miniconda/base/envs/studyEnsemble/lib/python3.10/site-packages/traitlets/config/application.py\", line 88, in inner\n",
      "    return method(app, *args, **kwargs)\n",
      "  File \"/opt/homebrew/Caskroom/miniconda/base/envs/studyEnsemble/lib/python3.10/site-packages/ipykernel/kernelapp.py\", line 666, in initialize\n",
      "    self.init_sockets()\n",
      "  File \"/opt/homebrew/Caskroom/miniconda/base/envs/studyEnsemble/lib/python3.10/site-packages/ipykernel/kernelapp.py\", line 307, in init_sockets\n",
      "    self.shell_port = self._bind_socket(self.shell_socket, self.shell_port)\n",
      "  File \"/opt/homebrew/Caskroom/miniconda/base/envs/studyEnsemble/lib/python3.10/site-packages/ipykernel/kernelapp.py\", line 244, in _bind_socket\n",
      "    return self._try_bind_socket(s, port)\n",
      "  File \"/opt/homebrew/Caskroom/miniconda/base/envs/studyEnsemble/lib/python3.10/site-packages/ipykernel/kernelapp.py\", line 220, in _try_bind_socket\n",
      "    s.bind(\"tcp://%s:%i\" % (self.ip, port))\n",
      "  File \"/opt/homebrew/Caskroom/miniconda/base/envs/studyEnsemble/lib/python3.10/site-packages/zmq/sugar/socket.py\", line 229, in bind\n",
      "    super().bind(addr)\n",
      "  File \"zmq/backend/cython/socket.pyx\", line 562, in zmq.backend.cython.socket.Socket.bind\n",
      "  File \"zmq/backend/cython/checkrc.pxd\", line 28, in zmq.backend.cython.checkrc._check_rc\n",
      "zmq.error.ZMQError: Address already in use\n"
     ]
    },
    {
     "ename": "SystemExit",
     "evalue": "1",
     "output_type": "error",
     "traceback": [
      "An exception has occurred, use %tb to see the full traceback.\n",
      "\u001B[0;31mSystemExit\u001B[0m\u001B[0;31m:\u001B[0m 1\n"
     ]
    },
    {
     "name": "stderr",
     "output_type": "stream",
     "text": [
      "/opt/homebrew/Caskroom/miniconda/base/envs/studyEnsemble/lib/python3.10/site-packages/IPython/core/interactiveshell.py:3406: UserWarning:\n",
      "\n",
      "To exit: use 'exit', 'quit', or Ctrl-D.\n",
      "\n"
     ]
    }
   ],
   "source": [
    "from dash import Dash\n",
    "import dash_core_components as dcc\n",
    "import dash_html_components as html\n",
    "import plotly.express as px\n",
    "\n",
    "app = Dash(__name__)\n",
    "\n",
    "# assume you have a \"long-form\" data frame\n",
    "# see https://plotly.com/python/px-arguments/ for more options\n",
    "df = pd.DataFrame({\n",
    "    \"Fruit\": [\"Apples\", \"Oranges\", \"Bananas\", \"Apples\", \"Oranges\", \"Bananas\"],\n",
    "    \"Amount\": [4, 1, 2, 2, 4, 5],\n",
    "    \"City\": [\"SF\", \"SF\", \"SF\", \"Montreal\", \"Montreal\", \"Montreal\"]\n",
    "})\n",
    "\n",
    "fig = px.bar(df, x=\"Fruit\", y=\"Amount\", color=\"City\", barmode=\"group\")\n",
    "\n",
    "app.layout = html.Div(children=[\n",
    "    html.H1(children='Hello Dash'),\n",
    "\n",
    "    html.Div(children='''\n",
    "        Dash: A web application framework for your data.\n",
    "    '''),\n",
    "\n",
    "    dcc.Graph(\n",
    "        id='example-graph',\n",
    "        figure=fig\n",
    "    )\n",
    "])\n",
    "\n",
    "if __name__ == '__main__':\n",
    "    app.run_server(debug=True)"
   ],
   "metadata": {
    "collapsed": false,
    "pycharm": {
     "name": "#%%\n"
    }
   }
  },
  {
   "cell_type": "code",
   "execution_count": null,
   "outputs": [],
   "source": [],
   "metadata": {
    "collapsed": false,
    "pycharm": {
     "name": "#%%\n"
    }
   }
  }
 ],
 "metadata": {
  "kernelspec": {
   "display_name": "Python 3 (ipykernel)",
   "language": "python",
   "name": "python3"
  },
  "language_info": {
   "codemirror_mode": {
    "name": "ipython",
    "version": 3
   },
   "file_extension": ".py",
   "mimetype": "text/x-python",
   "name": "python",
   "nbconvert_exporter": "python",
   "pygments_lexer": "ipython3",
   "version": "3.10.6"
  }
 },
 "nbformat": 4,
 "nbformat_minor": 5
}