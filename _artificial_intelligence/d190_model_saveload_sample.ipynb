{
 "cells": [
  {
   "cell_type": "code",
   "execution_count": 9,
   "id": "76aa8482-c46f-4b02-891f-e59bbf57db58",
   "metadata": {},
   "outputs": [],
   "source": [
    "# 학습한 모델 저장 예제 (pickle 형태로 모델 저장, .joblib 사용)\n",
    "# joblib 모듈을 이용하면 위 예시처럼 dump 함수와 load 함수만으로 모델을 바로 저장하고 불러올 수 있어 훨씬 직관적으로 사용"
   ]
  },
  {
   "cell_type": "code",
   "execution_count": 1,
   "id": "bbb73bff-0a5f-478c-bb94-6db776e77261",
   "metadata": {},
   "outputs": [
    {
     "data": {
      "text/plain": [
       "['./knn_model.pkl']"
      ]
     },
     "execution_count": 1,
     "metadata": {},
     "output_type": "execute_result"
    }
   ],
   "source": [
    "from sklearn import datasets\n",
    "from sklearn.neighbors import KNeighborsClassifier\n",
    "import joblib\n",
    "\n",
    "# 사이킷런에서 붓꽃 품종 데이터\n",
    "dataset = datasets.load_iris()\n",
    "\n",
    "# 입력 데이터와 타깃을 준비\n",
    "X, y = dataset['data'], dataset['target']\n",
    "\n",
    "# K 최근접 이웃 모델 객체를 만듬\n",
    "model = KNeighborsClassifier(n_neighbors=5)\n",
    "\n",
    "# K 최근접 이웃 모델에 입력 데이터와 타깃을 입력하고 학습\n",
    "model.fit(X, y)\n",
    "\n",
    "# 학습시킨 모델을 현재 경로에 knn_model.pkl 파일로 저장\n",
    "joblib.dump(model, './knn_model.pkl')"
   ]
  },
  {
   "cell_type": "code",
   "execution_count": 7,
   "id": "16595e8f-c513-494d-bfdf-b9963c50bd47",
   "metadata": {},
   "outputs": [],
   "source": [
    "# 학습한 모델 불러오기"
   ]
  },
  {
   "cell_type": "code",
   "execution_count": 8,
   "id": "f66d345a-eae8-49bd-9577-df4a64602d8e",
   "metadata": {},
   "outputs": [
    {
     "name": "stdout",
     "output_type": "stream",
     "text": [
      "정확도: 0.967\n"
     ]
    }
   ],
   "source": [
    "import joblib\n",
    "\n",
    "# 모델을 불러와 변수에 저장\n",
    "loaded_model = joblib.load('./knn_model.pkl')\n",
    "\n",
    "# 모델의 정확도를 출력\n",
    "score = loaded_model.score(X, y)\n",
    "print('정확도: {score:.3f}'.format(score=score))"
   ]
  },
  {
   "cell_type": "code",
   "execution_count": null,
   "id": "7d62b65f-ba37-4ea6-b3d2-b0d361353fa4",
   "metadata": {},
   "outputs": [],
   "source": []
  }
 ],
 "metadata": {
  "kernelspec": {
   "display_name": "Python 3 (ipykernel)",
   "language": "python",
   "name": "python3"
  },
  "language_info": {
   "codemirror_mode": {
    "name": "ipython",
    "version": 3
   },
   "file_extension": ".py",
   "mimetype": "text/x-python",
   "name": "python",
   "nbconvert_exporter": "python",
   "pygments_lexer": "ipython3",
   "version": "3.10.8"
  }
 },
 "nbformat": 4,
 "nbformat_minor": 5
}
