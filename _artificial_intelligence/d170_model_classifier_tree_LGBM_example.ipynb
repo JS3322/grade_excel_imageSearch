{
 "cells": [
  {
   "cell_type": "code",
   "execution_count": 1,
   "id": "8ace3923-a463-4c31-82aa-23c0a9f48ac2",
   "metadata": {},
   "outputs": [],
   "source": [
    "# LGBM example\n",
    "# n_estimatiors : 트리의 갯수, 높을 수록 정확도가 높아지나 시간이 오래 걸림. (int)\n",
    "# n_jobs : 병렬처리 여부, -1을 입력하면 컴퓨터에 존재하는 모든 코어를 사용.\n",
    "# random_state : 결과를 고정시킴, Seed Number와 같은 개념 (int)\n",
    "# max_depth : 생성할 결정 트리의 깊이 (int)\n",
    "# learning_rate : 훈련양, 학습할 때 모델을 얼마나 업데이트 할 것인지 (float)\n",
    "# colsample_bytree : 열 샘플링에 사용하는 비율 (float)\n",
    "# subsample : 행 샘플링에 사용하는 비율 (float)\n",
    "# reg_alpha : L1 정규화 계수 (float)\n",
    "# reg_lambda : L2 정규화 계수 (float)\n",
    "# boosting_type : 부스팅 방법 (gbdt / rf / dart / goss)"
   ]
  },
  {
   "cell_type": "code",
   "execution_count": 2,
   "id": "1a2066bc-4e90-4ef5-b0a2-7cc94b6e5b09",
   "metadata": {},
   "outputs": [],
   "source": [
    "from lightgbm import LGBMClassifier\n",
    "# lgb = LGBMClassifier()\n",
    "lgb = LGBMClassifier(random_state=200, n_jobs=-1, reg_alpha=0.9, reg_lambda=0.2)"
   ]
  },
  {
   "cell_type": "code",
   "execution_count": 3,
   "id": "2393b801-651e-44c6-b537-6f38759a7e02",
   "metadata": {},
   "outputs": [],
   "source": [
    "import sklearn.datasets as datasets # csv로 되어 있는 데이터 패키지\n",
    "import sklearn.model_selection as model_selection # 독립변수, 종속변수 등 피처 구분\n",
    "import sklearn.neural_network as neural_network # 시냅스 형태의 함수를 만드는 패키지\n",
    "import sklearn.preprocessing as preprocessing # 전처리 도구들 패키지"
   ]
  },
  {
   "cell_type": "code",
   "execution_count": 4,
   "id": "116609ff-7021-4d0d-9217-3be5d1f9a4eb",
   "metadata": {},
   "outputs": [
    {
     "name": "stdout",
     "output_type": "stream",
     "text": [
      "MNIST 데이터를 구합니다...\n"
     ]
    },
    {
     "name": "stderr",
     "output_type": "stream",
     "text": [
      "/opt/conda/lib/python3.10/site-packages/sklearn/datasets/_openml.py:932: FutureWarning: The default value of `parser` will change from `'liac-arff'` to `'auto'` in 1.4. You can set `parser='auto'` to silence this warning. Therefore, an `ImportError` will be raised from 1.4 if the dataset is dense and pandas is not installed. Note that the pandas parser may return different data types. See the Notes Section in fetch_openml's API doc for details.\n",
      "  warn(\n"
     ]
    },
    {
     "name": "stdout",
     "output_type": "stream",
     "text": [
      "MNIST 데이터를 다운로드 했습니다.\n"
     ]
    }
   ],
   "source": [
    "print(\"MNIST 데이터를 구합니다...\")\n",
    "mnistBunch = datasets.fetch_openml(\"mnist_784\")\n",
    "\n",
    "print(\"MNIST 데이터를 다운로드 했습니다.\")\n",
    "\n",
    "imageNDArray = mnistBunch.data # 독립변수(피처)\n",
    "labelNDArray = mnistBunch.target # 종속변수"
   ]
  },
  {
   "cell_type": "code",
   "execution_count": 7,
   "id": "683d1c2b-35e8-41cb-a245-5ff6ada2086f",
   "metadata": {},
   "outputs": [],
   "source": [
    "imageNDArray = preprocessing.normalize(imageNDArray, norm = \"l2\") # \"l1\" 정규화도 사용 가능\n",
    "\n",
    "trainImageNDArray, testImageNDArray, trainLabelNDArray, testLabelNDArray = model_selection.train_test_split(imageNDArray, labelNDArray, test_size = 0.25, random_state = 17)"
   ]
  },
  {
   "cell_type": "code",
   "execution_count": 8,
   "id": "357d6f17-7375-4dd0-a8b7-e1999e5d4b00",
   "metadata": {},
   "outputs": [
    {
     "name": "stdout",
     "output_type": "stream",
     "text": [
      "신경망 학습을 완료했습니다.\n"
     ]
    }
   ],
   "source": [
    "lgb.fit(trainImageNDArray, trainLabelNDArray)\n",
    "\n",
    "print(\"신경망 학습을 완료했습니다.\")"
   ]
  },
  {
   "cell_type": "code",
   "execution_count": 9,
   "id": "363f009b-8cdb-4b65-ab3e-0c98976dd3d0",
   "metadata": {},
   "outputs": [
    {
     "data": {
      "text/plain": [
       "0.9774285714285714"
      ]
     },
     "execution_count": 9,
     "metadata": {},
     "output_type": "execute_result"
    }
   ],
   "source": [
    "lgb.score(testImageNDArray, testLabelNDArray)"
   ]
  },
  {
   "cell_type": "code",
   "execution_count": 10,
   "id": "1b76b1e4-6b7d-4246-9e3c-4f1ca97be92e",
   "metadata": {},
   "outputs": [],
   "source": [
    "# y_pred = lgb.predict(testImageNDArray)"
   ]
  },
  {
   "cell_type": "code",
   "execution_count": 11,
   "id": "24b639a3-222e-4895-b992-b60d9287eb2c",
   "metadata": {},
   "outputs": [],
   "source": [
    "from PIL import Image\n",
    "import numpy as np"
   ]
  },
  {
   "cell_type": "code",
   "execution_count": 12,
   "id": "a5490d4e-f3de-438a-9d61-be0a30836299",
   "metadata": {},
   "outputs": [
    {
     "data": {
      "text/plain": [
       "array(['3'], dtype=object)"
      ]
     },
     "execution_count": 12,
     "metadata": {},
     "output_type": "execute_result"
    }
   ],
   "source": [
    "img = Image.open('./test_number.png').convert('L')\n",
    "img = np.resize(img, (1, 784))\n",
    "test_data = ((np.array(img) / 255) - 1) * -1\n",
    "result = lgb.predict(test_data)\n",
    "result"
   ]
  },
  {
   "cell_type": "code",
   "execution_count": null,
   "id": "3a7acb0f-a5af-4b2e-bdac-d8319c9a1ac0",
   "metadata": {},
   "outputs": [],
   "source": []
  },
  {
   "cell_type": "code",
   "execution_count": null,
   "id": "f341d984-d1fb-4b33-9729-1c860f3aca29",
   "metadata": {},
   "outputs": [],
   "source": []
  },
  {
   "cell_type": "code",
   "execution_count": null,
   "id": "eced0b55-03d9-4d33-8b07-3547e5a3ca78",
   "metadata": {},
   "outputs": [],
   "source": []
  },
  {
   "cell_type": "code",
   "execution_count": 3,
   "id": "bb2ff375-1c13-4283-a106-7957752b16b0",
   "metadata": {},
   "outputs": [],
   "source": []
  },
  {
   "cell_type": "code",
   "execution_count": null,
   "id": "f0039510-7034-4883-8b65-e9ecabfabe76",
   "metadata": {},
   "outputs": [],
   "source": []
  }
 ],
 "metadata": {
  "kernelspec": {
   "display_name": "Python 3 (ipykernel)",
   "language": "python",
   "name": "python3"
  },
  "language_info": {
   "codemirror_mode": {
    "name": "ipython",
    "version": 3
   },
   "file_extension": ".py",
   "mimetype": "text/x-python",
   "name": "python",
   "nbconvert_exporter": "python",
   "pygments_lexer": "ipython3",
   "version": "3.10.8"
  }
 },
 "nbformat": 4,
 "nbformat_minor": 5
}
