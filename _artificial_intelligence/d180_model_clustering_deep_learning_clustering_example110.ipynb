{
 "cells": [
  {
   "cell_type": "code",
   "execution_count": 1,
   "id": "115dfede-ab4b-4a8b-b70e-159254c64273",
   "metadata": {},
   "outputs": [],
   "source": [
    "# 결측치 전처리, 회귀 <-> 분류 (Data Encoding : Label encoding, One Hot encoding)\n",
    "# one hot encoding : 단어 집합 크기를 백터 차원으로 표현\n",
    "# split()데이터셋 > fit()모델학습 > predict()예측적용\n",
    "\n",
    "# 자연어 특징 추출\n",
    "# text를 수치화 하는 법\n",
    "from sklearn.feature_extraction.text import CountVectorizer"
   ]
  },
  {
   "cell_type": "code",
   "execution_count": 7,
   "id": "35d75986-d4f9-4f6c-84d6-436c9a737788",
   "metadata": {},
   "outputs": [
    {
     "name": "stdout",
     "output_type": "stream",
     "text": [
      "{'나는': 0, '사람이다': 3, '사람은': 2, '생각한다': 6, '생각하면': 5, '사람인가': 4, '배고프면': 1, '생물이다': 7}\n"
     ]
    }
   ],
   "source": [
    "# countVectorizer : 각 텍스트에서 횟수를 기준으로 특징 추출\n",
    "# 토큰 리스트로 변환하여 토큰의 출현 빈도 측정하고, BOW 인코딩 벡터로 변환\n",
    "data = ['나는 사람이다', '사람은 생각한다', '나는 생각한다', '생각하면 사람인가', '배고프면 생물이다']\n",
    "cv = CountVectorizer()\n",
    "cv.fit(data)\n",
    "print(cv.vocabulary_)"
   ]
  },
  {
   "cell_type": "code",
   "execution_count": 8,
   "id": "0f7baaf1-1c1c-4bf4-8e7a-0aa7106486e2",
   "metadata": {},
   "outputs": [
    {
     "name": "stdout",
     "output_type": "stream",
     "text": [
      "['나는 사람이다']\n",
      "[[1 0 0 1 0 0 0 0]]\n"
     ]
    }
   ],
   "source": [
    "sentence = [data[0]]\n",
    "print(sentence)\n",
    "print(cv.transform(sentence).toarray())"
   ]
  },
  {
   "cell_type": "code",
   "execution_count": 9,
   "id": "924c1d19-8106-49e9-8629-a539aa536c7d",
   "metadata": {},
   "outputs": [
    {
     "name": "stdout",
     "output_type": "stream",
     "text": [
      "{'나는': 0, '사람이다': 3, '사람은': 2, '생각한다': 6, '생각하면': 5, '사람인가': 4, '배고프면': 1, '생물이다': 7}\n"
     ]
    }
   ],
   "source": [
    "# TfidVectorizer : use TF-IDF 서로 곱하기 : \n",
    "# 어떤 단어가 해당 문서에는 자주 등장하지만 다른 문서에 없으면 높은 값을 가지는 가중치\n",
    "from sklearn.feature_extraction.text import TfidfVectorizer\n",
    "tfv = TfidfVectorizer()\n",
    "tfv.fit(data)\n",
    "print(tfv.vocabulary_)"
   ]
  },
  {
   "cell_type": "code",
   "execution_count": 10,
   "id": "1f6cd60e-1420-418d-a36f-d721b5a2226e",
   "metadata": {},
   "outputs": [
    {
     "name": "stdout",
     "output_type": "stream",
     "text": [
      "[[0.62791376 0.         0.         0.77828292 0.         0.\n",
      "  0.         0.        ]\n",
      " [0.         0.         0.77828292 0.         0.         0.\n",
      "  0.62791376 0.        ]\n",
      " [0.70710678 0.         0.         0.         0.         0.\n",
      "  0.70710678 0.        ]\n",
      " [0.         0.         0.         0.         0.70710678 0.70710678\n",
      "  0.         0.        ]\n",
      " [0.         0.70710678 0.         0.         0.         0.\n",
      "  0.         0.70710678]]\n"
     ]
    }
   ],
   "source": [
    "sentence = [data[3]] \n",
    "print(tfv.transform(data).toarray())"
   ]
  },
  {
   "cell_type": "code",
   "execution_count": null,
   "id": "93aa73fb-1a6b-4212-9021-da55845947f9",
   "metadata": {},
   "outputs": [],
   "source": []
  }
 ],
 "metadata": {
  "kernelspec": {
   "display_name": "Python 3 (ipykernel)",
   "language": "python",
   "name": "python3"
  },
  "language_info": {
   "codemirror_mode": {
    "name": "ipython",
    "version": 3
   },
   "file_extension": ".py",
   "mimetype": "text/x-python",
   "name": "python",
   "nbconvert_exporter": "python",
   "pygments_lexer": "ipython3",
   "version": "3.10.8"
  }
 },
 "nbformat": 4,
 "nbformat_minor": 5
}
