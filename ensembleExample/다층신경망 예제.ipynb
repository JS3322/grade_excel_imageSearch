{
 "cells": [
  {
   "cell_type": "code",
   "execution_count": 1,
   "id": "fa01a288-4511-49a4-9d5c-fd8bd9cb7ad6",
   "metadata": {},
   "outputs": [],
   "source": [
    "# use MLP classifier"
   ]
  },
  {
   "cell_type": "code",
   "execution_count": 2,
   "id": "e8763e52-94d6-4548-9860-e320bcfc1588",
   "metadata": {},
   "outputs": [
    {
     "data": {
      "text/plain": [
       "0.989010989010989"
      ]
     },
     "execution_count": 2,
     "metadata": {},
     "output_type": "execute_result"
    }
   ],
   "source": [
    "from sklearn.neural_network import MLPClassifier\n",
    "from sklearn.datasets import load_breast_cancer\n",
    "from sklearn.model_selection import train_test_split\n",
    "from sklearn.preprocessing import StandardScaler\n",
    "import numpy as np\n",
    " \n",
    "cancer = load_breast_cancer()      # 사이킷런에서 유방암 데이터 가져오기\n",
    "x=cancer.data                # x축에 input 데이터 나열\n",
    "y=cancer.target              # y축에 타겟 데이터 나열\n",
    "x_train_all, x_test, y_train_all, y_test = \\\n",
    "  train_test_split(x,y,stratify=y,test_size=0.2,random_state=42)  # 훈련 데이터와 테스트 데이터 분류\n",
    "x_train, x_val, y_train, y_val = \\\n",
    "  train_test_split(x_train_all,y_train_all,stratify=y_train_all, \\\n",
    "                   test_size=0.2,random_state=42)  # 훈련 데이터와 검증 데이터 분류\n",
    " \n",
    "scaler = StandardScaler()   # 객체 만들기\n",
    "scaler.fit(x_train)     # 변환 규칙을 익히기\n",
    "x_train_scaled = scaler.transform(x_train)  # 데이터를 표준화 전처리\n",
    "x_val_scaled = scaler.transform(x_val)      # 데이터를 표준화 전처리\n",
    " \n",
    "mlp = MLPClassifier(hidden_layer_sizes=(10,), activation='logistic', \\\n",
    "                    solver='sgd', alpha=0.01, batch_size=32, \\\n",
    "                    learning_rate_init=0.1, max_iter=500)  # 객체 생성\n",
    " \n",
    "mlp.fit(x_train_scaled, y_train)    # 훈련하기\n",
    "mlp.score(x_val_scaled, y_val)      # 정확도 평가"
   ]
  },
  {
   "cell_type": "code",
   "execution_count": null,
   "id": "70ddee44-17b5-44f7-aee9-da6c369240e5",
   "metadata": {},
   "outputs": [],
   "source": []
  }
 ],
 "metadata": {
  "kernelspec": {
   "display_name": "Python 3 (ipykernel)",
   "language": "python",
   "name": "python3"
  },
  "language_info": {
   "codemirror_mode": {
    "name": "ipython",
    "version": 3
   },
   "file_extension": ".py",
   "mimetype": "text/x-python",
   "name": "python",
   "nbconvert_exporter": "python",
   "pygments_lexer": "ipython3",
   "version": "3.9.12"
  }
 },
 "nbformat": 4,
 "nbformat_minor": 5
}
