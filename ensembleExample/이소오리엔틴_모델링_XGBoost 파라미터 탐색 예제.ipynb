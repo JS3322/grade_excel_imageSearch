{
 "cells": [
  {
   "cell_type": "markdown",
   "id": "25ddf1dc",
   "metadata": {
    "ExecuteTime": {
     "end_time": "2021-10-06T03:06:21.591381Z",
     "start_time": "2021-10-06T03:06:21.586833Z"
    },
    "id": "25ddf1dc"
   },
   "source": [
    "# 이소오리엔틴 회귀모델 LightGBM"
   ]
  },
  {
   "cell_type": "markdown",
   "id": "1584d18c",
   "metadata": {
    "id": "1584d18c"
   },
   "source": [
    "## 전처리 데이터 불러오기"
   ]
  },
  {
   "cell_type": "code",
   "execution_count": 1,
   "id": "S-cYof1pTg1O",
   "metadata": {
    "ExecuteTime": {
     "end_time": "2021-10-06T05:46:25.306242Z",
     "start_time": "2021-10-06T05:46:25.207045Z"
    },
    "id": "S-cYof1pTg1O"
   },
   "outputs": [],
   "source": [
    "#실험군 스케일링 데이터 불러오기\n",
    "import pandas as pd\n",
    "\n",
    "df_exp_scaled = pd.read_csv('df_exp_scale.csv')"
   ]
  },
  {
   "cell_type": "code",
   "execution_count": 2,
   "id": "y5mIDRZWTgzI",
   "metadata": {
    "ExecuteTime": {
     "end_time": "2021-10-06T05:46:25.896331Z",
     "start_time": "2021-10-06T05:46:25.870302Z"
    },
    "colab": {
     "base_uri": "https://localhost:8080/",
     "height": 423
    },
    "id": "y5mIDRZWTgzI",
    "outputId": "1c767644-b118-49ad-fd1b-4225cf38a441"
   },
   "outputs": [
    {
     "data": {
      "text/html": [
       "<div>\n",
       "<style scoped>\n",
       "    .dataframe tbody tr th:only-of-type {\n",
       "        vertical-align: middle;\n",
       "    }\n",
       "\n",
       "    .dataframe tbody tr th {\n",
       "        vertical-align: top;\n",
       "    }\n",
       "\n",
       "    .dataframe thead th {\n",
       "        text-align: right;\n",
       "    }\n",
       "</style>\n",
       "<table border=\"1\" class=\"dataframe\">\n",
       "  <thead>\n",
       "    <tr style=\"text-align: right;\">\n",
       "      <th></th>\n",
       "      <th>Unnamed: 0</th>\n",
       "      <th>air_temp</th>\n",
       "      <th>air_humid</th>\n",
       "      <th>air_co2</th>\n",
       "      <th>air_lux</th>\n",
       "      <th>ingredient</th>\n",
       "    </tr>\n",
       "  </thead>\n",
       "  <tbody>\n",
       "    <tr>\n",
       "      <th>0</th>\n",
       "      <td>0</td>\n",
       "      <td>1.44</td>\n",
       "      <td>-0.53</td>\n",
       "      <td>0.26</td>\n",
       "      <td>-0.32</td>\n",
       "      <td>1.65</td>\n",
       "    </tr>\n",
       "    <tr>\n",
       "      <th>1</th>\n",
       "      <td>1</td>\n",
       "      <td>0.96</td>\n",
       "      <td>-1.66</td>\n",
       "      <td>1.59</td>\n",
       "      <td>-0.32</td>\n",
       "      <td>-1.05</td>\n",
       "    </tr>\n",
       "    <tr>\n",
       "      <th>2</th>\n",
       "      <td>2</td>\n",
       "      <td>1.03</td>\n",
       "      <td>-0.10</td>\n",
       "      <td>-0.37</td>\n",
       "      <td>-0.22</td>\n",
       "      <td>-0.30</td>\n",
       "    </tr>\n",
       "    <tr>\n",
       "      <th>3</th>\n",
       "      <td>3</td>\n",
       "      <td>1.31</td>\n",
       "      <td>-0.55</td>\n",
       "      <td>0.73</td>\n",
       "      <td>-0.29</td>\n",
       "      <td>-1.05</td>\n",
       "    </tr>\n",
       "    <tr>\n",
       "      <th>4</th>\n",
       "      <td>4</td>\n",
       "      <td>1.11</td>\n",
       "      <td>0.21</td>\n",
       "      <td>-0.31</td>\n",
       "      <td>-0.35</td>\n",
       "      <td>1.65</td>\n",
       "    </tr>\n",
       "    <tr>\n",
       "      <th>...</th>\n",
       "      <td>...</td>\n",
       "      <td>...</td>\n",
       "      <td>...</td>\n",
       "      <td>...</td>\n",
       "      <td>...</td>\n",
       "      <td>...</td>\n",
       "    </tr>\n",
       "    <tr>\n",
       "      <th>132107</th>\n",
       "      <td>132107</td>\n",
       "      <td>0.09</td>\n",
       "      <td>-2.51</td>\n",
       "      <td>1.22</td>\n",
       "      <td>-0.32</td>\n",
       "      <td>-1.05</td>\n",
       "    </tr>\n",
       "    <tr>\n",
       "      <th>132108</th>\n",
       "      <td>132108</td>\n",
       "      <td>-0.11</td>\n",
       "      <td>-2.59</td>\n",
       "      <td>1.13</td>\n",
       "      <td>-0.32</td>\n",
       "      <td>-0.30</td>\n",
       "    </tr>\n",
       "    <tr>\n",
       "      <th>132109</th>\n",
       "      <td>132109</td>\n",
       "      <td>0.11</td>\n",
       "      <td>-2.50</td>\n",
       "      <td>1.09</td>\n",
       "      <td>-0.32</td>\n",
       "      <td>-1.05</td>\n",
       "    </tr>\n",
       "    <tr>\n",
       "      <th>132110</th>\n",
       "      <td>132110</td>\n",
       "      <td>0.17</td>\n",
       "      <td>-2.51</td>\n",
       "      <td>0.10</td>\n",
       "      <td>-0.35</td>\n",
       "      <td>1.65</td>\n",
       "    </tr>\n",
       "    <tr>\n",
       "      <th>132111</th>\n",
       "      <td>132111</td>\n",
       "      <td>0.17</td>\n",
       "      <td>-2.69</td>\n",
       "      <td>1.22</td>\n",
       "      <td>-0.29</td>\n",
       "      <td>-0.30</td>\n",
       "    </tr>\n",
       "  </tbody>\n",
       "</table>\n",
       "<p>132112 rows × 6 columns</p>\n",
       "</div>"
      ],
      "text/plain": [
       "        Unnamed: 0  air_temp  air_humid  air_co2  air_lux  ingredient\n",
       "0                0      1.44      -0.53     0.26    -0.32        1.65\n",
       "1                1      0.96      -1.66     1.59    -0.32       -1.05\n",
       "2                2      1.03      -0.10    -0.37    -0.22       -0.30\n",
       "3                3      1.31      -0.55     0.73    -0.29       -1.05\n",
       "4                4      1.11       0.21    -0.31    -0.35        1.65\n",
       "...            ...       ...        ...      ...      ...         ...\n",
       "132107      132107      0.09      -2.51     1.22    -0.32       -1.05\n",
       "132108      132108     -0.11      -2.59     1.13    -0.32       -0.30\n",
       "132109      132109      0.11      -2.50     1.09    -0.32       -1.05\n",
       "132110      132110      0.17      -2.51     0.10    -0.35        1.65\n",
       "132111      132111      0.17      -2.69     1.22    -0.29       -0.30\n",
       "\n",
       "[132112 rows x 6 columns]"
      ]
     },
     "execution_count": 2,
     "metadata": {},
     "output_type": "execute_result"
    }
   ],
   "source": [
    "df_exp_scaled"
   ]
  },
  {
   "cell_type": "markdown",
   "id": "N27tkRPITqB2",
   "metadata": {
    "id": "N27tkRPITqB2"
   },
   "source": [
    "## 독립변수, 목표변수 데이터 할당"
   ]
  },
  {
   "cell_type": "code",
   "execution_count": 3,
   "id": "vs5p1fI9Tgxm",
   "metadata": {
    "ExecuteTime": {
     "end_time": "2021-10-06T05:46:27.107689Z",
     "start_time": "2021-10-06T05:46:27.092279Z"
    },
    "id": "vs5p1fI9Tgxm"
   },
   "outputs": [],
   "source": [
    "X=df_exp_scaled.iloc[:, 1:5]"
   ]
  },
  {
   "cell_type": "code",
   "execution_count": 4,
   "id": "AtHXt10fq8BW",
   "metadata": {
    "colab": {
     "base_uri": "https://localhost:8080/"
    },
    "id": "AtHXt10fq8BW",
    "outputId": "4e3ab68b-6900-4139-a294-fd5c7414b35c"
   },
   "outputs": [
    {
     "data": {
      "text/plain": [
       "(132112, 4)"
      ]
     },
     "execution_count": 4,
     "metadata": {},
     "output_type": "execute_result"
    }
   ],
   "source": [
    "X.shape"
   ]
  },
  {
   "cell_type": "code",
   "execution_count": 5,
   "id": "fWH_riOuTguh",
   "metadata": {
    "ExecuteTime": {
     "end_time": "2021-10-06T05:46:27.659114Z",
     "start_time": "2021-10-06T05:46:27.655965Z"
    },
    "id": "fWH_riOuTguh"
   },
   "outputs": [],
   "source": [
    "Y=df_exp_scaled['ingredient'].values"
   ]
  },
  {
   "cell_type": "markdown",
   "id": "f708c5ae",
   "metadata": {
    "id": "f708c5ae"
   },
   "source": [
    "## train,test set split"
   ]
  },
  {
   "cell_type": "code",
   "execution_count": 6,
   "id": "8CDSBvCtTgsX",
   "metadata": {
    "ExecuteTime": {
     "end_time": "2021-10-06T05:46:29.134553Z",
     "start_time": "2021-10-06T05:46:29.104375Z"
    },
    "id": "8CDSBvCtTgsX"
   },
   "outputs": [],
   "source": [
    "from sklearn.model_selection import train_test_split                            #Test, Train 세트 라이브러리 불러오기\n",
    "\n",
    "#테스트,트레인 세트 데이터 셋 분할 및 할당\n",
    "X_train, X_test, Y_train, Y_test = train_test_split(X, Y, \n",
    "                                                    test_size=0.3, \n",
    "                                                    random_state=50)"
   ]
  },
  {
   "cell_type": "markdown",
   "id": "cGMYul62WCHS",
   "metadata": {
    "id": "cGMYul62WCHS"
   },
   "source": [
    "## RandomForest 실험군 모델링"
   ]
  },
  {
   "cell_type": "code",
   "execution_count": 7,
   "id": "v0F6aKfHWUI1",
   "metadata": {
    "ExecuteTime": {
     "end_time": "2021-10-06T05:46:49.295429Z",
     "start_time": "2021-10-06T05:46:49.291957Z"
    },
    "colab": {
     "base_uri": "https://localhost:8080/"
    },
    "id": "v0F6aKfHWUI1",
    "outputId": "86adc60d-e687-4fb6-847a-537e8eda34bc"
   },
   "outputs": [
    {
     "data": {
      "text/plain": [
       "Index(['Unnamed: 0', 'air_temp', 'air_humid', 'air_co2', 'air_lux',\n",
       "       'ingredient'],\n",
       "      dtype='object')"
      ]
     },
     "execution_count": 7,
     "metadata": {},
     "output_type": "execute_result"
    }
   ],
   "source": [
    "df_exp_scaled.columns"
   ]
  },
  {
   "cell_type": "code",
   "execution_count": 8,
   "id": "BrG5eTYZWTy_",
   "metadata": {
    "ExecuteTime": {
     "end_time": "2021-10-06T05:46:49.319778Z",
     "start_time": "2021-10-06T05:46:49.316959Z"
    },
    "colab": {
     "base_uri": "https://localhost:8080/"
    },
    "id": "BrG5eTYZWTy_",
    "outputId": "28dbca11-1588-4b33-b722-7fc66df0ea64"
   },
   "outputs": [
    {
     "data": {
      "text/plain": [
       "(92478, 4)"
      ]
     },
     "execution_count": 8,
     "metadata": {},
     "output_type": "execute_result"
    }
   ],
   "source": [
    "X_train.shape"
   ]
  },
  {
   "cell_type": "code",
   "execution_count": 9,
   "id": "0d39c84f",
   "metadata": {},
   "outputs": [
    {
     "data": {
      "text/plain": [
       "0.7190269446455434"
      ]
     },
     "execution_count": 9,
     "metadata": {},
     "output_type": "execute_result"
    }
   ],
   "source": [
    "from xgboost import XGBRegressor\n",
    "from sklearn.metrics import r2_score\n",
    "\n",
    "xgb = XGBRegressor()\n",
    "xgb.fit(X_train, Y_train)\n",
    "r2_score(Y_test, xgb.predict(X_test))"
   ]
  },
  {
   "cell_type": "code",
   "execution_count": 13,
   "id": "17004956",
   "metadata": {},
   "outputs": [
    {
     "name": "stdout",
     "output_type": "stream",
     "text": [
      "Fitting 5 folds for each of 36 candidates, totalling 180 fits\n",
      "[CV 1/5; 1/36] START eta=0, max_depth=7, subsample=0.5..........................\n",
      "[CV 1/5; 1/36] END eta=0, max_depth=7, subsample=0.5;, score=-0.240 total time=   2.6s\n",
      "[CV 2/5; 1/36] START eta=0, max_depth=7, subsample=0.5..........................\n",
      "[CV 2/5; 1/36] END eta=0, max_depth=7, subsample=0.5;, score=-0.262 total time=   2.6s\n",
      "[CV 3/5; 1/36] START eta=0, max_depth=7, subsample=0.5..........................\n",
      "[CV 3/5; 1/36] END eta=0, max_depth=7, subsample=0.5;, score=-0.247 total time=   2.6s\n",
      "[CV 4/5; 1/36] START eta=0, max_depth=7, subsample=0.5..........................\n",
      "[CV 4/5; 1/36] END eta=0, max_depth=7, subsample=0.5;, score=-0.246 total time=   2.6s\n",
      "[CV 5/5; 1/36] START eta=0, max_depth=7, subsample=0.5..........................\n",
      "[CV 5/5; 1/36] END eta=0, max_depth=7, subsample=0.5;, score=-0.268 total time=   2.5s\n",
      "[CV 1/5; 2/36] START eta=0, max_depth=7, subsample=0.75.........................\n",
      "[CV 1/5; 2/36] END eta=0, max_depth=7, subsample=0.75;, score=-0.240 total time=   2.6s\n",
      "[CV 2/5; 2/36] START eta=0, max_depth=7, subsample=0.75.........................\n",
      "[CV 2/5; 2/36] END eta=0, max_depth=7, subsample=0.75;, score=-0.262 total time=   2.3s\n",
      "[CV 3/5; 2/36] START eta=0, max_depth=7, subsample=0.75.........................\n",
      "[CV 3/5; 2/36] END eta=0, max_depth=7, subsample=0.75;, score=-0.247 total time=   2.4s\n",
      "[CV 4/5; 2/36] START eta=0, max_depth=7, subsample=0.75.........................\n",
      "[CV 4/5; 2/36] END eta=0, max_depth=7, subsample=0.75;, score=-0.246 total time=   2.4s\n",
      "[CV 5/5; 2/36] START eta=0, max_depth=7, subsample=0.75.........................\n",
      "[CV 5/5; 2/36] END eta=0, max_depth=7, subsample=0.75;, score=-0.268 total time=   2.4s\n",
      "[CV 1/5; 3/36] START eta=0, max_depth=7, subsample=1.0..........................\n",
      "[CV 1/5; 3/36] END eta=0, max_depth=7, subsample=1.0;, score=-0.240 total time=   2.0s\n",
      "[CV 2/5; 3/36] START eta=0, max_depth=7, subsample=1.0..........................\n",
      "[CV 2/5; 3/36] END eta=0, max_depth=7, subsample=1.0;, score=-0.262 total time=   2.3s\n",
      "[CV 3/5; 3/36] START eta=0, max_depth=7, subsample=1.0..........................\n",
      "[CV 3/5; 3/36] END eta=0, max_depth=7, subsample=1.0;, score=-0.247 total time=   2.2s\n",
      "[CV 4/5; 3/36] START eta=0, max_depth=7, subsample=1.0..........................\n",
      "[CV 4/5; 3/36] END eta=0, max_depth=7, subsample=1.0;, score=-0.246 total time=   2.2s\n",
      "[CV 5/5; 3/36] START eta=0, max_depth=7, subsample=1.0..........................\n",
      "[CV 5/5; 3/36] END eta=0, max_depth=7, subsample=1.0;, score=-0.268 total time=   2.3s\n",
      "[CV 1/5; 4/36] START eta=0, max_depth=11, subsample=0.5.........................\n",
      "[CV 1/5; 4/36] END eta=0, max_depth=11, subsample=0.5;, score=-0.240 total time=   4.0s\n",
      "[CV 2/5; 4/36] START eta=0, max_depth=11, subsample=0.5.........................\n",
      "[CV 2/5; 4/36] END eta=0, max_depth=11, subsample=0.5;, score=-0.262 total time=   4.2s\n",
      "[CV 3/5; 4/36] START eta=0, max_depth=11, subsample=0.5.........................\n",
      "[CV 3/5; 4/36] END eta=0, max_depth=11, subsample=0.5;, score=-0.247 total time=   4.3s\n",
      "[CV 4/5; 4/36] START eta=0, max_depth=11, subsample=0.5.........................\n",
      "[CV 4/5; 4/36] END eta=0, max_depth=11, subsample=0.5;, score=-0.246 total time=   4.2s\n",
      "[CV 5/5; 4/36] START eta=0, max_depth=11, subsample=0.5.........................\n",
      "[CV 5/5; 4/36] END eta=0, max_depth=11, subsample=0.5;, score=-0.268 total time=   4.2s\n",
      "[CV 1/5; 5/36] START eta=0, max_depth=11, subsample=0.75........................\n",
      "[CV 1/5; 5/36] END eta=0, max_depth=11, subsample=0.75;, score=-0.240 total time=   4.2s\n",
      "[CV 2/5; 5/36] START eta=0, max_depth=11, subsample=0.75........................\n",
      "[CV 2/5; 5/36] END eta=0, max_depth=11, subsample=0.75;, score=-0.262 total time=   4.3s\n",
      "[CV 3/5; 5/36] START eta=0, max_depth=11, subsample=0.75........................\n",
      "[CV 3/5; 5/36] END eta=0, max_depth=11, subsample=0.75;, score=-0.247 total time=   4.2s\n",
      "[CV 4/5; 5/36] START eta=0, max_depth=11, subsample=0.75........................\n",
      "[CV 4/5; 5/36] END eta=0, max_depth=11, subsample=0.75;, score=-0.246 total time=   4.3s\n",
      "[CV 5/5; 5/36] START eta=0, max_depth=11, subsample=0.75........................\n",
      "[CV 5/5; 5/36] END eta=0, max_depth=11, subsample=0.75;, score=-0.268 total time=   4.2s\n",
      "[CV 1/5; 6/36] START eta=0, max_depth=11, subsample=1.0.........................\n",
      "[CV 1/5; 6/36] END eta=0, max_depth=11, subsample=1.0;, score=-0.240 total time=   4.1s\n",
      "[CV 2/5; 6/36] START eta=0, max_depth=11, subsample=1.0.........................\n",
      "[CV 2/5; 6/36] END eta=0, max_depth=11, subsample=1.0;, score=-0.262 total time=   4.1s\n",
      "[CV 3/5; 6/36] START eta=0, max_depth=11, subsample=1.0.........................\n",
      "[CV 3/5; 6/36] END eta=0, max_depth=11, subsample=1.0;, score=-0.247 total time=   4.1s\n",
      "[CV 4/5; 6/36] START eta=0, max_depth=11, subsample=1.0.........................\n",
      "[CV 4/5; 6/36] END eta=0, max_depth=11, subsample=1.0;, score=-0.246 total time=   4.0s\n",
      "[CV 5/5; 6/36] START eta=0, max_depth=11, subsample=1.0.........................\n",
      "[CV 5/5; 6/36] END eta=0, max_depth=11, subsample=1.0;, score=-0.268 total time=   4.1s\n",
      "[CV 1/5; 7/36] START eta=0, max_depth=13, subsample=0.5.........................\n",
      "[CV 1/5; 7/36] END eta=0, max_depth=13, subsample=0.5;, score=-0.240 total time=   5.1s\n",
      "[CV 2/5; 7/36] START eta=0, max_depth=13, subsample=0.5.........................\n",
      "[CV 2/5; 7/36] END eta=0, max_depth=13, subsample=0.5;, score=-0.262 total time=   5.0s\n",
      "[CV 3/5; 7/36] START eta=0, max_depth=13, subsample=0.5.........................\n",
      "[CV 3/5; 7/36] END eta=0, max_depth=13, subsample=0.5;, score=-0.247 total time=   5.1s\n",
      "[CV 4/5; 7/36] START eta=0, max_depth=13, subsample=0.5.........................\n",
      "[CV 4/5; 7/36] END eta=0, max_depth=13, subsample=0.5;, score=-0.246 total time=   5.0s\n",
      "[CV 5/5; 7/36] START eta=0, max_depth=13, subsample=0.5.........................\n",
      "[CV 5/5; 7/36] END eta=0, max_depth=13, subsample=0.5;, score=-0.268 total time=   5.1s\n",
      "[CV 1/5; 8/36] START eta=0, max_depth=13, subsample=0.75........................\n",
      "[CV 1/5; 8/36] END eta=0, max_depth=13, subsample=0.75;, score=-0.240 total time=   5.1s\n",
      "[CV 2/5; 8/36] START eta=0, max_depth=13, subsample=0.75........................\n",
      "[CV 2/5; 8/36] END eta=0, max_depth=13, subsample=0.75;, score=-0.262 total time=   5.2s\n",
      "[CV 3/5; 8/36] START eta=0, max_depth=13, subsample=0.75........................\n",
      "[CV 3/5; 8/36] END eta=0, max_depth=13, subsample=0.75;, score=-0.247 total time=   5.1s\n",
      "[CV 4/5; 8/36] START eta=0, max_depth=13, subsample=0.75........................\n",
      "[CV 4/5; 8/36] END eta=0, max_depth=13, subsample=0.75;, score=-0.246 total time=   4.7s\n",
      "[CV 5/5; 8/36] START eta=0, max_depth=13, subsample=0.75........................\n",
      "[CV 5/5; 8/36] END eta=0, max_depth=13, subsample=0.75;, score=-0.268 total time=   4.7s\n",
      "[CV 1/5; 9/36] START eta=0, max_depth=13, subsample=1.0.........................\n",
      "[CV 1/5; 9/36] END eta=0, max_depth=13, subsample=1.0;, score=-0.240 total time=   4.6s\n",
      "[CV 2/5; 9/36] START eta=0, max_depth=13, subsample=1.0.........................\n",
      "[CV 2/5; 9/36] END eta=0, max_depth=13, subsample=1.0;, score=-0.262 total time=   4.5s\n",
      "[CV 3/5; 9/36] START eta=0, max_depth=13, subsample=1.0.........................\n",
      "[CV 3/5; 9/36] END eta=0, max_depth=13, subsample=1.0;, score=-0.247 total time=   4.5s\n",
      "[CV 4/5; 9/36] START eta=0, max_depth=13, subsample=1.0.........................\n",
      "[CV 4/5; 9/36] END eta=0, max_depth=13, subsample=1.0;, score=-0.246 total time=   4.5s\n",
      "[CV 5/5; 9/36] START eta=0, max_depth=13, subsample=1.0.........................\n",
      "[CV 5/5; 9/36] END eta=0, max_depth=13, subsample=1.0;, score=-0.268 total time=   4.4s\n",
      "[CV 1/5; 10/36] START eta=0, max_depth=15, subsample=0.5........................\n",
      "[CV 1/5; 10/36] END eta=0, max_depth=15, subsample=0.5;, score=-0.240 total time=   5.2s\n",
      "[CV 2/5; 10/36] START eta=0, max_depth=15, subsample=0.5........................\n",
      "[CV 2/5; 10/36] END eta=0, max_depth=15, subsample=0.5;, score=-0.262 total time=   5.2s\n",
      "[CV 3/5; 10/36] START eta=0, max_depth=15, subsample=0.5........................\n",
      "[CV 3/5; 10/36] END eta=0, max_depth=15, subsample=0.5;, score=-0.247 total time=   5.2s\n",
      "[CV 4/5; 10/36] START eta=0, max_depth=15, subsample=0.5........................\n",
      "[CV 4/5; 10/36] END eta=0, max_depth=15, subsample=0.5;, score=-0.246 total time=   5.2s\n",
      "[CV 5/5; 10/36] START eta=0, max_depth=15, subsample=0.5........................\n",
      "[CV 5/5; 10/36] END eta=0, max_depth=15, subsample=0.5;, score=-0.268 total time=   5.2s\n",
      "[CV 1/5; 11/36] START eta=0, max_depth=15, subsample=0.75.......................\n",
      "[CV 1/5; 11/36] END eta=0, max_depth=15, subsample=0.75;, score=-0.240 total time=   5.3s\n",
      "[CV 2/5; 11/36] START eta=0, max_depth=15, subsample=0.75.......................\n",
      "[CV 2/5; 11/36] END eta=0, max_depth=15, subsample=0.75;, score=-0.262 total time=   5.3s\n",
      "[CV 3/5; 11/36] START eta=0, max_depth=15, subsample=0.75.......................\n",
      "[CV 3/5; 11/36] END eta=0, max_depth=15, subsample=0.75;, score=-0.247 total time=   5.3s\n",
      "[CV 4/5; 11/36] START eta=0, max_depth=15, subsample=0.75.......................\n",
      "[CV 4/5; 11/36] END eta=0, max_depth=15, subsample=0.75;, score=-0.246 total time=   5.3s\n",
      "[CV 5/5; 11/36] START eta=0, max_depth=15, subsample=0.75.......................\n",
      "[CV 5/5; 11/36] END eta=0, max_depth=15, subsample=0.75;, score=-0.268 total time=   5.2s\n",
      "[CV 1/5; 12/36] START eta=0, max_depth=15, subsample=1.0........................\n",
      "[CV 1/5; 12/36] END eta=0, max_depth=15, subsample=1.0;, score=-0.240 total time=   5.3s\n",
      "[CV 2/5; 12/36] START eta=0, max_depth=15, subsample=1.0........................\n",
      "[CV 2/5; 12/36] END eta=0, max_depth=15, subsample=1.0;, score=-0.262 total time=   5.3s\n",
      "[CV 3/5; 12/36] START eta=0, max_depth=15, subsample=1.0........................\n",
      "[CV 3/5; 12/36] END eta=0, max_depth=15, subsample=1.0;, score=-0.247 total time=   5.2s\n",
      "[CV 4/5; 12/36] START eta=0, max_depth=15, subsample=1.0........................\n",
      "[CV 4/5; 12/36] END eta=0, max_depth=15, subsample=1.0;, score=-0.246 total time=   5.3s\n",
      "[CV 5/5; 12/36] START eta=0, max_depth=15, subsample=1.0........................\n",
      "[CV 5/5; 12/36] END eta=0, max_depth=15, subsample=1.0;, score=-0.268 total time=   5.3s\n",
      "[CV 1/5; 13/36] START eta=0.2, max_depth=7, subsample=0.5.......................\n",
      "[CV 1/5; 13/36] END eta=0.2, max_depth=7, subsample=0.5;, score=0.746 total time=   2.3s\n",
      "[CV 2/5; 13/36] START eta=0.2, max_depth=7, subsample=0.5.......................\n",
      "[CV 2/5; 13/36] END eta=0.2, max_depth=7, subsample=0.5;, score=0.746 total time=   2.2s\n",
      "[CV 3/5; 13/36] START eta=0.2, max_depth=7, subsample=0.5.......................\n",
      "[CV 3/5; 13/36] END eta=0.2, max_depth=7, subsample=0.5;, score=0.745 total time=   2.2s\n",
      "[CV 4/5; 13/36] START eta=0.2, max_depth=7, subsample=0.5.......................\n",
      "[CV 4/5; 13/36] END eta=0.2, max_depth=7, subsample=0.5;, score=0.742 total time=   2.2s\n",
      "[CV 5/5; 13/36] START eta=0.2, max_depth=7, subsample=0.5.......................\n",
      "[CV 5/5; 13/36] END eta=0.2, max_depth=7, subsample=0.5;, score=0.751 total time=   2.3s\n",
      "[CV 1/5; 14/36] START eta=0.2, max_depth=7, subsample=0.75......................\n",
      "[CV 1/5; 14/36] END eta=0.2, max_depth=7, subsample=0.75;, score=0.746 total time=   2.1s\n",
      "[CV 2/5; 14/36] START eta=0.2, max_depth=7, subsample=0.75......................\n",
      "[CV 2/5; 14/36] END eta=0.2, max_depth=7, subsample=0.75;, score=0.743 total time=   2.1s\n",
      "[CV 3/5; 14/36] START eta=0.2, max_depth=7, subsample=0.75......................\n",
      "[CV 3/5; 14/36] END eta=0.2, max_depth=7, subsample=0.75;, score=0.754 total time=   2.2s\n",
      "[CV 4/5; 14/36] START eta=0.2, max_depth=7, subsample=0.75......................\n",
      "[CV 4/5; 14/36] END eta=0.2, max_depth=7, subsample=0.75;, score=0.749 total time=   2.1s\n",
      "[CV 5/5; 14/36] START eta=0.2, max_depth=7, subsample=0.75......................\n",
      "[CV 5/5; 14/36] END eta=0.2, max_depth=7, subsample=0.75;, score=0.754 total time=   2.4s\n",
      "[CV 1/5; 15/36] START eta=0.2, max_depth=7, subsample=1.0.......................\n",
      "[CV 1/5; 15/36] END eta=0.2, max_depth=7, subsample=1.0;, score=0.741 total time=   2.1s\n",
      "[CV 2/5; 15/36] START eta=0.2, max_depth=7, subsample=1.0.......................\n",
      "[CV 2/5; 15/36] END eta=0.2, max_depth=7, subsample=1.0;, score=0.743 total time=   2.1s\n",
      "[CV 3/5; 15/36] START eta=0.2, max_depth=7, subsample=1.0.......................\n",
      "[CV 3/5; 15/36] END eta=0.2, max_depth=7, subsample=1.0;, score=0.740 total time=   2.1s\n",
      "[CV 4/5; 15/36] START eta=0.2, max_depth=7, subsample=1.0.......................\n",
      "[CV 4/5; 15/36] END eta=0.2, max_depth=7, subsample=1.0;, score=0.737 total time=   2.2s\n",
      "[CV 5/5; 15/36] START eta=0.2, max_depth=7, subsample=1.0.......................\n",
      "[CV 5/5; 15/36] END eta=0.2, max_depth=7, subsample=1.0;, score=0.739 total time=   2.2s\n",
      "[CV 1/5; 16/36] START eta=0.2, max_depth=11, subsample=0.5......................\n",
      "[CV 1/5; 16/36] END eta=0.2, max_depth=11, subsample=0.5;, score=0.841 total time=   4.1s\n",
      "[CV 2/5; 16/36] START eta=0.2, max_depth=11, subsample=0.5......................\n",
      "[CV 2/5; 16/36] END eta=0.2, max_depth=11, subsample=0.5;, score=0.849 total time=   4.1s\n",
      "[CV 3/5; 16/36] START eta=0.2, max_depth=11, subsample=0.5......................\n",
      "[CV 3/5; 16/36] END eta=0.2, max_depth=11, subsample=0.5;, score=0.841 total time=   4.1s\n",
      "[CV 4/5; 16/36] START eta=0.2, max_depth=11, subsample=0.5......................\n",
      "[CV 4/5; 16/36] END eta=0.2, max_depth=11, subsample=0.5;, score=0.842 total time=   4.3s\n",
      "[CV 5/5; 16/36] START eta=0.2, max_depth=11, subsample=0.5......................\n",
      "[CV 5/5; 16/36] END eta=0.2, max_depth=11, subsample=0.5;, score=0.839 total time=   3.8s\n",
      "[CV 1/5; 17/36] START eta=0.2, max_depth=11, subsample=0.75.....................\n",
      "[CV 1/5; 17/36] END eta=0.2, max_depth=11, subsample=0.75;, score=0.849 total time=   3.6s\n",
      "[CV 2/5; 17/36] START eta=0.2, max_depth=11, subsample=0.75.....................\n",
      "[CV 2/5; 17/36] END eta=0.2, max_depth=11, subsample=0.75;, score=0.854 total time=   3.6s\n",
      "[CV 3/5; 17/36] START eta=0.2, max_depth=11, subsample=0.75.....................\n",
      "[CV 3/5; 17/36] END eta=0.2, max_depth=11, subsample=0.75;, score=0.848 total time=   3.7s\n",
      "[CV 4/5; 17/36] START eta=0.2, max_depth=11, subsample=0.75.....................\n",
      "[CV 4/5; 17/36] END eta=0.2, max_depth=11, subsample=0.75;, score=0.852 total time=   3.5s\n",
      "[CV 5/5; 17/36] START eta=0.2, max_depth=11, subsample=0.75.....................\n",
      "[CV 5/5; 17/36] END eta=0.2, max_depth=11, subsample=0.75;, score=0.848 total time=   3.7s\n",
      "[CV 1/5; 18/36] START eta=0.2, max_depth=11, subsample=1.0......................\n",
      "[CV 1/5; 18/36] END eta=0.2, max_depth=11, subsample=1.0;, score=0.844 total time=   3.3s\n",
      "[CV 2/5; 18/36] START eta=0.2, max_depth=11, subsample=1.0......................\n",
      "[CV 2/5; 18/36] END eta=0.2, max_depth=11, subsample=1.0;, score=0.848 total time=   3.3s\n",
      "[CV 3/5; 18/36] START eta=0.2, max_depth=11, subsample=1.0......................\n",
      "[CV 3/5; 18/36] END eta=0.2, max_depth=11, subsample=1.0;, score=0.849 total time=   3.3s\n",
      "[CV 4/5; 18/36] START eta=0.2, max_depth=11, subsample=1.0......................\n",
      "[CV 4/5; 18/36] END eta=0.2, max_depth=11, subsample=1.0;, score=0.849 total time=   3.3s\n",
      "[CV 5/5; 18/36] START eta=0.2, max_depth=11, subsample=1.0......................\n",
      "[CV 5/5; 18/36] END eta=0.2, max_depth=11, subsample=1.0;, score=0.843 total time=   3.3s\n",
      "[CV 1/5; 19/36] START eta=0.2, max_depth=13, subsample=0.5......................\n",
      "[CV 1/5; 19/36] END eta=0.2, max_depth=13, subsample=0.5;, score=0.847 total time=   4.5s\n",
      "[CV 2/5; 19/36] START eta=0.2, max_depth=13, subsample=0.5......................\n",
      "[CV 2/5; 19/36] END eta=0.2, max_depth=13, subsample=0.5;, score=0.854 total time=   3.8s\n",
      "[CV 3/5; 19/36] START eta=0.2, max_depth=13, subsample=0.5......................\n",
      "[CV 3/5; 19/36] END eta=0.2, max_depth=13, subsample=0.5;, score=0.854 total time=   4.1s\n",
      "[CV 4/5; 19/36] START eta=0.2, max_depth=13, subsample=0.5......................\n",
      "[CV 4/5; 19/36] END eta=0.2, max_depth=13, subsample=0.5;, score=0.853 total time=   4.1s\n",
      "[CV 5/5; 19/36] START eta=0.2, max_depth=13, subsample=0.5......................\n",
      "[CV 5/5; 19/36] END eta=0.2, max_depth=13, subsample=0.5;, score=0.848 total time=   4.1s\n",
      "[CV 1/5; 20/36] START eta=0.2, max_depth=13, subsample=0.75.....................\n",
      "[CV 1/5; 20/36] END eta=0.2, max_depth=13, subsample=0.75;, score=0.853 total time=   4.2s\n",
      "[CV 2/5; 20/36] START eta=0.2, max_depth=13, subsample=0.75.....................\n",
      "[CV 2/5; 20/36] END eta=0.2, max_depth=13, subsample=0.75;, score=0.860 total time=   4.5s\n",
      "[CV 3/5; 20/36] START eta=0.2, max_depth=13, subsample=0.75.....................\n",
      "[CV 3/5; 20/36] END eta=0.2, max_depth=13, subsample=0.75;, score=0.855 total time=   4.5s\n",
      "[CV 4/5; 20/36] START eta=0.2, max_depth=13, subsample=0.75.....................\n",
      "[CV 4/5; 20/36] END eta=0.2, max_depth=13, subsample=0.75;, score=0.860 total time=   4.4s\n",
      "[CV 5/5; 20/36] START eta=0.2, max_depth=13, subsample=0.75.....................\n",
      "[CV 5/5; 20/36] END eta=0.2, max_depth=13, subsample=0.75;, score=0.849 total time=   4.5s\n",
      "[CV 1/5; 21/36] START eta=0.2, max_depth=13, subsample=1.0......................\n",
      "[CV 1/5; 21/36] END eta=0.2, max_depth=13, subsample=1.0;, score=0.854 total time=   4.1s\n",
      "[CV 2/5; 21/36] START eta=0.2, max_depth=13, subsample=1.0......................\n",
      "[CV 2/5; 21/36] END eta=0.2, max_depth=13, subsample=1.0;, score=0.858 total time=   4.0s\n",
      "[CV 3/5; 21/36] START eta=0.2, max_depth=13, subsample=1.0......................\n",
      "[CV 3/5; 21/36] END eta=0.2, max_depth=13, subsample=1.0;, score=0.857 total time=   4.1s\n",
      "[CV 4/5; 21/36] START eta=0.2, max_depth=13, subsample=1.0......................\n",
      "[CV 4/5; 21/36] END eta=0.2, max_depth=13, subsample=1.0;, score=0.855 total time=   3.8s\n",
      "[CV 5/5; 21/36] START eta=0.2, max_depth=13, subsample=1.0......................\n",
      "[CV 5/5; 21/36] END eta=0.2, max_depth=13, subsample=1.0;, score=0.849 total time=   3.8s\n",
      "[CV 1/5; 22/36] START eta=0.2, max_depth=15, subsample=0.5......................\n",
      "[CV 1/5; 22/36] END eta=0.2, max_depth=15, subsample=0.5;, score=0.852 total time=   5.1s\n",
      "[CV 2/5; 22/36] START eta=0.2, max_depth=15, subsample=0.5......................\n",
      "[CV 2/5; 22/36] END eta=0.2, max_depth=15, subsample=0.5;, score=0.856 total time=   5.3s\n",
      "[CV 3/5; 22/36] START eta=0.2, max_depth=15, subsample=0.5......................\n",
      "[CV 3/5; 22/36] END eta=0.2, max_depth=15, subsample=0.5;, score=0.855 total time=   5.1s\n",
      "[CV 4/5; 22/36] START eta=0.2, max_depth=15, subsample=0.5......................\n",
      "[CV 4/5; 22/36] END eta=0.2, max_depth=15, subsample=0.5;, score=0.854 total time=   5.2s\n",
      "[CV 5/5; 22/36] START eta=0.2, max_depth=15, subsample=0.5......................\n",
      "[CV 5/5; 22/36] END eta=0.2, max_depth=15, subsample=0.5;, score=0.848 total time=   5.4s\n",
      "[CV 1/5; 23/36] START eta=0.2, max_depth=15, subsample=0.75.....................\n",
      "[CV 1/5; 23/36] END eta=0.2, max_depth=15, subsample=0.75;, score=0.853 total time=   5.3s\n",
      "[CV 2/5; 23/36] START eta=0.2, max_depth=15, subsample=0.75.....................\n",
      "[CV 2/5; 23/36] END eta=0.2, max_depth=15, subsample=0.75;, score=0.858 total time=   5.4s\n",
      "[CV 3/5; 23/36] START eta=0.2, max_depth=15, subsample=0.75.....................\n",
      "[CV 3/5; 23/36] END eta=0.2, max_depth=15, subsample=0.75;, score=0.860 total time=   5.3s\n",
      "[CV 4/5; 23/36] START eta=0.2, max_depth=15, subsample=0.75.....................\n",
      "[CV 4/5; 23/36] END eta=0.2, max_depth=15, subsample=0.75;, score=0.858 total time=   5.3s\n",
      "[CV 5/5; 23/36] START eta=0.2, max_depth=15, subsample=0.75.....................\n",
      "[CV 5/5; 23/36] END eta=0.2, max_depth=15, subsample=0.75;, score=0.851 total time=   5.4s\n",
      "[CV 1/5; 24/36] START eta=0.2, max_depth=15, subsample=1.0......................\n",
      "[CV 1/5; 24/36] END eta=0.2, max_depth=15, subsample=1.0;, score=0.850 total time=   4.9s\n",
      "[CV 2/5; 24/36] START eta=0.2, max_depth=15, subsample=1.0......................\n",
      "[CV 2/5; 24/36] END eta=0.2, max_depth=15, subsample=1.0;, score=0.853 total time=   4.8s\n",
      "[CV 3/5; 24/36] START eta=0.2, max_depth=15, subsample=1.0......................\n",
      "[CV 3/5; 24/36] END eta=0.2, max_depth=15, subsample=1.0;, score=0.854 total time=   4.9s\n",
      "[CV 4/5; 24/36] START eta=0.2, max_depth=15, subsample=1.0......................\n",
      "[CV 4/5; 24/36] END eta=0.2, max_depth=15, subsample=1.0;, score=0.851 total time=   4.8s\n",
      "[CV 5/5; 24/36] START eta=0.2, max_depth=15, subsample=1.0......................\n",
      "[CV 5/5; 24/36] END eta=0.2, max_depth=15, subsample=1.0;, score=0.846 total time=   4.8s\n",
      "[CV 1/5; 25/36] START eta=0.4, max_depth=7, subsample=0.5.......................\n",
      "[CV 1/5; 25/36] END eta=0.4, max_depth=7, subsample=0.5;, score=0.764 total time=   2.2s\n",
      "[CV 2/5; 25/36] START eta=0.4, max_depth=7, subsample=0.5.......................\n",
      "[CV 2/5; 25/36] END eta=0.4, max_depth=7, subsample=0.5;, score=0.767 total time=   2.3s\n",
      "[CV 3/5; 25/36] START eta=0.4, max_depth=7, subsample=0.5.......................\n",
      "[CV 3/5; 25/36] END eta=0.4, max_depth=7, subsample=0.5;, score=0.765 total time=   2.2s\n",
      "[CV 4/5; 25/36] START eta=0.4, max_depth=7, subsample=0.5.......................\n",
      "[CV 4/5; 25/36] END eta=0.4, max_depth=7, subsample=0.5;, score=0.765 total time=   2.1s\n",
      "[CV 5/5; 25/36] START eta=0.4, max_depth=7, subsample=0.5.......................\n",
      "[CV 5/5; 25/36] END eta=0.4, max_depth=7, subsample=0.5;, score=0.766 total time=   2.1s\n",
      "[CV 1/5; 26/36] START eta=0.4, max_depth=7, subsample=0.75......................\n",
      "[CV 1/5; 26/36] END eta=0.4, max_depth=7, subsample=0.75;, score=0.775 total time=   2.0s\n",
      "[CV 2/5; 26/36] START eta=0.4, max_depth=7, subsample=0.75......................\n",
      "[CV 2/5; 26/36] END eta=0.4, max_depth=7, subsample=0.75;, score=0.777 total time=   2.1s\n",
      "[CV 3/5; 26/36] START eta=0.4, max_depth=7, subsample=0.75......................\n",
      "[CV 3/5; 26/36] END eta=0.4, max_depth=7, subsample=0.75;, score=0.775 total time=   2.0s\n",
      "[CV 4/5; 26/36] START eta=0.4, max_depth=7, subsample=0.75......................\n",
      "[CV 4/5; 26/36] END eta=0.4, max_depth=7, subsample=0.75;, score=0.777 total time=   2.0s\n",
      "[CV 5/5; 26/36] START eta=0.4, max_depth=7, subsample=0.75......................\n",
      "[CV 5/5; 26/36] END eta=0.4, max_depth=7, subsample=0.75;, score=0.785 total time=   2.2s\n",
      "[CV 1/5; 27/36] START eta=0.4, max_depth=7, subsample=1.0.......................\n",
      "[CV 1/5; 27/36] END eta=0.4, max_depth=7, subsample=1.0;, score=0.779 total time=   1.9s\n",
      "[CV 2/5; 27/36] START eta=0.4, max_depth=7, subsample=1.0.......................\n",
      "[CV 2/5; 27/36] END eta=0.4, max_depth=7, subsample=1.0;, score=0.782 total time=   1.9s\n",
      "[CV 3/5; 27/36] START eta=0.4, max_depth=7, subsample=1.0.......................\n",
      "[CV 3/5; 27/36] END eta=0.4, max_depth=7, subsample=1.0;, score=0.782 total time=   2.0s\n",
      "[CV 4/5; 27/36] START eta=0.4, max_depth=7, subsample=1.0.......................\n",
      "[CV 4/5; 27/36] END eta=0.4, max_depth=7, subsample=1.0;, score=0.786 total time=   1.9s\n",
      "[CV 5/5; 27/36] START eta=0.4, max_depth=7, subsample=1.0.......................\n",
      "[CV 5/5; 27/36] END eta=0.4, max_depth=7, subsample=1.0;, score=0.775 total time=   1.9s\n",
      "[CV 1/5; 28/36] START eta=0.4, max_depth=11, subsample=0.5......................\n",
      "[CV 1/5; 28/36] END eta=0.4, max_depth=11, subsample=0.5;, score=0.819 total time=   3.7s\n",
      "[CV 2/5; 28/36] START eta=0.4, max_depth=11, subsample=0.5......................\n",
      "[CV 2/5; 28/36] END eta=0.4, max_depth=11, subsample=0.5;, score=0.826 total time=   4.0s\n",
      "[CV 3/5; 28/36] START eta=0.4, max_depth=11, subsample=0.5......................\n",
      "[CV 3/5; 28/36] END eta=0.4, max_depth=11, subsample=0.5;, score=0.818 total time=   4.0s\n",
      "[CV 4/5; 28/36] START eta=0.4, max_depth=11, subsample=0.5......................\n",
      "[CV 4/5; 28/36] END eta=0.4, max_depth=11, subsample=0.5;, score=0.819 total time=   4.0s\n",
      "[CV 5/5; 28/36] START eta=0.4, max_depth=11, subsample=0.5......................\n",
      "[CV 5/5; 28/36] END eta=0.4, max_depth=11, subsample=0.5;, score=0.815 total time=   4.1s\n",
      "[CV 1/5; 29/36] START eta=0.4, max_depth=11, subsample=0.75.....................\n",
      "[CV 1/5; 29/36] END eta=0.4, max_depth=11, subsample=0.75;, score=0.832 total time=   3.9s\n",
      "[CV 2/5; 29/36] START eta=0.4, max_depth=11, subsample=0.75.....................\n",
      "[CV 2/5; 29/36] END eta=0.4, max_depth=11, subsample=0.75;, score=0.841 total time=   4.0s\n",
      "[CV 3/5; 29/36] START eta=0.4, max_depth=11, subsample=0.75.....................\n",
      "[CV 3/5; 29/36] END eta=0.4, max_depth=11, subsample=0.75;, score=0.842 total time=   4.0s\n",
      "[CV 4/5; 29/36] START eta=0.4, max_depth=11, subsample=0.75.....................\n",
      "[CV 4/5; 29/36] END eta=0.4, max_depth=11, subsample=0.75;, score=0.836 total time=   3.9s\n",
      "[CV 5/5; 29/36] START eta=0.4, max_depth=11, subsample=0.75.....................\n",
      "[CV 5/5; 29/36] END eta=0.4, max_depth=11, subsample=0.75;, score=0.831 total time=   4.1s\n",
      "[CV 1/5; 30/36] START eta=0.4, max_depth=11, subsample=1.0......................\n",
      "[CV 1/5; 30/36] END eta=0.4, max_depth=11, subsample=1.0;, score=0.845 total time=   3.6s\n",
      "[CV 2/5; 30/36] START eta=0.4, max_depth=11, subsample=1.0......................\n",
      "[CV 2/5; 30/36] END eta=0.4, max_depth=11, subsample=1.0;, score=0.848 total time=   3.6s\n",
      "[CV 3/5; 30/36] START eta=0.4, max_depth=11, subsample=1.0......................\n",
      "[CV 3/5; 30/36] END eta=0.4, max_depth=11, subsample=1.0;, score=0.844 total time=   3.6s\n",
      "[CV 4/5; 30/36] START eta=0.4, max_depth=11, subsample=1.0......................\n",
      "[CV 4/5; 30/36] END eta=0.4, max_depth=11, subsample=1.0;, score=0.846 total time=   3.6s\n",
      "[CV 5/5; 30/36] START eta=0.4, max_depth=11, subsample=1.0......................\n",
      "[CV 5/5; 30/36] END eta=0.4, max_depth=11, subsample=1.0;, score=0.841 total time=   3.6s\n",
      "[CV 1/5; 31/36] START eta=0.4, max_depth=13, subsample=0.5......................\n",
      "[CV 1/5; 31/36] END eta=0.4, max_depth=13, subsample=0.5;, score=0.823 total time=   5.0s\n",
      "[CV 2/5; 31/36] START eta=0.4, max_depth=13, subsample=0.5......................\n",
      "[CV 2/5; 31/36] END eta=0.4, max_depth=13, subsample=0.5;, score=0.827 total time=   5.0s\n",
      "[CV 3/5; 31/36] START eta=0.4, max_depth=13, subsample=0.5......................\n",
      "[CV 3/5; 31/36] END eta=0.4, max_depth=13, subsample=0.5;, score=0.828 total time=   4.3s\n",
      "[CV 4/5; 31/36] START eta=0.4, max_depth=13, subsample=0.5......................\n",
      "[CV 4/5; 31/36] END eta=0.4, max_depth=13, subsample=0.5;, score=0.822 total time=   4.2s\n",
      "[CV 5/5; 31/36] START eta=0.4, max_depth=13, subsample=0.5......................\n",
      "[CV 5/5; 31/36] END eta=0.4, max_depth=13, subsample=0.5;, score=0.820 total time=   4.4s\n",
      "[CV 1/5; 32/36] START eta=0.4, max_depth=13, subsample=0.75.....................\n",
      "[CV 1/5; 32/36] END eta=0.4, max_depth=13, subsample=0.75;, score=0.837 total time=   4.4s\n",
      "[CV 2/5; 32/36] START eta=0.4, max_depth=13, subsample=0.75.....................\n",
      "[CV 2/5; 32/36] END eta=0.4, max_depth=13, subsample=0.75;, score=0.841 total time=   4.4s\n",
      "[CV 3/5; 32/36] START eta=0.4, max_depth=13, subsample=0.75.....................\n",
      "[CV 3/5; 32/36] END eta=0.4, max_depth=13, subsample=0.75;, score=0.841 total time=   4.4s\n",
      "[CV 4/5; 32/36] START eta=0.4, max_depth=13, subsample=0.75.....................\n",
      "[CV 4/5; 32/36] END eta=0.4, max_depth=13, subsample=0.75;, score=0.842 total time=   4.3s\n",
      "[CV 5/5; 32/36] START eta=0.4, max_depth=13, subsample=0.75.....................\n",
      "[CV 5/5; 32/36] END eta=0.4, max_depth=13, subsample=0.75;, score=0.834 total time=   4.4s\n",
      "[CV 1/5; 33/36] START eta=0.4, max_depth=13, subsample=1.0......................\n",
      "[CV 1/5; 33/36] END eta=0.4, max_depth=13, subsample=1.0;, score=0.844 total time=   4.0s\n",
      "[CV 2/5; 33/36] START eta=0.4, max_depth=13, subsample=1.0......................\n",
      "[CV 2/5; 33/36] END eta=0.4, max_depth=13, subsample=1.0;, score=0.846 total time=   4.0s\n",
      "[CV 3/5; 33/36] START eta=0.4, max_depth=13, subsample=1.0......................\n",
      "[CV 3/5; 33/36] END eta=0.4, max_depth=13, subsample=1.0;, score=0.847 total time=   4.0s\n",
      "[CV 4/5; 33/36] START eta=0.4, max_depth=13, subsample=1.0......................\n",
      "[CV 4/5; 33/36] END eta=0.4, max_depth=13, subsample=1.0;, score=0.847 total time=   4.1s\n",
      "[CV 5/5; 33/36] START eta=0.4, max_depth=13, subsample=1.0......................\n",
      "[CV 5/5; 33/36] END eta=0.4, max_depth=13, subsample=1.0;, score=0.837 total time=   4.0s\n",
      "[CV 1/5; 34/36] START eta=0.4, max_depth=15, subsample=0.5......................\n",
      "[CV 1/5; 34/36] END eta=0.4, max_depth=15, subsample=0.5;, score=0.828 total time=   5.4s\n",
      "[CV 2/5; 34/36] START eta=0.4, max_depth=15, subsample=0.5......................\n",
      "[CV 2/5; 34/36] END eta=0.4, max_depth=15, subsample=0.5;, score=0.835 total time=   5.5s\n",
      "[CV 3/5; 34/36] START eta=0.4, max_depth=15, subsample=0.5......................\n",
      "[CV 3/5; 34/36] END eta=0.4, max_depth=15, subsample=0.5;, score=0.827 total time=   5.4s\n",
      "[CV 4/5; 34/36] START eta=0.4, max_depth=15, subsample=0.5......................\n",
      "[CV 4/5; 34/36] END eta=0.4, max_depth=15, subsample=0.5;, score=0.827 total time=   5.4s\n",
      "[CV 5/5; 34/36] START eta=0.4, max_depth=15, subsample=0.5......................\n",
      "[CV 5/5; 34/36] END eta=0.4, max_depth=15, subsample=0.5;, score=0.824 total time=   5.5s\n",
      "[CV 1/5; 35/36] START eta=0.4, max_depth=15, subsample=0.75.....................\n",
      "[CV 1/5; 35/36] END eta=0.4, max_depth=15, subsample=0.75;, score=0.838 total time=   5.3s\n",
      "[CV 2/5; 35/36] START eta=0.4, max_depth=15, subsample=0.75.....................\n",
      "[CV 2/5; 35/36] END eta=0.4, max_depth=15, subsample=0.75;, score=0.845 total time=   5.3s\n",
      "[CV 3/5; 35/36] START eta=0.4, max_depth=15, subsample=0.75.....................\n",
      "[CV 3/5; 35/36] END eta=0.4, max_depth=15, subsample=0.75;, score=0.845 total time=   5.4s\n",
      "[CV 4/5; 35/36] START eta=0.4, max_depth=15, subsample=0.75.....................\n",
      "[CV 4/5; 35/36] END eta=0.4, max_depth=15, subsample=0.75;, score=0.844 total time=   5.3s\n",
      "[CV 5/5; 35/36] START eta=0.4, max_depth=15, subsample=0.75.....................\n",
      "[CV 5/5; 35/36] END eta=0.4, max_depth=15, subsample=0.75;, score=0.836 total time=   5.3s\n",
      "[CV 1/5; 36/36] START eta=0.4, max_depth=15, subsample=1.0......................\n",
      "[CV 1/5; 36/36] END eta=0.4, max_depth=15, subsample=1.0;, score=0.844 total time=   4.8s\n",
      "[CV 2/5; 36/36] START eta=0.4, max_depth=15, subsample=1.0......................\n",
      "[CV 2/5; 36/36] END eta=0.4, max_depth=15, subsample=1.0;, score=0.845 total time=   4.7s\n",
      "[CV 3/5; 36/36] START eta=0.4, max_depth=15, subsample=1.0......................\n",
      "[CV 3/5; 36/36] END eta=0.4, max_depth=15, subsample=1.0;, score=0.849 total time=   5.0s\n",
      "[CV 4/5; 36/36] START eta=0.4, max_depth=15, subsample=1.0......................\n",
      "[CV 4/5; 36/36] END eta=0.4, max_depth=15, subsample=1.0;, score=0.846 total time=   4.9s\n",
      "[CV 5/5; 36/36] START eta=0.4, max_depth=15, subsample=1.0......................\n",
      "[CV 5/5; 36/36] END eta=0.4, max_depth=15, subsample=1.0;, score=0.837 total time=   4.8s\n",
      "CPU times: user 52min 15s, sys: 26min 34s, total: 1h 18min 49s\n",
      "Wall time: 11min 54s\n"
     ]
    },
    {
     "data": {
      "text/html": [
       "<style>#sk-container-id-1 {color: black;background-color: white;}#sk-container-id-1 pre{padding: 0;}#sk-container-id-1 div.sk-toggleable {background-color: white;}#sk-container-id-1 label.sk-toggleable__label {cursor: pointer;display: block;width: 100%;margin-bottom: 0;padding: 0.3em;box-sizing: border-box;text-align: center;}#sk-container-id-1 label.sk-toggleable__label-arrow:before {content: \"▸\";float: left;margin-right: 0.25em;color: #696969;}#sk-container-id-1 label.sk-toggleable__label-arrow:hover:before {color: black;}#sk-container-id-1 div.sk-estimator:hover label.sk-toggleable__label-arrow:before {color: black;}#sk-container-id-1 div.sk-toggleable__content {max-height: 0;max-width: 0;overflow: hidden;text-align: left;background-color: #f0f8ff;}#sk-container-id-1 div.sk-toggleable__content pre {margin: 0.2em;color: black;border-radius: 0.25em;background-color: #f0f8ff;}#sk-container-id-1 input.sk-toggleable__control:checked~div.sk-toggleable__content {max-height: 200px;max-width: 100%;overflow: auto;}#sk-container-id-1 input.sk-toggleable__control:checked~label.sk-toggleable__label-arrow:before {content: \"▾\";}#sk-container-id-1 div.sk-estimator input.sk-toggleable__control:checked~label.sk-toggleable__label {background-color: #d4ebff;}#sk-container-id-1 div.sk-label input.sk-toggleable__control:checked~label.sk-toggleable__label {background-color: #d4ebff;}#sk-container-id-1 input.sk-hidden--visually {border: 0;clip: rect(1px 1px 1px 1px);clip: rect(1px, 1px, 1px, 1px);height: 1px;margin: -1px;overflow: hidden;padding: 0;position: absolute;width: 1px;}#sk-container-id-1 div.sk-estimator {font-family: monospace;background-color: #f0f8ff;border: 1px dotted black;border-radius: 0.25em;box-sizing: border-box;margin-bottom: 0.5em;}#sk-container-id-1 div.sk-estimator:hover {background-color: #d4ebff;}#sk-container-id-1 div.sk-parallel-item::after {content: \"\";width: 100%;border-bottom: 1px solid gray;flex-grow: 1;}#sk-container-id-1 div.sk-label:hover label.sk-toggleable__label {background-color: #d4ebff;}#sk-container-id-1 div.sk-serial::before {content: \"\";position: absolute;border-left: 1px solid gray;box-sizing: border-box;top: 0;bottom: 0;left: 50%;z-index: 0;}#sk-container-id-1 div.sk-serial {display: flex;flex-direction: column;align-items: center;background-color: white;padding-right: 0.2em;padding-left: 0.2em;position: relative;}#sk-container-id-1 div.sk-item {position: relative;z-index: 1;}#sk-container-id-1 div.sk-parallel {display: flex;align-items: stretch;justify-content: center;background-color: white;position: relative;}#sk-container-id-1 div.sk-item::before, #sk-container-id-1 div.sk-parallel-item::before {content: \"\";position: absolute;border-left: 1px solid gray;box-sizing: border-box;top: 0;bottom: 0;left: 50%;z-index: -1;}#sk-container-id-1 div.sk-parallel-item {display: flex;flex-direction: column;z-index: 1;position: relative;background-color: white;}#sk-container-id-1 div.sk-parallel-item:first-child::after {align-self: flex-end;width: 50%;}#sk-container-id-1 div.sk-parallel-item:last-child::after {align-self: flex-start;width: 50%;}#sk-container-id-1 div.sk-parallel-item:only-child::after {width: 0;}#sk-container-id-1 div.sk-dashed-wrapped {border: 1px dashed gray;margin: 0 0.4em 0.5em 0.4em;box-sizing: border-box;padding-bottom: 0.4em;background-color: white;}#sk-container-id-1 div.sk-label label {font-family: monospace;font-weight: bold;display: inline-block;line-height: 1.2em;}#sk-container-id-1 div.sk-label-container {text-align: center;}#sk-container-id-1 div.sk-container {/* jupyter's `normalize.less` sets `[hidden] { display: none; }` but bootstrap.min.css set `[hidden] { display: none !important; }` so we also need the `!important` here to be able to override the default hidden behavior on the sphinx rendered scikit-learn.org. See: https://github.com/scikit-learn/scikit-learn/issues/21755 */display: inline-block !important;position: relative;}#sk-container-id-1 div.sk-text-repr-fallback {display: none;}</style><div id=\"sk-container-id-1\" class=\"sk-top-container\"><div class=\"sk-text-repr-fallback\"><pre>GridSearchCV(estimator=XGBRegressor(base_score=None, booster=None,\n",
       "                                    callbacks=None, colsample_bylevel=None,\n",
       "                                    colsample_bynode=None,\n",
       "                                    colsample_bytree=None,\n",
       "                                    early_stopping_rounds=None,\n",
       "                                    enable_categorical=False, eval_metric=None,\n",
       "                                    gamma=None, gpu_id=None, grow_policy=None,\n",
       "                                    importance_type=None,\n",
       "                                    interaction_constraints=None,\n",
       "                                    learning_rate=None, max_bin=None,\n",
       "                                    max_cat_to_onehot=None, max_delta_step=None,\n",
       "                                    max_depth=None, max_leaves=None,\n",
       "                                    min_child_weight=None, missing=nan,\n",
       "                                    monotone_constraints=None, n_estimators=100,\n",
       "                                    n_jobs=None, num_parallel_tree=None,\n",
       "                                    predictor=None, random_state=None,\n",
       "                                    reg_alpha=None, reg_lambda=None, ...),\n",
       "             param_grid={&#x27;eta&#x27;: [0, 0.2, 0.4], &#x27;max_depth&#x27;: [7, 11, 13, 15],\n",
       "                         &#x27;subsample&#x27;: [0.5, 0.75, 1.0]},\n",
       "             verbose=10)</pre><b>In a Jupyter environment, please rerun this cell to show the HTML representation or trust the notebook. <br />On GitHub, the HTML representation is unable to render, please try loading this page with nbviewer.org.</b></div><div class=\"sk-container\" hidden><div class=\"sk-item sk-dashed-wrapped\"><div class=\"sk-label-container\"><div class=\"sk-label sk-toggleable\"><input class=\"sk-toggleable__control sk-hidden--visually\" id=\"sk-estimator-id-1\" type=\"checkbox\" ><label for=\"sk-estimator-id-1\" class=\"sk-toggleable__label sk-toggleable__label-arrow\">GridSearchCV</label><div class=\"sk-toggleable__content\"><pre>GridSearchCV(estimator=XGBRegressor(base_score=None, booster=None,\n",
       "                                    callbacks=None, colsample_bylevel=None,\n",
       "                                    colsample_bynode=None,\n",
       "                                    colsample_bytree=None,\n",
       "                                    early_stopping_rounds=None,\n",
       "                                    enable_categorical=False, eval_metric=None,\n",
       "                                    gamma=None, gpu_id=None, grow_policy=None,\n",
       "                                    importance_type=None,\n",
       "                                    interaction_constraints=None,\n",
       "                                    learning_rate=None, max_bin=None,\n",
       "                                    max_cat_to_onehot=None, max_delta_step=None,\n",
       "                                    max_depth=None, max_leaves=None,\n",
       "                                    min_child_weight=None, missing=nan,\n",
       "                                    monotone_constraints=None, n_estimators=100,\n",
       "                                    n_jobs=None, num_parallel_tree=None,\n",
       "                                    predictor=None, random_state=None,\n",
       "                                    reg_alpha=None, reg_lambda=None, ...),\n",
       "             param_grid={&#x27;eta&#x27;: [0, 0.2, 0.4], &#x27;max_depth&#x27;: [7, 11, 13, 15],\n",
       "                         &#x27;subsample&#x27;: [0.5, 0.75, 1.0]},\n",
       "             verbose=10)</pre></div></div></div><div class=\"sk-parallel\"><div class=\"sk-parallel-item\"><div class=\"sk-item\"><div class=\"sk-label-container\"><div class=\"sk-label sk-toggleable\"><input class=\"sk-toggleable__control sk-hidden--visually\" id=\"sk-estimator-id-2\" type=\"checkbox\" ><label for=\"sk-estimator-id-2\" class=\"sk-toggleable__label sk-toggleable__label-arrow\">estimator: XGBRegressor</label><div class=\"sk-toggleable__content\"><pre>XGBRegressor(base_score=None, booster=None, callbacks=None,\n",
       "             colsample_bylevel=None, colsample_bynode=None,\n",
       "             colsample_bytree=None, early_stopping_rounds=None,\n",
       "             enable_categorical=False, eval_metric=None, gamma=None,\n",
       "             gpu_id=None, grow_policy=None, importance_type=None,\n",
       "             interaction_constraints=None, learning_rate=None, max_bin=None,\n",
       "             max_cat_to_onehot=None, max_delta_step=None, max_depth=None,\n",
       "             max_leaves=None, min_child_weight=None, missing=nan,\n",
       "             monotone_constraints=None, n_estimators=100, n_jobs=None,\n",
       "             num_parallel_tree=None, predictor=None, random_state=None,\n",
       "             reg_alpha=None, reg_lambda=None, ...)</pre></div></div></div><div class=\"sk-serial\"><div class=\"sk-item\"><div class=\"sk-estimator sk-toggleable\"><input class=\"sk-toggleable__control sk-hidden--visually\" id=\"sk-estimator-id-3\" type=\"checkbox\" ><label for=\"sk-estimator-id-3\" class=\"sk-toggleable__label sk-toggleable__label-arrow\">XGBRegressor</label><div class=\"sk-toggleable__content\"><pre>XGBRegressor(base_score=None, booster=None, callbacks=None,\n",
       "             colsample_bylevel=None, colsample_bynode=None,\n",
       "             colsample_bytree=None, early_stopping_rounds=None,\n",
       "             enable_categorical=False, eval_metric=None, gamma=None,\n",
       "             gpu_id=None, grow_policy=None, importance_type=None,\n",
       "             interaction_constraints=None, learning_rate=None, max_bin=None,\n",
       "             max_cat_to_onehot=None, max_delta_step=None, max_depth=None,\n",
       "             max_leaves=None, min_child_weight=None, missing=nan,\n",
       "             monotone_constraints=None, n_estimators=100, n_jobs=None,\n",
       "             num_parallel_tree=None, predictor=None, random_state=None,\n",
       "             reg_alpha=None, reg_lambda=None, ...)</pre></div></div></div></div></div></div></div></div></div></div>"
      ],
      "text/plain": [
       "GridSearchCV(estimator=XGBRegressor(base_score=None, booster=None,\n",
       "                                    callbacks=None, colsample_bylevel=None,\n",
       "                                    colsample_bynode=None,\n",
       "                                    colsample_bytree=None,\n",
       "                                    early_stopping_rounds=None,\n",
       "                                    enable_categorical=False, eval_metric=None,\n",
       "                                    gamma=None, gpu_id=None, grow_policy=None,\n",
       "                                    importance_type=None,\n",
       "                                    interaction_constraints=None,\n",
       "                                    learning_rate=None, max_bin=None,\n",
       "                                    max_cat_to_onehot=None, max_delta_step=None,\n",
       "                                    max_depth=None, max_leaves=None,\n",
       "                                    min_child_weight=None, missing=nan,\n",
       "                                    monotone_constraints=None, n_estimators=100,\n",
       "                                    n_jobs=None, num_parallel_tree=None,\n",
       "                                    predictor=None, random_state=None,\n",
       "                                    reg_alpha=None, reg_lambda=None, ...),\n",
       "             param_grid={'eta': [0, 0.2, 0.4], 'max_depth': [7, 11, 13, 15],\n",
       "                         'subsample': [0.5, 0.75, 1.0]},\n",
       "             verbose=10)"
      ]
     },
     "execution_count": 13,
     "metadata": {},
     "output_type": "execute_result"
    }
   ],
   "source": [
    "%%time\n",
    "import numpy as np\n",
    "from xgboost import XGBRegressor\n",
    "from sklearn.model_selection import GridSearchCV\n",
    "\n",
    "# 여기에 그리드 탐색 코드를 포함하세요.\n",
    "#eta: 0, 0.2, 0.4\n",
    "#max_depth: 7, 11, 13, 15\n",
    "#subsample: 0.5, 0.75, 1.0\n",
    "\n",
    "grid = GridSearchCV(estimator=XGBRegressor(), \n",
    "                    param_grid={'eta': [0, 0.2, 0.4],\n",
    "                              'max_depth':[7, 11, 13, 15],\n",
    "                               'subsample':[0.5, 0.75, 1.0]},\n",
    "                    verbose=10)\n",
    "grid.fit(X_train, Y_train)"
   ]
  },
  {
   "cell_type": "code",
   "execution_count": 14,
   "id": "969fa09f",
   "metadata": {},
   "outputs": [
    {
     "data": {
      "text/plain": [
       "{'eta': 0.2, 'max_depth': 15, 'subsample': 0.75}"
      ]
     },
     "execution_count": 14,
     "metadata": {},
     "output_type": "execute_result"
    }
   ],
   "source": [
    "grid.best_params_"
   ]
  },
  {
   "cell_type": "code",
   "execution_count": 15,
   "id": "G2bX4Q3UWeTu",
   "metadata": {
    "ExecuteTime": {
     "end_time": "2021-10-06T05:47:05.846531Z",
     "start_time": "2021-10-06T05:47:05.399960Z"
    },
    "id": "G2bX4Q3UWeTu"
   },
   "outputs": [],
   "source": [
    "grid_y_pred = grid.predict(X_test)"
   ]
  },
  {
   "cell_type": "code",
   "execution_count": 16,
   "id": "Eq2JZyVzWePp",
   "metadata": {
    "ExecuteTime": {
     "end_time": "2021-10-06T05:47:05.870748Z",
     "start_time": "2021-10-06T05:47:05.868152Z"
    },
    "colab": {
     "base_uri": "https://localhost:8080/"
    },
    "id": "Eq2JZyVzWePp",
    "outputId": "59af902e-7f1e-4128-ab89-03c7fd32837b"
   },
   "outputs": [
    {
     "name": "stdout",
     "output_type": "stream",
     "text": [
      "[ 0.92995816 -0.30229202 -0.41152996 ...  1.6497775   1.6623679\n",
      " -0.29840493]\n"
     ]
    }
   ],
   "source": [
    "print(grid_y_pred)"
   ]
  },
  {
   "cell_type": "markdown",
   "id": "5a3bdd68",
   "metadata": {
    "id": "5a3bdd68"
   },
   "source": [
    "### XGBoost 회귀의 RMSE, R^2 값"
   ]
  },
  {
   "cell_type": "code",
   "execution_count": null,
   "id": "XOJUne5sWmwb",
   "metadata": {
    "ExecuteTime": {
     "end_time": "2021-10-06T05:47:06.110264Z",
     "start_time": "2021-10-06T05:47:06.107970Z"
    },
    "colab": {
     "base_uri": "https://localhost:8080/"
    },
    "id": "XOJUne5sWmwb",
    "outputId": "89941930-0e5d-4c7b-e9e3-29f17febdab1"
   },
   "outputs": [],
   "source": [
    "import math\n",
    "from sklearn.metrics import mean_squared_error\n",
    "\n",
    "grid_rmse = math.sqrt(mean_squared_error(Y_test, grid_y_pred))\n",
    "print(\"RMSE:%f\" %(grid_rmse))"
   ]
  },
  {
   "cell_type": "code",
   "execution_count": null,
   "id": "EW64sb3_Wmy-",
   "metadata": {
    "ExecuteTime": {
     "end_time": "2021-10-06T05:47:06.142680Z",
     "start_time": "2021-10-06T05:47:06.135620Z"
    },
    "colab": {
     "base_uri": "https://localhost:8080/"
    },
    "id": "EW64sb3_Wmy-",
    "outputId": "54208d3d-3336-4cf3-cecd-56bf9a8994f3"
   },
   "outputs": [],
   "source": [
    "from sklearn.metrics import r2_score\n",
    "\n",
    "grid_r2 = r2_score(Y_test, grid_y_pred)\n",
    "print('XGBoost R2 score with parameter tunning: ', grid_r2)"
   ]
  },
  {
   "cell_type": "code",
   "execution_count": null,
   "id": "abecddb1",
   "metadata": {},
   "outputs": [],
   "source": []
  }
 ],
 "metadata": {
  "colab": {
   "collapsed_sections": [],
   "name": "이소오리엔틴_모델링.ipynb",
   "provenance": []
  },
  "kernelspec": {
   "display_name": "Python 3 (ipykernel)",
   "language": "python",
   "name": "python3"
  },
  "language_info": {
   "codemirror_mode": {
    "name": "ipython",
    "version": 3
   },
   "file_extension": ".py",
   "mimetype": "text/x-python",
   "name": "python",
   "nbconvert_exporter": "python",
   "pygments_lexer": "ipython3",
   "version": "3.9.12"
  },
  "toc": {
   "base_numbering": 1,
   "nav_menu": {},
   "number_sections": true,
   "sideBar": true,
   "skip_h1_title": false,
   "title_cell": "Table of Contents",
   "title_sidebar": "Contents",
   "toc_cell": false,
   "toc_position": {},
   "toc_section_display": true,
   "toc_window_display": false
  },
  "varInspector": {
   "cols": {
    "lenName": 16,
    "lenType": 16,
    "lenVar": 40
   },
   "kernels_config": {
    "python": {
     "delete_cmd_postfix": "",
     "delete_cmd_prefix": "del ",
     "library": "var_list.py",
     "varRefreshCmd": "print(var_dic_list())"
    },
    "r": {
     "delete_cmd_postfix": ") ",
     "delete_cmd_prefix": "rm(",
     "library": "var_list.r",
     "varRefreshCmd": "cat(var_dic_list()) "
    }
   },
   "types_to_exclude": [
    "module",
    "function",
    "builtin_function_or_method",
    "instance",
    "_Feature"
   ],
   "window_display": false
  }
 },
 "nbformat": 4,
 "nbformat_minor": 5
}
