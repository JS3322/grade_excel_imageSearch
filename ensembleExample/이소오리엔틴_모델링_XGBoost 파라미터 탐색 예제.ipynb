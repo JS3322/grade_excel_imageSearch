{
 "cells": [
  {
   "cell_type": "markdown",
   "id": "25ddf1dc",
   "metadata": {
    "ExecuteTime": {
     "end_time": "2021-10-06T03:06:21.591381Z",
     "start_time": "2021-10-06T03:06:21.586833Z"
    },
    "id": "25ddf1dc"
   },
   "source": [
    "# 이소오리엔틴 회귀모델 LightGBM"
   ]
  },
  {
   "cell_type": "markdown",
   "id": "1584d18c",
   "metadata": {
    "id": "1584d18c"
   },
   "source": [
    "## 전처리 데이터 불러오기"
   ]
  },
  {
   "cell_type": "code",
   "execution_count": null,
   "id": "S-cYof1pTg1O",
   "metadata": {
    "ExecuteTime": {
     "end_time": "2021-10-06T05:46:25.306242Z",
     "start_time": "2021-10-06T05:46:25.207045Z"
    },
    "id": "S-cYof1pTg1O"
   },
   "outputs": [],
   "source": [
    "#실험군 스케일링 데이터 불러오기\n",
    "import pandas as pd\n",
    "\n",
    "df_exp_scaled = pd.read_csv('df_exp_scale.csv')"
   ]
  },
  {
   "cell_type": "code",
   "execution_count": null,
   "id": "y5mIDRZWTgzI",
   "metadata": {
    "ExecuteTime": {
     "end_time": "2021-10-06T05:46:25.896331Z",
     "start_time": "2021-10-06T05:46:25.870302Z"
    },
    "colab": {
     "base_uri": "https://localhost:8080/",
     "height": 423
    },
    "id": "y5mIDRZWTgzI",
    "outputId": "1c767644-b118-49ad-fd1b-4225cf38a441"
   },
   "outputs": [],
   "source": [
    "df_exp_scaled"
   ]
  },
  {
   "cell_type": "markdown",
   "id": "N27tkRPITqB2",
   "metadata": {
    "id": "N27tkRPITqB2"
   },
   "source": [
    "## 독립변수, 목표변수 데이터 할당"
   ]
  },
  {
   "cell_type": "code",
   "execution_count": null,
   "id": "vs5p1fI9Tgxm",
   "metadata": {
    "ExecuteTime": {
     "end_time": "2021-10-06T05:46:27.107689Z",
     "start_time": "2021-10-06T05:46:27.092279Z"
    },
    "id": "vs5p1fI9Tgxm"
   },
   "outputs": [],
   "source": [
    "X=df_exp_scaled.iloc[:, 1:5]"
   ]
  },
  {
   "cell_type": "code",
   "execution_count": null,
   "id": "AtHXt10fq8BW",
   "metadata": {
    "colab": {
     "base_uri": "https://localhost:8080/"
    },
    "id": "AtHXt10fq8BW",
    "outputId": "4e3ab68b-6900-4139-a294-fd5c7414b35c"
   },
   "outputs": [],
   "source": [
    "X.shape"
   ]
  },
  {
   "cell_type": "code",
   "execution_count": null,
   "id": "fWH_riOuTguh",
   "metadata": {
    "ExecuteTime": {
     "end_time": "2021-10-06T05:46:27.659114Z",
     "start_time": "2021-10-06T05:46:27.655965Z"
    },
    "id": "fWH_riOuTguh"
   },
   "outputs": [],
   "source": [
    "Y=df_exp_scaled['ingredient'].values"
   ]
  },
  {
   "cell_type": "markdown",
   "id": "f708c5ae",
   "metadata": {
    "id": "f708c5ae"
   },
   "source": [
    "## train,test set split"
   ]
  },
  {
   "cell_type": "code",
   "execution_count": null,
   "id": "8CDSBvCtTgsX",
   "metadata": {
    "ExecuteTime": {
     "end_time": "2021-10-06T05:46:29.134553Z",
     "start_time": "2021-10-06T05:46:29.104375Z"
    },
    "id": "8CDSBvCtTgsX"
   },
   "outputs": [],
   "source": [
    "from sklearn.model_selection import train_test_split                            #Test, Train 세트 라이브러리 불러오기\n",
    "\n",
    "#테스트,트레인 세트 데이터 셋 분할 및 할당\n",
    "X_train, X_test, Y_train, Y_test = train_test_split(X, Y, \n",
    "                                                    test_size=0.3, \n",
    "                                                    random_state=50)"
   ]
  },
  {
   "cell_type": "markdown",
   "id": "cGMYul62WCHS",
   "metadata": {
    "id": "cGMYul62WCHS"
   },
   "source": [
    "## RandomForest 실험군 모델링"
   ]
  },
  {
   "cell_type": "code",
   "execution_count": null,
   "id": "v0F6aKfHWUI1",
   "metadata": {
    "ExecuteTime": {
     "end_time": "2021-10-06T05:46:49.295429Z",
     "start_time": "2021-10-06T05:46:49.291957Z"
    },
    "colab": {
     "base_uri": "https://localhost:8080/"
    },
    "id": "v0F6aKfHWUI1",
    "outputId": "86adc60d-e687-4fb6-847a-537e8eda34bc"
   },
   "outputs": [],
   "source": [
    "df_exp_scaled.columns"
   ]
  },
  {
   "cell_type": "code",
   "execution_count": null,
   "id": "BrG5eTYZWTy_",
   "metadata": {
    "ExecuteTime": {
     "end_time": "2021-10-06T05:46:49.319778Z",
     "start_time": "2021-10-06T05:46:49.316959Z"
    },
    "colab": {
     "base_uri": "https://localhost:8080/"
    },
    "id": "BrG5eTYZWTy_",
    "outputId": "28dbca11-1588-4b33-b722-7fc66df0ea64"
   },
   "outputs": [],
   "source": [
    "X_train.shape"
   ]
  },
  {
   "cell_type": "code",
   "execution_count": null,
   "id": "0d39c84f",
   "metadata": {},
   "outputs": [],
   "source": [
    "from xgboost import XGBRegressor\n",
    "from sklearn.metrics import r2_score\n",
    "\n",
    "xgb = XGBRegressor()\n",
    "xgb.fit(X_train, Y_train)\n",
    "r2_score(Y_test, xgb.predict(X_test))"
   ]
  },
  {
   "cell_type": "code",
   "execution_count": null,
   "id": "17004956",
   "metadata": {},
   "outputs": [],
   "source": [
    "%%time\n",
    "import numpy as np\n",
    "from xgboost import XGBRegressor\n",
    "from sklearn.model_selection import GridSearchCV\n",
    "\n",
    "# 여기에 그리드 탐색 코드를 포함하세요."
   ]
  },
  {
   "cell_type": "code",
   "execution_count": null,
   "id": "969fa09f",
   "metadata": {},
   "outputs": [],
   "source": [
    "grid.best_params_"
   ]
  },
  {
   "cell_type": "code",
   "execution_count": null,
   "id": "G2bX4Q3UWeTu",
   "metadata": {
    "ExecuteTime": {
     "end_time": "2021-10-06T05:47:05.846531Z",
     "start_time": "2021-10-06T05:47:05.399960Z"
    },
    "id": "G2bX4Q3UWeTu"
   },
   "outputs": [],
   "source": [
    "grid_y_pred = grid.predict(X_test)"
   ]
  },
  {
   "cell_type": "code",
   "execution_count": null,
   "id": "Eq2JZyVzWePp",
   "metadata": {
    "ExecuteTime": {
     "end_time": "2021-10-06T05:47:05.870748Z",
     "start_time": "2021-10-06T05:47:05.868152Z"
    },
    "colab": {
     "base_uri": "https://localhost:8080/"
    },
    "id": "Eq2JZyVzWePp",
    "outputId": "59af902e-7f1e-4128-ab89-03c7fd32837b"
   },
   "outputs": [],
   "source": [
    "print(grid_y_pred)"
   ]
  },
  {
   "cell_type": "markdown",
   "id": "5a3bdd68",
   "metadata": {
    "id": "5a3bdd68"
   },
   "source": [
    "### XGBoost 회귀의 RMSE, R^2 값"
   ]
  },
  {
   "cell_type": "code",
   "execution_count": null,
   "id": "XOJUne5sWmwb",
   "metadata": {
    "ExecuteTime": {
     "end_time": "2021-10-06T05:47:06.110264Z",
     "start_time": "2021-10-06T05:47:06.107970Z"
    },
    "colab": {
     "base_uri": "https://localhost:8080/"
    },
    "id": "XOJUne5sWmwb",
    "outputId": "89941930-0e5d-4c7b-e9e3-29f17febdab1"
   },
   "outputs": [],
   "source": [
    "import math\n",
    "from sklearn.metrics import mean_squared_error\n",
    "\n",
    "grid_rmse = math.sqrt(mean_squared_error(Y_test, grid_y_pred))\n",
    "print(\"RMSE:%f\" %(grid_rmse))"
   ]
  },
  {
   "cell_type": "code",
   "execution_count": null,
   "id": "EW64sb3_Wmy-",
   "metadata": {
    "ExecuteTime": {
     "end_time": "2021-10-06T05:47:06.142680Z",
     "start_time": "2021-10-06T05:47:06.135620Z"
    },
    "colab": {
     "base_uri": "https://localhost:8080/"
    },
    "id": "EW64sb3_Wmy-",
    "outputId": "54208d3d-3336-4cf3-cecd-56bf9a8994f3"
   },
   "outputs": [],
   "source": [
    "from sklearn.metrics import r2_score\n",
    "\n",
    "grid_r2 = r2_score(Y_test, grid_y_pred)\n",
    "print('XGBoost R2 score with parameter tunning: ', grid_r2)"
   ]
  },
  {
   "cell_type": "code",
   "execution_count": null,
   "id": "abecddb1",
   "metadata": {},
   "outputs": [],
   "source": []
  }
 ],
 "metadata": {
  "colab": {
   "collapsed_sections": [],
   "name": "이소오리엔틴_모델링.ipynb",
   "provenance": []
  },
  "kernelspec": {
   "display_name": "Python 3 (ipykernel)",
   "language": "python",
   "name": "python3"
  },
  "language_info": {
   "codemirror_mode": {
    "name": "ipython",
    "version": 3
   },
   "file_extension": ".py",
   "mimetype": "text/x-python",
   "name": "python",
   "nbconvert_exporter": "python",
   "pygments_lexer": "ipython3",
   "version": "3.9.12"
  },
  "toc": {
   "base_numbering": 1,
   "nav_menu": {},
   "number_sections": true,
   "sideBar": true,
   "skip_h1_title": false,
   "title_cell": "Table of Contents",
   "title_sidebar": "Contents",
   "toc_cell": false,
   "toc_position": {},
   "toc_section_display": true,
   "toc_window_display": false
  },
  "varInspector": {
   "cols": {
    "lenName": 16,
    "lenType": 16,
    "lenVar": 40
   },
   "kernels_config": {
    "python": {
     "delete_cmd_postfix": "",
     "delete_cmd_prefix": "del ",
     "library": "var_list.py",
     "varRefreshCmd": "print(var_dic_list())"
    },
    "r": {
     "delete_cmd_postfix": ") ",
     "delete_cmd_prefix": "rm(",
     "library": "var_list.r",
     "varRefreshCmd": "cat(var_dic_list()) "
    }
   },
   "types_to_exclude": [
    "module",
    "function",
    "builtin_function_or_method",
    "instance",
    "_Feature"
   ],
   "window_display": false
  }
 },
 "nbformat": 4,
 "nbformat_minor": 5
}
