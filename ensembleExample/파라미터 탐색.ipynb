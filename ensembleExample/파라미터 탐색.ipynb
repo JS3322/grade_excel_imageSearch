{
 "cells": [
  {
   "cell_type": "code",
   "execution_count": 1,
   "metadata": {},
   "outputs": [
    {
     "name": "stderr",
     "output_type": "stream",
     "text": [
      "/var/folders/jb/qgzvcj615dz8g2z95hz3mpfh0000gn/T/ipykernel_1458/3506205669.py:1: DeprecationWarning: Importing display from IPython.core.display is deprecated since IPython 7.14, please import from IPython display\n",
      "  from IPython.core.display import display, HTML\n"
     ]
    },
    {
     "data": {
      "text/html": [
       "<style>div.container { width:100% !important; }</style>"
      ],
      "text/plain": [
       "<IPython.core.display.HTML object>"
      ]
     },
     "metadata": {},
     "output_type": "display_data"
    }
   ],
   "source": [
    "from IPython.core.display import display, HTML\n",
    "display(HTML(\"<style>div.container { width:100% !important; }</style>\"))"
   ]
  },
  {
   "cell_type": "code",
   "execution_count": 2,
   "metadata": {},
   "outputs": [],
   "source": [
    "from sklearn.datasets import load_digits\n",
    "digits = load_digits()\n",
    "X, y = digits.data, digits.target"
   ]
  },
  {
   "cell_type": "code",
   "execution_count": 3,
   "metadata": {},
   "outputs": [
    {
     "data": {
      "image/png": "[encoded data removed]",
      "text/plain": [
       "<Figure size 800x800 with 10 Axes>"
      ]
     },
     "metadata": {},
     "output_type": "display_data"
    },
    {
     "data": {
      "image/png": "[encoded data removed]",
      "text/plain": [
       "<Figure size 800x800 with 10 Axes>"
      ]
     },
     "metadata": {},
     "output_type": "display_data"
    },
    {
     "data": {
      "image/png": "[encoded data removed]",
      "text/plain": [
       "<Figure size 800x800 with 10 Axes>"
      ]
     },
     "metadata": {},
     "output_type": "display_data"
    }
   ],
   "source": [
    "%matplotlib inline\n",
    "import matplotlib.pyplot as plt\n",
    "N = 30\n",
    "nrows = (N//10)\n",
    " \n",
    "for row in range(nrows):\n",
    "    plt.figure(figsize=(8, 8))\n",
    "    for i in range(10):\n",
    "        plt.subplot(1, 10, i+1)\n",
    "        plt.imshow(digits.images[i + row*10], cmap=plt.cm.gray_r, \n",
    "                   interpolation='nearest')\n",
    "        plt.axis(\"off\")\n",
    "    plt.show()"
   ]
  },
  {
   "cell_type": "code",
   "execution_count": 4,
   "metadata": {},
   "outputs": [
    {
     "data": {
      "text/html": [
       "<style>#sk-container-id-1 {color: black;background-color: white;}#sk-container-id-1 pre{padding: 0;}#sk-container-id-1 div.sk-toggleable {background-color: white;}#sk-container-id-1 label.sk-toggleable__label {cursor: pointer;display: block;width: 100%;margin-bottom: 0;padding: 0.3em;box-sizing: border-box;text-align: center;}#sk-container-id-1 label.sk-toggleable__label-arrow:before {content: \"▸\";float: left;margin-right: 0.25em;color: #696969;}#sk-container-id-1 label.sk-toggleable__label-arrow:hover:before {color: black;}#sk-container-id-1 div.sk-estimator:hover label.sk-toggleable__label-arrow:before {color: black;}#sk-container-id-1 div.sk-toggleable__content {max-height: 0;max-width: 0;overflow: hidden;text-align: left;background-color: #f0f8ff;}#sk-container-id-1 div.sk-toggleable__content pre {margin: 0.2em;color: black;border-radius: 0.25em;background-color: #f0f8ff;}#sk-container-id-1 input.sk-toggleable__control:checked~div.sk-toggleable__content {max-height: 200px;max-width: 100%;overflow: auto;}#sk-container-id-1 input.sk-toggleable__control:checked~label.sk-toggleable__label-arrow:before {content: \"▾\";}#sk-container-id-1 div.sk-estimator input.sk-toggleable__control:checked~label.sk-toggleable__label {background-color: #d4ebff;}#sk-container-id-1 div.sk-label input.sk-toggleable__control:checked~label.sk-toggleable__label {background-color: #d4ebff;}#sk-container-id-1 input.sk-hidden--visually {border: 0;clip: rect(1px 1px 1px 1px);clip: rect(1px, 1px, 1px, 1px);height: 1px;margin: -1px;overflow: hidden;padding: 0;position: absolute;width: 1px;}#sk-container-id-1 div.sk-estimator {font-family: monospace;background-color: #f0f8ff;border: 1px dotted black;border-radius: 0.25em;box-sizing: border-box;margin-bottom: 0.5em;}#sk-container-id-1 div.sk-estimator:hover {background-color: #d4ebff;}#sk-container-id-1 div.sk-parallel-item::after {content: \"\";width: 100%;border-bottom: 1px solid gray;flex-grow: 1;}#sk-container-id-1 div.sk-label:hover label.sk-toggleable__label {background-color: #d4ebff;}#sk-container-id-1 div.sk-serial::before {content: \"\";position: absolute;border-left: 1px solid gray;box-sizing: border-box;top: 0;bottom: 0;left: 50%;z-index: 0;}#sk-container-id-1 div.sk-serial {display: flex;flex-direction: column;align-items: center;background-color: white;padding-right: 0.2em;padding-left: 0.2em;position: relative;}#sk-container-id-1 div.sk-item {position: relative;z-index: 1;}#sk-container-id-1 div.sk-parallel {display: flex;align-items: stretch;justify-content: center;background-color: white;position: relative;}#sk-container-id-1 div.sk-item::before, #sk-container-id-1 div.sk-parallel-item::before {content: \"\";position: absolute;border-left: 1px solid gray;box-sizing: border-box;top: 0;bottom: 0;left: 50%;z-index: -1;}#sk-container-id-1 div.sk-parallel-item {display: flex;flex-direction: column;z-index: 1;position: relative;background-color: white;}#sk-container-id-1 div.sk-parallel-item:first-child::after {align-self: flex-end;width: 50%;}#sk-container-id-1 div.sk-parallel-item:last-child::after {align-self: flex-start;width: 50%;}#sk-container-id-1 div.sk-parallel-item:only-child::after {width: 0;}#sk-container-id-1 div.sk-dashed-wrapped {border: 1px dashed gray;margin: 0 0.4em 0.5em 0.4em;box-sizing: border-box;padding-bottom: 0.4em;background-color: white;}#sk-container-id-1 div.sk-label label {font-family: monospace;font-weight: bold;display: inline-block;line-height: 1.2em;}#sk-container-id-1 div.sk-label-container {text-align: center;}#sk-container-id-1 div.sk-container {/* jupyter's `normalize.less` sets `[hidden] { display: none; }` but bootstrap.min.css set `[hidden] { display: none !important; }` so we also need the `!important` here to be able to override the default hidden behavior on the sphinx rendered scikit-learn.org. See: https://github.com/scikit-learn/scikit-learn/issues/21755 */display: inline-block !important;position: relative;}#sk-container-id-1 div.sk-text-repr-fallback {display: none;}</style><div id=\"sk-container-id-1\" class=\"sk-top-container\"><div class=\"sk-text-repr-fallback\"><pre>SVC()</pre><b>In a Jupyter environment, please rerun this cell to show the HTML representation or trust the notebook. <br />On GitHub, the HTML representation is unable to render, please try loading this page with nbviewer.org.</b></div><div class=\"sk-container\" hidden><div class=\"sk-item\"><div class=\"sk-estimator sk-toggleable\"><input class=\"sk-toggleable__control sk-hidden--visually\" id=\"sk-estimator-id-1\" type=\"checkbox\" checked><label for=\"sk-estimator-id-1\" class=\"sk-toggleable__label sk-toggleable__label-arrow\">SVC</label><div class=\"sk-toggleable__content\"><pre>SVC()</pre></div></div></div></div></div>"
      ],
      "text/plain": [
       "SVC()"
      ]
     },
     "execution_count": 4,
     "metadata": {},
     "output_type": "execute_result"
    }
   ],
   "source": [
    "from sklearn.svm import SVC\n",
    "model = SVC().fit(X, y)\n",
    "model"
   ]
  },
  {
   "cell_type": "code",
   "execution_count": 5,
   "metadata": {},
   "outputs": [],
   "source": [
    "import numpy as np\n",
    "param_range = np.logspace(-6, -1, 10)"
   ]
  },
  {
   "cell_type": "code",
   "execution_count": 6,
   "metadata": {},
   "outputs": [
    {
     "name": "stdout",
     "output_type": "stream",
     "text": [
      "CPU times: user 33.8 s, sys: 57.9 ms, total: 33.9 s\n",
      "Wall time: 33.9 s\n"
     ]
    }
   ],
   "source": [
    "%%time\n",
    "from sklearn.svm import SVC\n",
    "from sklearn.model_selection import validation_curve\n",
    "train_scores, test_scores = validation_curve(\n",
    "    SVC(), X, y, param_name=\"gamma\", param_range=param_range,\n",
    "    cv=10, scoring=\"accuracy\", n_jobs=1)"
   ]
  },
  {
   "cell_type": "code",
   "execution_count": 8,
   "metadata": {},
   "outputs": [],
   "source": [
    "import numpy as np\n",
    "train_scores_mean = np.mean(train_scores, axis=1)\n",
    "train_scores_std = np.std(train_scores, axis=1)\n",
    "test_scores_mean = np.mean(test_scores, axis=1)\n",
    "test_scores_std = np.std(test_scores, axis=1)"
   ]
  },
  {
   "cell_type": "code",
   "execution_count": 9,
   "metadata": {},
   "outputs": [
    {
     "data": {
      "image/png": "[encoded data removed]",
      "text/plain": [
       "<Figure size 640x480 with 1 Axes>"
      ]
     },
     "metadata": {},
     "output_type": "display_data"
    }
   ],
   "source": [
    "%matplotlib inline\n",
    "import matplotlib.pyplot as plt\n",
    " \n",
    "plt.title(\"Validation Curve with SVM\")\n",
    "plt.xlabel(\"$\\gamma$\")\n",
    "plt.ylabel(\"Score\")\n",
    "plt.ylim(0.0, 1.1)\n",
    "plt.semilogx(param_range, train_scores_mean, label=\"Training score\",\n",
    "             color=\"darkorange\", lw=2)\n",
    "plt.fill_between(param_range, train_scores_mean - train_scores_std,\n",
    "                 train_scores_mean + train_scores_std, alpha=0.2,\n",
    "                 color=\"darkorange\", lw=2)\n",
    "plt.semilogx(param_range, test_scores_mean, label=\"Cross-validation score\",\n",
    "             color=\"navy\", lw=2)\n",
    "plt.fill_between(param_range, test_scores_mean - test_scores_std,\n",
    "                 test_scores_mean + test_scores_std, alpha=0.2, color=\"navy\", lw=2)\n",
    "plt.legend(loc=\"best\")\n",
    "plt.show()"
   ]
  },
  {
   "cell_type": "code",
   "execution_count": 10,
   "metadata": {},
   "outputs": [],
   "source": [
    "from sklearn.pipeline import Pipeline\n",
    "from sklearn.model_selection import GridSearchCV\n",
    "from sklearn.svm import SVC\n",
    "from sklearn.feature_selection import SelectKBest\n",
    "import pandas as pd\n",
    "redwine = pd.read_csv('https://archive.ics.uci.edu'\n",
    "                      '/ml/machine-learning-databases/wine-quality/winequality-red.csv', delimiter=';')\n",
    "redwine_X, redwine_y = redwine.iloc[:,:-1], redwine.iloc[:,-1]"
   ]
  },
  {
   "cell_type": "code",
   "execution_count": 11,
   "metadata": {},
   "outputs": [
    {
     "name": "stdout",
     "output_type": "stream",
     "text": [
      "Fitting 2 folds for each of 24 candidates, totalling 48 fits\n",
      "[CV 1/2; 1/24] START svm__C=0.1, univ_select__k=4...............................\n",
      "[CV 1/2; 1/24] END svm__C=0.1, univ_select__k=4;, score=0.516 total time=   0.0s\n",
      "[CV 2/2; 1/24] START svm__C=0.1, univ_select__k=4...............................\n",
      "[CV 2/2; 1/24] END svm__C=0.1, univ_select__k=4;, score=0.584 total time=   0.1s\n",
      "[CV 1/2; 2/24] START svm__C=0.1, univ_select__k=5...............................\n",
      "[CV 1/2; 2/24] END svm__C=0.1, univ_select__k=5;, score=0.516 total time=   0.0s\n",
      "[CV 2/2; 2/24] START svm__C=0.1, univ_select__k=5...............................\n",
      "[CV 2/2; 2/24] END svm__C=0.1, univ_select__k=5;, score=0.589 total time=   0.1s\n",
      "[CV 1/2; 3/24] START svm__C=0.1, univ_select__k=6...............................\n",
      "[CV 1/2; 3/24] END svm__C=0.1, univ_select__k=6;, score=0.519 total time=   0.1s\n",
      "[CV 2/2; 3/24] START svm__C=0.1, univ_select__k=6...............................\n",
      "[CV 2/2; 3/24] END svm__C=0.1, univ_select__k=6;, score=0.598 total time=   0.1s\n",
      "[CV 1/2; 4/24] START svm__C=0.1, univ_select__k=7...............................\n",
      "[CV 1/2; 4/24] END svm__C=0.1, univ_select__k=7;, score=0.516 total time=   0.1s\n",
      "[CV 2/2; 4/24] START svm__C=0.1, univ_select__k=7...............................\n",
      "[CV 2/2; 4/24] END svm__C=0.1, univ_select__k=7;, score=0.598 total time=   0.1s\n",
      "[CV 1/2; 5/24] START svm__C=0.1, univ_select__k=8...............................\n",
      "[CV 1/2; 5/24] END svm__C=0.1, univ_select__k=8;, score=0.521 total time=   0.1s\n",
      "[CV 2/2; 5/24] START svm__C=0.1, univ_select__k=8...............................\n",
      "[CV 2/2; 5/24] END svm__C=0.1, univ_select__k=8;, score=0.603 total time=   0.1s\n",
      "[CV 1/2; 6/24] START svm__C=0.1, univ_select__k=9...............................\n",
      "[CV 1/2; 6/24] END svm__C=0.1, univ_select__k=9;, score=0.522 total time=   0.2s\n",
      "[CV 2/2; 6/24] START svm__C=0.1, univ_select__k=9...............................\n",
      "[CV 2/2; 6/24] END svm__C=0.1, univ_select__k=9;, score=0.610 total time=   0.1s\n",
      "[CV 1/2; 7/24] START svm__C=0.1, univ_select__k=10..............................\n",
      "[CV 1/2; 7/24] END svm__C=0.1, univ_select__k=10;, score=0.520 total time=   0.2s\n",
      "[CV 2/2; 7/24] START svm__C=0.1, univ_select__k=10..............................\n",
      "[CV 2/2; 7/24] END svm__C=0.1, univ_select__k=10;, score=0.610 total time=   0.1s\n",
      "[CV 1/2; 8/24] START svm__C=0.1, univ_select__k=11..............................\n",
      "[CV 1/2; 8/24] END svm__C=0.1, univ_select__k=11;, score=0.525 total time=   0.2s\n",
      "[CV 2/2; 8/24] START svm__C=0.1, univ_select__k=11..............................\n",
      "[CV 2/2; 8/24] END svm__C=0.1, univ_select__k=11;, score=0.605 total time=   0.1s\n",
      "[CV 1/2; 9/24] START svm__C=1, univ_select__k=4.................................\n",
      "[CV 1/2; 9/24] END ..svm__C=1, univ_select__k=4;, score=0.525 total time=   0.0s\n",
      "[CV 2/2; 9/24] START svm__C=1, univ_select__k=4.................................\n",
      "[CV 2/2; 9/24] END ..svm__C=1, univ_select__k=4;, score=0.597 total time=   2.1s\n",
      "[CV 1/2; 10/24] START svm__C=1, univ_select__k=5................................\n",
      "[CV 1/2; 10/24] END .svm__C=1, univ_select__k=5;, score=0.519 total time=   0.0s\n",
      "[CV 2/2; 10/24] START svm__C=1, univ_select__k=5................................\n",
      "[CV 2/2; 10/24] END .svm__C=1, univ_select__k=5;, score=0.593 total time=   1.5s\n",
      "[CV 1/2; 11/24] START svm__C=1, univ_select__k=6................................\n",
      "[CV 1/2; 11/24] END .svm__C=1, univ_select__k=6;, score=0.524 total time=   2.4s\n",
      "[CV 2/2; 11/24] START svm__C=1, univ_select__k=6................................\n",
      "[CV 2/2; 11/24] END .svm__C=1, univ_select__k=6;, score=0.599 total time=   1.9s\n",
      "[CV 1/2; 12/24] START svm__C=1, univ_select__k=7................................\n",
      "[CV 1/2; 12/24] END .svm__C=1, univ_select__k=7;, score=0.521 total time=   1.7s\n",
      "[CV 2/2; 12/24] START svm__C=1, univ_select__k=7................................\n",
      "[CV 2/2; 12/24] END .svm__C=1, univ_select__k=7;, score=0.599 total time=   0.7s\n",
      "[CV 1/2; 13/24] START svm__C=1, univ_select__k=8................................\n",
      "[CV 1/2; 13/24] END .svm__C=1, univ_select__k=8;, score=0.532 total time=   2.6s\n",
      "[CV 2/2; 13/24] START svm__C=1, univ_select__k=8................................\n",
      "[CV 2/2; 13/24] END .svm__C=1, univ_select__k=8;, score=0.597 total time=   0.8s\n",
      "[CV 1/2; 14/24] START svm__C=1, univ_select__k=9................................\n",
      "[CV 1/2; 14/24] END .svm__C=1, univ_select__k=9;, score=0.544 total time=   2.1s\n",
      "[CV 2/2; 14/24] START svm__C=1, univ_select__k=9................................\n",
      "[CV 2/2; 14/24] END .svm__C=1, univ_select__k=9;, score=0.601 total time=   2.1s\n",
      "[CV 1/2; 15/24] START svm__C=1, univ_select__k=10...............................\n",
      "[CV 1/2; 15/24] END svm__C=1, univ_select__k=10;, score=0.544 total time=   1.8s\n",
      "[CV 2/2; 15/24] START svm__C=1, univ_select__k=10...............................\n",
      "[CV 2/2; 15/24] END svm__C=1, univ_select__k=10;, score=0.598 total time=   1.1s\n",
      "[CV 1/2; 16/24] START svm__C=1, univ_select__k=11...............................\n",
      "[CV 1/2; 16/24] END svm__C=1, univ_select__k=11;, score=0.530 total time=   1.6s\n",
      "[CV 2/2; 16/24] START svm__C=1, univ_select__k=11...............................\n",
      "[CV 2/2; 16/24] END svm__C=1, univ_select__k=11;, score=0.597 total time=   0.9s\n",
      "[CV 1/2; 17/24] START svm__C=10, univ_select__k=4...............................\n",
      "[CV 1/2; 17/24] END svm__C=10, univ_select__k=4;, score=0.516 total time=   0.0s\n",
      "[CV 2/2; 17/24] START svm__C=10, univ_select__k=4...............................\n",
      "[CV 2/2; 17/24] END svm__C=10, univ_select__k=4;, score=0.581 total time=  10.9s\n",
      "[CV 1/2; 18/24] START svm__C=10, univ_select__k=5...............................\n",
      "[CV 1/2; 18/24] END svm__C=10, univ_select__k=5;, score=0.522 total time=   0.1s\n",
      "[CV 2/2; 18/24] START svm__C=10, univ_select__k=5...............................\n",
      "[CV 2/2; 18/24] END svm__C=10, univ_select__k=5;, score=0.582 total time=   9.6s\n",
      "[CV 1/2; 19/24] START svm__C=10, univ_select__k=6...............................\n",
      "[CV 1/2; 19/24] END svm__C=10, univ_select__k=6;, score=0.522 total time=  14.4s\n",
      "[CV 2/2; 19/24] START svm__C=10, univ_select__k=6...............................\n",
      "[CV 2/2; 19/24] END svm__C=10, univ_select__k=6;, score=0.599 total time=  14.1s\n",
      "[CV 1/2; 20/24] START svm__C=10, univ_select__k=7...............................\n",
      "[CV 1/2; 20/24] END svm__C=10, univ_select__k=7;, score=0.530 total time=  15.9s\n",
      "[CV 2/2; 20/24] START svm__C=10, univ_select__k=7...............................\n",
      "[CV 2/2; 20/24] END svm__C=10, univ_select__k=7;, score=0.597 total time=   8.4s\n",
      "[CV 1/2; 21/24] START svm__C=10, univ_select__k=8...............................\n",
      "[CV 1/2; 21/24] END svm__C=10, univ_select__k=8;, score=0.534 total time=  15.2s\n",
      "[CV 2/2; 21/24] START svm__C=10, univ_select__k=8...............................\n",
      "[CV 2/2; 21/24] END svm__C=10, univ_select__k=8;, score=0.587 total time=  11.7s\n",
      "[CV 1/2; 22/24] START svm__C=10, univ_select__k=9...............................\n",
      "[CV 1/2; 22/24] END svm__C=10, univ_select__k=9;, score=0.541 total time=  15.1s\n",
      "[CV 2/2; 22/24] START svm__C=10, univ_select__k=9...............................\n",
      "[CV 2/2; 22/24] END svm__C=10, univ_select__k=9;, score=0.588 total time=  12.4s\n",
      "[CV 1/2; 23/24] START svm__C=10, univ_select__k=10..............................\n",
      "[CV 1/2; 23/24] END svm__C=10, univ_select__k=10;, score=0.524 total time=  11.9s\n",
      "[CV 2/2; 23/24] START svm__C=10, univ_select__k=10..............................\n",
      "[CV 2/2; 23/24] END svm__C=10, univ_select__k=10;, score=0.593 total time=  10.9s\n",
      "[CV 1/2; 24/24] START svm__C=10, univ_select__k=11..............................\n",
      "[CV 1/2; 24/24] END svm__C=10, univ_select__k=11;, score=0.519 total time=  11.0s\n",
      "[CV 2/2; 24/24] START svm__C=10, univ_select__k=11..............................\n",
      "[CV 2/2; 24/24] END svm__C=10, univ_select__k=11;, score=0.598 total time=  11.4s\n",
      "CPU times: user 3min 26s, sys: 247 ms, total: 3min 26s\n",
      "Wall time: 3min 26s\n"
     ]
    },
    {
     "data": {
      "text/html": [
       "<style>#sk-container-id-2 {color: black;background-color: white;}#sk-container-id-2 pre{padding: 0;}#sk-container-id-2 div.sk-toggleable {background-color: white;}#sk-container-id-2 label.sk-toggleable__label {cursor: pointer;display: block;width: 100%;margin-bottom: 0;padding: 0.3em;box-sizing: border-box;text-align: center;}#sk-container-id-2 label.sk-toggleable__label-arrow:before {content: \"▸\";float: left;margin-right: 0.25em;color: #696969;}#sk-container-id-2 label.sk-toggleable__label-arrow:hover:before {color: black;}#sk-container-id-2 div.sk-estimator:hover label.sk-toggleable__label-arrow:before {color: black;}#sk-container-id-2 div.sk-toggleable__content {max-height: 0;max-width: 0;overflow: hidden;text-align: left;background-color: #f0f8ff;}#sk-container-id-2 div.sk-toggleable__content pre {margin: 0.2em;color: black;border-radius: 0.25em;background-color: #f0f8ff;}#sk-container-id-2 input.sk-toggleable__control:checked~div.sk-toggleable__content {max-height: 200px;max-width: 100%;overflow: auto;}#sk-container-id-2 input.sk-toggleable__control:checked~label.sk-toggleable__label-arrow:before {content: \"▾\";}#sk-container-id-2 div.sk-estimator input.sk-toggleable__control:checked~label.sk-toggleable__label {background-color: #d4ebff;}#sk-container-id-2 div.sk-label input.sk-toggleable__control:checked~label.sk-toggleable__label {background-color: #d4ebff;}#sk-container-id-2 input.sk-hidden--visually {border: 0;clip: rect(1px 1px 1px 1px);clip: rect(1px, 1px, 1px, 1px);height: 1px;margin: -1px;overflow: hidden;padding: 0;position: absolute;width: 1px;}#sk-container-id-2 div.sk-estimator {font-family: monospace;background-color: #f0f8ff;border: 1px dotted black;border-radius: 0.25em;box-sizing: border-box;margin-bottom: 0.5em;}#sk-container-id-2 div.sk-estimator:hover {background-color: #d4ebff;}#sk-container-id-2 div.sk-parallel-item::after {content: \"\";width: 100%;border-bottom: 1px solid gray;flex-grow: 1;}#sk-container-id-2 div.sk-label:hover label.sk-toggleable__label {background-color: #d4ebff;}#sk-container-id-2 div.sk-serial::before {content: \"\";position: absolute;border-left: 1px solid gray;box-sizing: border-box;top: 0;bottom: 0;left: 50%;z-index: 0;}#sk-container-id-2 div.sk-serial {display: flex;flex-direction: column;align-items: center;background-color: white;padding-right: 0.2em;padding-left: 0.2em;position: relative;}#sk-container-id-2 div.sk-item {position: relative;z-index: 1;}#sk-container-id-2 div.sk-parallel {display: flex;align-items: stretch;justify-content: center;background-color: white;position: relative;}#sk-container-id-2 div.sk-item::before, #sk-container-id-2 div.sk-parallel-item::before {content: \"\";position: absolute;border-left: 1px solid gray;box-sizing: border-box;top: 0;bottom: 0;left: 50%;z-index: -1;}#sk-container-id-2 div.sk-parallel-item {display: flex;flex-direction: column;z-index: 1;position: relative;background-color: white;}#sk-container-id-2 div.sk-parallel-item:first-child::after {align-self: flex-end;width: 50%;}#sk-container-id-2 div.sk-parallel-item:last-child::after {align-self: flex-start;width: 50%;}#sk-container-id-2 div.sk-parallel-item:only-child::after {width: 0;}#sk-container-id-2 div.sk-dashed-wrapped {border: 1px dashed gray;margin: 0 0.4em 0.5em 0.4em;box-sizing: border-box;padding-bottom: 0.4em;background-color: white;}#sk-container-id-2 div.sk-label label {font-family: monospace;font-weight: bold;display: inline-block;line-height: 1.2em;}#sk-container-id-2 div.sk-label-container {text-align: center;}#sk-container-id-2 div.sk-container {/* jupyter's `normalize.less` sets `[hidden] { display: none; }` but bootstrap.min.css set `[hidden] { display: none !important; }` so we also need the `!important` here to be able to override the default hidden behavior on the sphinx rendered scikit-learn.org. See: https://github.com/scikit-learn/scikit-learn/issues/21755 */display: inline-block !important;position: relative;}#sk-container-id-2 div.sk-text-repr-fallback {display: none;}</style><div id=\"sk-container-id-2\" class=\"sk-top-container\"><div class=\"sk-text-repr-fallback\"><pre>GridSearchCV(cv=2,\n",
       "             estimator=Pipeline(steps=[(&#x27;univ_select&#x27;, SelectKBest(k=1)),\n",
       "                                       (&#x27;svm&#x27;, SVC(kernel=&#x27;linear&#x27;))]),\n",
       "             param_grid={&#x27;svm__C&#x27;: [0.1, 1, 10],\n",
       "                         &#x27;univ_select__k&#x27;: [4, 5, 6, 7, 8, 9, 10, 11]},\n",
       "             verbose=10)</pre><b>In a Jupyter environment, please rerun this cell to show the HTML representation or trust the notebook. <br />On GitHub, the HTML representation is unable to render, please try loading this page with nbviewer.org.</b></div><div class=\"sk-container\" hidden><div class=\"sk-item sk-dashed-wrapped\"><div class=\"sk-label-container\"><div class=\"sk-label sk-toggleable\"><input class=\"sk-toggleable__control sk-hidden--visually\" id=\"sk-estimator-id-2\" type=\"checkbox\" ><label for=\"sk-estimator-id-2\" class=\"sk-toggleable__label sk-toggleable__label-arrow\">GridSearchCV</label><div class=\"sk-toggleable__content\"><pre>GridSearchCV(cv=2,\n",
       "             estimator=Pipeline(steps=[(&#x27;univ_select&#x27;, SelectKBest(k=1)),\n",
       "                                       (&#x27;svm&#x27;, SVC(kernel=&#x27;linear&#x27;))]),\n",
       "             param_grid={&#x27;svm__C&#x27;: [0.1, 1, 10],\n",
       "                         &#x27;univ_select__k&#x27;: [4, 5, 6, 7, 8, 9, 10, 11]},\n",
       "             verbose=10)</pre></div></div></div><div class=\"sk-parallel\"><div class=\"sk-parallel-item\"><div class=\"sk-item\"><div class=\"sk-label-container\"><div class=\"sk-label sk-toggleable\"><input class=\"sk-toggleable__control sk-hidden--visually\" id=\"sk-estimator-id-3\" type=\"checkbox\" ><label for=\"sk-estimator-id-3\" class=\"sk-toggleable__label sk-toggleable__label-arrow\">estimator: Pipeline</label><div class=\"sk-toggleable__content\"><pre>Pipeline(steps=[(&#x27;univ_select&#x27;, SelectKBest(k=1)),\n",
       "                (&#x27;svm&#x27;, SVC(kernel=&#x27;linear&#x27;))])</pre></div></div></div><div class=\"sk-serial\"><div class=\"sk-item\"><div class=\"sk-serial\"><div class=\"sk-item\"><div class=\"sk-estimator sk-toggleable\"><input class=\"sk-toggleable__control sk-hidden--visually\" id=\"sk-estimator-id-4\" type=\"checkbox\" ><label for=\"sk-estimator-id-4\" class=\"sk-toggleable__label sk-toggleable__label-arrow\">SelectKBest</label><div class=\"sk-toggleable__content\"><pre>SelectKBest(k=1)</pre></div></div></div><div class=\"sk-item\"><div class=\"sk-estimator sk-toggleable\"><input class=\"sk-toggleable__control sk-hidden--visually\" id=\"sk-estimator-id-5\" type=\"checkbox\" ><label for=\"sk-estimator-id-5\" class=\"sk-toggleable__label sk-toggleable__label-arrow\">SVC</label><div class=\"sk-toggleable__content\"><pre>SVC(kernel=&#x27;linear&#x27;)</pre></div></div></div></div></div></div></div></div></div></div></div></div>"
      ],
      "text/plain": [
       "GridSearchCV(cv=2,\n",
       "             estimator=Pipeline(steps=[('univ_select', SelectKBest(k=1)),\n",
       "                                       ('svm', SVC(kernel='linear'))]),\n",
       "             param_grid={'svm__C': [0.1, 1, 10],\n",
       "                         'univ_select__k': [4, 5, 6, 7, 8, 9, 10, 11]},\n",
       "             verbose=10)"
      ]
     },
     "execution_count": 11,
     "metadata": {},
     "output_type": "execute_result"
    }
   ],
   "source": [
    "%%time\n",
    "selection = SelectKBest(k=1)\n",
    "svm = SVC(kernel=\"linear\")\n",
    "pipeline = Pipeline([(\"univ_select\", selection), (\"svm\", svm)])\n",
    "param_grid = dict(univ_select__k=[4, 5, 6, 7, 8, 9, 10, 11], \n",
    "                  svm__C=[0.1, 1, 10])\n",
    "grid_search = GridSearchCV(pipeline, param_grid=param_grid, cv=2, verbose=10)\n",
    "grid_search.fit(redwine_X, redwine_y)"
   ]
  },
  {
   "cell_type": "code",
   "execution_count": 11,
   "metadata": {},
   "outputs": [
    {
     "name": "stdout",
     "output_type": "stream",
     "text": [
      "Pipeline(steps=[('univ_select', SelectKBest(k=9)),\n",
      "                ('svm', SVC(C=1, kernel='linear'))])\n"
     ]
    }
   ],
   "source": [
    "print(grid_search.best_estimator_)"
   ]
  },
  {
   "cell_type": "code",
   "execution_count": 12,
   "metadata": {},
   "outputs": [
    {
     "data": {
      "text/plain": [
       "{'svm__C': 1, 'univ_select__k': 9}"
      ]
     },
     "execution_count": 12,
     "metadata": {},
     "output_type": "execute_result"
    }
   ],
   "source": [
    "grid_search.best_params_"
   ]
  },
  {
   "cell_type": "code",
   "execution_count": null,
   "metadata": {},
   "outputs": [],
   "source": []
  }
 ],
 "metadata": {
  "kernelspec": {
   "display_name": "Python 3 (ipykernel)",
   "language": "python",
   "name": "python3"
  },
  "language_info": {
   "codemirror_mode": {
    "name": "ipython",
    "version": 3
   },
   "file_extension": ".py",
   "mimetype": "text/x-python",
   "name": "python",
   "nbconvert_exporter": "python",
   "pygments_lexer": "ipython3",
   "version": "3.10.6"
  },
  "toc": {
   "base_numbering": 1,
   "nav_menu": {},
   "number_sections": true,
   "sideBar": true,
   "skip_h1_title": false,
   "title_cell": "Table of Contents",
   "title_sidebar": "Contents",
   "toc_cell": false,
   "toc_position": {},
   "toc_section_display": true,
   "toc_window_display": false
  },
  "varInspector": {
   "cols": {
    "lenName": 16,
    "lenType": 16,
    "lenVar": 40
   },
   "kernels_config": {
    "python": {
     "delete_cmd_postfix": "",
     "delete_cmd_prefix": "del ",
     "library": "var_list.py",
     "varRefreshCmd": "print(var_dic_list())"
    },
    "r": {
     "delete_cmd_postfix": ") ",
     "delete_cmd_prefix": "rm(",
     "library": "var_list.r",
     "varRefreshCmd": "cat(var_dic_list()) "
    }
   },
   "types_to_exclude": [
    "module",
    "function",
    "builtin_function_or_method",
    "instance",
    "_Feature"
   ],
   "window_display": false
  }
 },
 "nbformat": 4,
 "nbformat_minor": 4
}
