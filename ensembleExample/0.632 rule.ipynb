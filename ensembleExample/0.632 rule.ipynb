{
 "cells": [
  {
   "cell_type": "code",
   "execution_count": 19,
   "id": "4152415c",
   "metadata": {
    "ExecuteTime": {
     "end_time": "2021-06-24T07:55:33.824406Z",
     "start_time": "2021-06-24T07:55:33.517840Z"
    },
    "scrolled": true
   },
   "outputs": [
    {
     "data": {
      "text/plain": [
       "0.632"
      ]
     },
     "execution_count": 19,
     "metadata": {},
     "output_type": "execute_result"
    }
   ],
   "source": [
    "import numpy as np\n",
    "\n",
    "N = 1000000 # \n",
    "bootstrap = np.random.choice(N, N, replace=True) \n",
    "np.round(len(set(bootstrap))/N, 3) "
   ]
  },
  {
   "cell_type": "code",
   "execution_count": 54,
   "id": "f7a87287",
   "metadata": {
    "ExecuteTime": {
     "end_time": "2021-06-24T08:13:03.109653Z",
     "start_time": "2021-06-24T08:13:03.096645Z"
    }
   },
   "outputs": [
    {
     "data": {
      "text/plain": [
       "(0.36787944117144233, 0.6321205588285577)"
      ]
     },
     "execution_count": 54,
     "metadata": {},
     "output_type": "execute_result"
    }
   ],
   "source": [
    "np.exp(-1), 1-np.exp(-1)"
   ]
  },
  {
   "cell_type": "code",
   "execution_count": 57,
   "id": "a58aee6c",
   "metadata": {
    "ExecuteTime": {
     "end_time": "2021-06-24T08:13:43.688426Z",
     "start_time": "2021-06-24T08:13:43.594748Z"
    }
   },
   "outputs": [],
   "source": [
    "N = 10000 # \n",
    "result = []\n",
    "for i in np.linspace(1, N, num=100):\n",
    "    bootstrap = np.random.choice(int(i), int(i), replace=True) \n",
    "    result.append(np.round(len(set(bootstrap))/int(i), 3))"
   ]
  },
  {
   "cell_type": "code",
   "execution_count": 58,
   "id": "cd5dbcc9",
   "metadata": {
    "ExecuteTime": {
     "end_time": "2021-06-24T08:13:44.598581Z",
     "start_time": "2021-06-24T08:13:44.420639Z"
    }
   },
   "outputs": [
    {
     "data": {
      "image/png": "[encoded data removed]",
      "text/plain": [
       "<Figure size 432x288 with 1 Axes>"
      ]
     },
     "metadata": {
      "needs_background": "light"
     },
     "output_type": "display_data"
    }
   ],
   "source": [
    "import matplotlib.pyplot as plt\n",
    "\n",
    "plt.plot(result, 'b-')\n",
    "plt.show()"
   ]
  },
  {
   "cell_type": "code",
   "execution_count": null,
   "id": "9cb8c884",
   "metadata": {},
   "outputs": [],
   "source": []
  }
 ],
 "metadata": {
  "kernelspec": {
   "display_name": "Python 3 (ipykernel)",
   "language": "python",
   "name": "python3"
  },
  "language_info": {
   "codemirror_mode": {
    "name": "ipython",
    "version": 3
   },
   "file_extension": ".py",
   "mimetype": "text/x-python",
   "name": "python",
   "nbconvert_exporter": "python",
   "pygments_lexer": "ipython3",
   "version": "3.10.6"
  },
  "toc": {
   "base_numbering": 1,
   "nav_menu": {},
   "number_sections": true,
   "sideBar": true,
   "skip_h1_title": false,
   "title_cell": "Table of Contents",
   "title_sidebar": "Contents",
   "toc_cell": false,
   "toc_position": {},
   "toc_section_display": true,
   "toc_window_display": false
  },
  "varInspector": {
   "cols": {
    "lenName": 16,
    "lenType": 16,
    "lenVar": 40
   },
   "kernels_config": {
    "python": {
     "delete_cmd_postfix": "",
     "delete_cmd_prefix": "del ",
     "library": "var_list.py",
     "varRefreshCmd": "print(var_dic_list())"
    },
    "r": {
     "delete_cmd_postfix": ") ",
     "delete_cmd_prefix": "rm(",
     "library": "var_list.r",
     "varRefreshCmd": "cat(var_dic_list()) "
    }
   },
   "types_to_exclude": [
    "module",
    "function",
    "builtin_function_or_method",
    "instance",
    "_Feature"
   ],
   "window_display": false
  }
 },
 "nbformat": 4,
 "nbformat_minor": 5
}
