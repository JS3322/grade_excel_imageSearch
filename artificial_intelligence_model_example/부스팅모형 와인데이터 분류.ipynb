{
 "cells": [
  {
   "cell_type": "code",
   "execution_count": 35,
   "id": "60adb0d3",
   "metadata": {},
   "outputs": [
    {
     "data": {
      "text/html": [
       "<style>div.container { width:100% !important; }</style>"
      ],
      "text/plain": [
       "<IPython.core.display.HTML object>"
      ]
     },
     "metadata": {},
     "output_type": "display_data"
    }
   ],
   "source": [
    "from IPython.core.display import display, HTML\n",
    "display(HTML(\"<style>div.container { width:100% !important; }</style>\"))"
   ]
  },
  {
   "cell_type": "code",
   "execution_count": 2,
   "id": "0194524d",
   "metadata": {
    "ExecuteTime": {
     "end_time": "2021-07-13T14:38:29.520804Z",
     "start_time": "2021-07-13T14:38:28.816029Z"
    }
   },
   "outputs": [],
   "source": [
    "import pandas as pd"
   ]
  },
  {
   "cell_type": "code",
   "execution_count": 3,
   "id": "358817a2",
   "metadata": {
    "ExecuteTime": {
     "end_time": "2021-07-13T14:38:30.245837Z",
     "start_time": "2021-07-13T14:38:29.522803Z"
    }
   },
   "outputs": [],
   "source": [
    "wine_df = pd.read_csv(\"https://archive.ics.uci.edu\"\n",
    "                      \"/ml/machine-learning-databases/wine/wine.data\", \n",
    "                      header=None)"
   ]
  },
  {
   "cell_type": "code",
   "execution_count": 4,
   "id": "ac430e42",
   "metadata": {
    "ExecuteTime": {
     "end_time": "2021-07-13T14:38:30.276828Z",
     "start_time": "2021-07-13T14:38:30.247837Z"
    }
   },
   "outputs": [
    {
     "data": {
      "text/html": [
       "<div>\n",
       "<style scoped>\n",
       "    .dataframe tbody tr th:only-of-type {\n",
       "        vertical-align: middle;\n",
       "    }\n",
       "\n",
       "    .dataframe tbody tr th {\n",
       "        vertical-align: top;\n",
       "    }\n",
       "\n",
       "    .dataframe thead th {\n",
       "        text-align: right;\n",
       "    }\n",
       "</style>\n",
       "<table border=\"1\" class=\"dataframe\">\n",
       "  <thead>\n",
       "    <tr style=\"text-align: right;\">\n",
       "      <th></th>\n",
       "      <th>0</th>\n",
       "      <th>1</th>\n",
       "      <th>2</th>\n",
       "      <th>3</th>\n",
       "      <th>4</th>\n",
       "      <th>5</th>\n",
       "      <th>6</th>\n",
       "      <th>7</th>\n",
       "      <th>8</th>\n",
       "      <th>9</th>\n",
       "      <th>10</th>\n",
       "      <th>11</th>\n",
       "      <th>12</th>\n",
       "      <th>13</th>\n",
       "    </tr>\n",
       "  </thead>\n",
       "  <tbody>\n",
       "    <tr>\n",
       "      <th>0</th>\n",
       "      <td>1</td>\n",
       "      <td>14.23</td>\n",
       "      <td>1.71</td>\n",
       "      <td>2.43</td>\n",
       "      <td>15.6</td>\n",
       "      <td>127</td>\n",
       "      <td>2.80</td>\n",
       "      <td>3.06</td>\n",
       "      <td>0.28</td>\n",
       "      <td>2.29</td>\n",
       "      <td>5.64</td>\n",
       "      <td>1.04</td>\n",
       "      <td>3.92</td>\n",
       "      <td>1065</td>\n",
       "    </tr>\n",
       "    <tr>\n",
       "      <th>1</th>\n",
       "      <td>1</td>\n",
       "      <td>13.20</td>\n",
       "      <td>1.78</td>\n",
       "      <td>2.14</td>\n",
       "      <td>11.2</td>\n",
       "      <td>100</td>\n",
       "      <td>2.65</td>\n",
       "      <td>2.76</td>\n",
       "      <td>0.26</td>\n",
       "      <td>1.28</td>\n",
       "      <td>4.38</td>\n",
       "      <td>1.05</td>\n",
       "      <td>3.40</td>\n",
       "      <td>1050</td>\n",
       "    </tr>\n",
       "    <tr>\n",
       "      <th>2</th>\n",
       "      <td>1</td>\n",
       "      <td>13.16</td>\n",
       "      <td>2.36</td>\n",
       "      <td>2.67</td>\n",
       "      <td>18.6</td>\n",
       "      <td>101</td>\n",
       "      <td>2.80</td>\n",
       "      <td>3.24</td>\n",
       "      <td>0.30</td>\n",
       "      <td>2.81</td>\n",
       "      <td>5.68</td>\n",
       "      <td>1.03</td>\n",
       "      <td>3.17</td>\n",
       "      <td>1185</td>\n",
       "    </tr>\n",
       "    <tr>\n",
       "      <th>3</th>\n",
       "      <td>1</td>\n",
       "      <td>14.37</td>\n",
       "      <td>1.95</td>\n",
       "      <td>2.50</td>\n",
       "      <td>16.8</td>\n",
       "      <td>113</td>\n",
       "      <td>3.85</td>\n",
       "      <td>3.49</td>\n",
       "      <td>0.24</td>\n",
       "      <td>2.18</td>\n",
       "      <td>7.80</td>\n",
       "      <td>0.86</td>\n",
       "      <td>3.45</td>\n",
       "      <td>1480</td>\n",
       "    </tr>\n",
       "    <tr>\n",
       "      <th>4</th>\n",
       "      <td>1</td>\n",
       "      <td>13.24</td>\n",
       "      <td>2.59</td>\n",
       "      <td>2.87</td>\n",
       "      <td>21.0</td>\n",
       "      <td>118</td>\n",
       "      <td>2.80</td>\n",
       "      <td>2.69</td>\n",
       "      <td>0.39</td>\n",
       "      <td>1.82</td>\n",
       "      <td>4.32</td>\n",
       "      <td>1.04</td>\n",
       "      <td>2.93</td>\n",
       "      <td>735</td>\n",
       "    </tr>\n",
       "  </tbody>\n",
       "</table>\n",
       "</div>"
      ],
      "text/plain": [
       "   0      1     2     3     4    5     6     7     8     9     10    11    12    13\n",
       "0   1  14.23  1.71  2.43  15.6  127  2.80  3.06  0.28  2.29  5.64  1.04  3.92  1065\n",
       "1   1  13.20  1.78  2.14  11.2  100  2.65  2.76  0.26  1.28  4.38  1.05  3.40  1050\n",
       "2   1  13.16  2.36  2.67  18.6  101  2.80  3.24  0.30  2.81  5.68  1.03  3.17  1185\n",
       "3   1  14.37  1.95  2.50  16.8  113  3.85  3.49  0.24  2.18  7.80  0.86  3.45  1480\n",
       "4   1  13.24  2.59  2.87  21.0  118  2.80  2.69  0.39  1.82  4.32  1.04  2.93   735"
      ]
     },
     "execution_count": 4,
     "metadata": {},
     "output_type": "execute_result"
    }
   ],
   "source": [
    "wine_df.head()"
   ]
  },
  {
   "cell_type": "code",
   "execution_count": 5,
   "id": "5e6a1ea5",
   "metadata": {
    "ExecuteTime": {
     "end_time": "2021-07-13T14:38:30.292823Z",
     "start_time": "2021-07-13T14:38:30.278828Z"
    }
   },
   "outputs": [],
   "source": [
    "wine_df.columns = ['Class label', 'Alcohol', 'Malic acid', 'Ash', 'Alcalinity of ash', \n",
    "                   'Magnesium', 'Total phenols', 'Flavanoids', 'Nonflavanoid phenols', \n",
    "                   'Proanthocyanins', 'Color intensity', 'Hue', 'OD280/OD315 of diluted wines',\n",
    "                   'Proline']"
   ]
  },
  {
   "cell_type": "code",
   "execution_count": 6,
   "id": "4af49c31",
   "metadata": {
    "ExecuteTime": {
     "end_time": "2021-07-13T14:38:30.322940Z",
     "start_time": "2021-07-13T14:38:30.293822Z"
    }
   },
   "outputs": [
    {
     "data": {
      "text/html": [
       "<div>\n",
       "<style scoped>\n",
       "    .dataframe tbody tr th:only-of-type {\n",
       "        vertical-align: middle;\n",
       "    }\n",
       "\n",
       "    .dataframe tbody tr th {\n",
       "        vertical-align: top;\n",
       "    }\n",
       "\n",
       "    .dataframe thead th {\n",
       "        text-align: right;\n",
       "    }\n",
       "</style>\n",
       "<table border=\"1\" class=\"dataframe\">\n",
       "  <thead>\n",
       "    <tr style=\"text-align: right;\">\n",
       "      <th></th>\n",
       "      <th>Class label</th>\n",
       "      <th>Alcohol</th>\n",
       "      <th>Malic acid</th>\n",
       "      <th>Ash</th>\n",
       "      <th>Alcalinity of ash</th>\n",
       "      <th>Magnesium</th>\n",
       "      <th>Total phenols</th>\n",
       "      <th>Flavanoids</th>\n",
       "      <th>Nonflavanoid phenols</th>\n",
       "      <th>Proanthocyanins</th>\n",
       "      <th>Color intensity</th>\n",
       "      <th>Hue</th>\n",
       "      <th>OD280/OD315 of diluted wines</th>\n",
       "      <th>Proline</th>\n",
       "    </tr>\n",
       "  </thead>\n",
       "  <tbody>\n",
       "    <tr>\n",
       "      <th>0</th>\n",
       "      <td>1</td>\n",
       "      <td>14.23</td>\n",
       "      <td>1.71</td>\n",
       "      <td>2.43</td>\n",
       "      <td>15.6</td>\n",
       "      <td>127</td>\n",
       "      <td>2.80</td>\n",
       "      <td>3.06</td>\n",
       "      <td>0.28</td>\n",
       "      <td>2.29</td>\n",
       "      <td>5.64</td>\n",
       "      <td>1.04</td>\n",
       "      <td>3.92</td>\n",
       "      <td>1065</td>\n",
       "    </tr>\n",
       "    <tr>\n",
       "      <th>1</th>\n",
       "      <td>1</td>\n",
       "      <td>13.20</td>\n",
       "      <td>1.78</td>\n",
       "      <td>2.14</td>\n",
       "      <td>11.2</td>\n",
       "      <td>100</td>\n",
       "      <td>2.65</td>\n",
       "      <td>2.76</td>\n",
       "      <td>0.26</td>\n",
       "      <td>1.28</td>\n",
       "      <td>4.38</td>\n",
       "      <td>1.05</td>\n",
       "      <td>3.40</td>\n",
       "      <td>1050</td>\n",
       "    </tr>\n",
       "    <tr>\n",
       "      <th>2</th>\n",
       "      <td>1</td>\n",
       "      <td>13.16</td>\n",
       "      <td>2.36</td>\n",
       "      <td>2.67</td>\n",
       "      <td>18.6</td>\n",
       "      <td>101</td>\n",
       "      <td>2.80</td>\n",
       "      <td>3.24</td>\n",
       "      <td>0.30</td>\n",
       "      <td>2.81</td>\n",
       "      <td>5.68</td>\n",
       "      <td>1.03</td>\n",
       "      <td>3.17</td>\n",
       "      <td>1185</td>\n",
       "    </tr>\n",
       "    <tr>\n",
       "      <th>3</th>\n",
       "      <td>1</td>\n",
       "      <td>14.37</td>\n",
       "      <td>1.95</td>\n",
       "      <td>2.50</td>\n",
       "      <td>16.8</td>\n",
       "      <td>113</td>\n",
       "      <td>3.85</td>\n",
       "      <td>3.49</td>\n",
       "      <td>0.24</td>\n",
       "      <td>2.18</td>\n",
       "      <td>7.80</td>\n",
       "      <td>0.86</td>\n",
       "      <td>3.45</td>\n",
       "      <td>1480</td>\n",
       "    </tr>\n",
       "    <tr>\n",
       "      <th>4</th>\n",
       "      <td>1</td>\n",
       "      <td>13.24</td>\n",
       "      <td>2.59</td>\n",
       "      <td>2.87</td>\n",
       "      <td>21.0</td>\n",
       "      <td>118</td>\n",
       "      <td>2.80</td>\n",
       "      <td>2.69</td>\n",
       "      <td>0.39</td>\n",
       "      <td>1.82</td>\n",
       "      <td>4.32</td>\n",
       "      <td>1.04</td>\n",
       "      <td>2.93</td>\n",
       "      <td>735</td>\n",
       "    </tr>\n",
       "  </tbody>\n",
       "</table>\n",
       "</div>"
      ],
      "text/plain": [
       "   Class label  Alcohol  Malic acid   Ash  ...  Color intensity   Hue  OD280/OD315 of diluted wines  Proline\n",
       "0            1    14.23        1.71  2.43  ...             5.64  1.04                          3.92     1065\n",
       "1            1    13.20        1.78  2.14  ...             4.38  1.05                          3.40     1050\n",
       "2            1    13.16        2.36  2.67  ...             5.68  1.03                          3.17     1185\n",
       "3            1    14.37        1.95  2.50  ...             7.80  0.86                          3.45     1480\n",
       "4            1    13.24        2.59  2.87  ...             4.32  1.04                          2.93      735\n",
       "\n",
       "[5 rows x 14 columns]"
      ]
     },
     "execution_count": 6,
     "metadata": {},
     "output_type": "execute_result"
    }
   ],
   "source": [
    "wine_df.head()"
   ]
  },
  {
   "cell_type": "code",
   "execution_count": 7,
   "id": "635abb52",
   "metadata": {
    "ExecuteTime": {
     "end_time": "2021-07-13T14:38:30.370797Z",
     "start_time": "2021-07-13T14:38:30.324812Z"
    }
   },
   "outputs": [
    {
     "data": {
      "text/html": [
       "<div>\n",
       "<style scoped>\n",
       "    .dataframe tbody tr th:only-of-type {\n",
       "        vertical-align: middle;\n",
       "    }\n",
       "\n",
       "    .dataframe tbody tr th {\n",
       "        vertical-align: top;\n",
       "    }\n",
       "\n",
       "    .dataframe thead th {\n",
       "        text-align: right;\n",
       "    }\n",
       "</style>\n",
       "<table border=\"1\" class=\"dataframe\">\n",
       "  <thead>\n",
       "    <tr style=\"text-align: right;\">\n",
       "      <th></th>\n",
       "      <th>Class label</th>\n",
       "      <th>Alcohol</th>\n",
       "      <th>Malic acid</th>\n",
       "      <th>Ash</th>\n",
       "      <th>Alcalinity of ash</th>\n",
       "      <th>Magnesium</th>\n",
       "      <th>Total phenols</th>\n",
       "      <th>Flavanoids</th>\n",
       "      <th>Nonflavanoid phenols</th>\n",
       "      <th>Proanthocyanins</th>\n",
       "      <th>Color intensity</th>\n",
       "      <th>Hue</th>\n",
       "      <th>OD280/OD315 of diluted wines</th>\n",
       "      <th>Proline</th>\n",
       "    </tr>\n",
       "  </thead>\n",
       "  <tbody>\n",
       "    <tr>\n",
       "      <th>59</th>\n",
       "      <td>2</td>\n",
       "      <td>12.37</td>\n",
       "      <td>0.94</td>\n",
       "      <td>1.36</td>\n",
       "      <td>10.6</td>\n",
       "      <td>88</td>\n",
       "      <td>1.98</td>\n",
       "      <td>0.57</td>\n",
       "      <td>0.28</td>\n",
       "      <td>0.42</td>\n",
       "      <td>1.95</td>\n",
       "      <td>1.05</td>\n",
       "      <td>1.82</td>\n",
       "      <td>520</td>\n",
       "    </tr>\n",
       "    <tr>\n",
       "      <th>60</th>\n",
       "      <td>2</td>\n",
       "      <td>12.33</td>\n",
       "      <td>1.10</td>\n",
       "      <td>2.28</td>\n",
       "      <td>16.0</td>\n",
       "      <td>101</td>\n",
       "      <td>2.05</td>\n",
       "      <td>1.09</td>\n",
       "      <td>0.63</td>\n",
       "      <td>0.41</td>\n",
       "      <td>3.27</td>\n",
       "      <td>1.25</td>\n",
       "      <td>1.67</td>\n",
       "      <td>680</td>\n",
       "    </tr>\n",
       "    <tr>\n",
       "      <th>61</th>\n",
       "      <td>2</td>\n",
       "      <td>12.64</td>\n",
       "      <td>1.36</td>\n",
       "      <td>2.02</td>\n",
       "      <td>16.8</td>\n",
       "      <td>100</td>\n",
       "      <td>2.02</td>\n",
       "      <td>1.41</td>\n",
       "      <td>0.53</td>\n",
       "      <td>0.62</td>\n",
       "      <td>5.75</td>\n",
       "      <td>0.98</td>\n",
       "      <td>1.59</td>\n",
       "      <td>450</td>\n",
       "    </tr>\n",
       "    <tr>\n",
       "      <th>62</th>\n",
       "      <td>2</td>\n",
       "      <td>13.67</td>\n",
       "      <td>1.25</td>\n",
       "      <td>1.92</td>\n",
       "      <td>18.0</td>\n",
       "      <td>94</td>\n",
       "      <td>2.10</td>\n",
       "      <td>1.79</td>\n",
       "      <td>0.32</td>\n",
       "      <td>0.73</td>\n",
       "      <td>3.80</td>\n",
       "      <td>1.23</td>\n",
       "      <td>2.46</td>\n",
       "      <td>630</td>\n",
       "    </tr>\n",
       "    <tr>\n",
       "      <th>63</th>\n",
       "      <td>2</td>\n",
       "      <td>12.37</td>\n",
       "      <td>1.13</td>\n",
       "      <td>2.16</td>\n",
       "      <td>19.0</td>\n",
       "      <td>87</td>\n",
       "      <td>3.50</td>\n",
       "      <td>3.10</td>\n",
       "      <td>0.19</td>\n",
       "      <td>1.87</td>\n",
       "      <td>4.45</td>\n",
       "      <td>1.22</td>\n",
       "      <td>2.87</td>\n",
       "      <td>420</td>\n",
       "    </tr>\n",
       "  </tbody>\n",
       "</table>\n",
       "</div>"
      ],
      "text/plain": [
       "    Class label  Alcohol  Malic acid   Ash  ...  Color intensity   Hue  OD280/OD315 of diluted wines  Proline\n",
       "59            2    12.37        0.94  1.36  ...             1.95  1.05                          1.82      520\n",
       "60            2    12.33        1.10  2.28  ...             3.27  1.25                          1.67      680\n",
       "61            2    12.64        1.36  2.02  ...             5.75  0.98                          1.59      450\n",
       "62            2    13.67        1.25  1.92  ...             3.80  1.23                          2.46      630\n",
       "63            2    12.37        1.13  2.16  ...             4.45  1.22                          2.87      420\n",
       "\n",
       "[5 rows x 14 columns]"
      ]
     },
     "execution_count": 7,
     "metadata": {},
     "output_type": "execute_result"
    }
   ],
   "source": [
    "wine_df = wine_df[wine_df['Class label'] != 1]\n",
    "wine_df.head()"
   ]
  },
  {
   "cell_type": "code",
   "execution_count": 8,
   "id": "cd509f76",
   "metadata": {
    "ExecuteTime": {
     "end_time": "2021-07-13T14:38:30.385792Z",
     "start_time": "2021-07-13T14:38:30.371797Z"
    }
   },
   "outputs": [],
   "source": [
    "X = wine_df[[\"Alcohol\", \"Hue\"]].values\n",
    "y = wine_df[\"Class label\"].values"
   ]
  },
  {
   "cell_type": "code",
   "execution_count": 9,
   "id": "5bbf7fed",
   "metadata": {
    "ExecuteTime": {
     "end_time": "2021-07-13T14:38:30.400788Z",
     "start_time": "2021-07-13T14:38:30.388792Z"
    }
   },
   "outputs": [
    {
     "data": {
      "text/plain": [
       "((119, 2), (119,))"
      ]
     },
     "execution_count": 9,
     "metadata": {},
     "output_type": "execute_result"
    }
   ],
   "source": [
    "X.shape, y.shape"
   ]
  },
  {
   "cell_type": "code",
   "execution_count": 10,
   "id": "8e950a61",
   "metadata": {
    "ExecuteTime": {
     "end_time": "2021-07-13T14:38:32.540789Z",
     "start_time": "2021-07-13T14:38:30.404787Z"
    }
   },
   "outputs": [],
   "source": [
    "from sklearn.preprocessing import LabelEncoder\n",
    "le = LabelEncoder()\n",
    "y = le.fit_transform(y)"
   ]
  },
  {
   "cell_type": "code",
   "execution_count": 11,
   "id": "df358cd4",
   "metadata": {
    "ExecuteTime": {
     "end_time": "2021-07-13T14:38:32.600864Z",
     "start_time": "2021-07-13T14:38:32.542791Z"
    }
   },
   "outputs": [],
   "source": [
    "from sklearn.model_selection import train_test_split\n",
    "train_X, test_X, train_y, test_y = train_test_split(X, y, test_size=0.4, random_state=1)"
   ]
  },
  {
   "cell_type": "code",
   "execution_count": 12,
   "id": "268416eb",
   "metadata": {
    "ExecuteTime": {
     "end_time": "2021-07-13T14:38:32.615820Z",
     "start_time": "2021-07-13T14:38:32.601824Z"
    }
   },
   "outputs": [
    {
     "data": {
      "text/plain": [
       "(array([0, 0, 0, 1, 0, 0, 1, 1, 0, 1, 0, 1, 0, 0, 0, 1, 0, 0, 0, 0, 1, 1,\n",
       "        0, 0, 0, 0, 1, 0, 1, 0, 1, 0, 0, 0, 1, 0, 0, 0, 0, 0, 1, 0, 1, 1,\n",
       "        1, 0, 1, 0, 0, 0, 0, 1, 0, 1, 0, 0, 0, 0, 1, 1, 0, 0, 0, 1, 0, 1,\n",
       "        0, 1, 0, 1, 0], dtype=int64),\n",
       " array([1, 0, 0, 1, 1, 0, 0, 1, 0, 1, 1, 1, 0, 1, 1, 0, 1, 1, 0, 0, 1, 0,\n",
       "        1, 1, 0, 1, 0, 0, 1, 1, 0, 0, 0, 0, 0, 0, 0, 1, 0, 0, 1, 0, 0, 1,\n",
       "        0, 1, 1, 1], dtype=int64))"
      ]
     },
     "execution_count": 12,
     "metadata": {},
     "output_type": "execute_result"
    }
   ],
   "source": [
    "train_y, test_y"
   ]
  },
  {
   "cell_type": "code",
   "execution_count": 13,
   "id": "1d1c0a39",
   "metadata": {
    "ExecuteTime": {
     "end_time": "2021-07-13T14:38:32.750808Z",
     "start_time": "2021-07-13T14:38:32.617819Z"
    }
   },
   "outputs": [],
   "source": [
    "from sklearn.tree import DecisionTreeClassifier\n",
    "tree = DecisionTreeClassifier(criterion='entropy', max_depth=None, random_state=1)"
   ]
  },
  {
   "cell_type": "code",
   "execution_count": 14,
   "id": "419d80a1",
   "metadata": {
    "ExecuteTime": {
     "end_time": "2021-07-13T14:38:32.765803Z",
     "start_time": "2021-07-13T14:38:32.752807Z"
    }
   },
   "outputs": [
    {
     "data": {
      "text/plain": [
       "DecisionTreeClassifier(criterion='entropy', random_state=1)"
      ]
     },
     "execution_count": 14,
     "metadata": {},
     "output_type": "execute_result"
    }
   ],
   "source": [
    "tree.fit(train_X, train_y)"
   ]
  },
  {
   "cell_type": "code",
   "execution_count": 15,
   "id": "c21e3273",
   "metadata": {
    "ExecuteTime": {
     "end_time": "2021-07-13T14:38:32.780797Z",
     "start_time": "2021-07-13T14:38:32.768802Z"
    }
   },
   "outputs": [
    {
     "data": {
      "text/plain": [
       "0.8333333333333334"
      ]
     },
     "execution_count": 15,
     "metadata": {},
     "output_type": "execute_result"
    }
   ],
   "source": [
    "tree.score(test_X, test_y)"
   ]
  },
  {
   "cell_type": "code",
   "execution_count": 16,
   "id": "84617aeb",
   "metadata": {
    "ExecuteTime": {
     "end_time": "2021-07-13T14:38:32.826783Z",
     "start_time": "2021-07-13T14:38:32.782798Z"
    }
   },
   "outputs": [],
   "source": [
    "from sklearn.ensemble import BaggingClassifier\n",
    "bag = BaggingClassifier(base_estimator=tree, n_estimators=500, bootstrap=True, \n",
    "                        bootstrap_features=False, random_state=1)"
   ]
  },
  {
   "cell_type": "code",
   "execution_count": 17,
   "id": "183d9434",
   "metadata": {
    "ExecuteTime": {
     "end_time": "2021-07-13T14:38:33.472595Z",
     "start_time": "2021-07-13T14:38:32.827783Z"
    }
   },
   "outputs": [
    {
     "data": {
      "text/plain": [
       "BaggingClassifier(base_estimator=DecisionTreeClassifier(criterion='entropy',\n",
       "                                                        random_state=1),\n",
       "                  n_estimators=500, random_state=1)"
      ]
     },
     "execution_count": 17,
     "metadata": {},
     "output_type": "execute_result"
    }
   ],
   "source": [
    "bag.fit(train_X, train_y)"
   ]
  },
  {
   "cell_type": "code",
   "execution_count": 18,
   "id": "d3db4ac8",
   "metadata": {
    "ExecuteTime": {
     "end_time": "2021-07-13T14:38:33.534686Z",
     "start_time": "2021-07-13T14:38:33.473577Z"
    }
   },
   "outputs": [
    {
     "data": {
      "text/plain": [
       "0.8958333333333334"
      ]
     },
     "execution_count": 18,
     "metadata": {},
     "output_type": "execute_result"
    }
   ],
   "source": [
    "bag.score(test_X, test_y)"
   ]
  },
  {
   "cell_type": "code",
   "execution_count": 19,
   "id": "64a7a570",
   "metadata": {
    "ExecuteTime": {
     "end_time": "2021-07-13T14:38:33.549681Z",
     "start_time": "2021-07-13T14:38:33.535645Z"
    }
   },
   "outputs": [],
   "source": [
    "from sklearn.ensemble import AdaBoostClassifier\n",
    "abm = AdaBoostClassifier(base_estimator=tree, n_estimators=500, random_state=1)"
   ]
  },
  {
   "cell_type": "code",
   "execution_count": 20,
   "id": "d956fb83",
   "metadata": {
    "ExecuteTime": {
     "end_time": "2021-07-13T14:38:33.564636Z",
     "start_time": "2021-07-13T14:38:33.551640Z"
    }
   },
   "outputs": [
    {
     "data": {
      "text/plain": [
       "AdaBoostClassifier(base_estimator=DecisionTreeClassifier(criterion='entropy',\n",
       "                                                         random_state=1),\n",
       "                   n_estimators=500, random_state=1)"
      ]
     },
     "execution_count": 20,
     "metadata": {},
     "output_type": "execute_result"
    }
   ],
   "source": [
    "abm.fit(train_X, train_y)"
   ]
  },
  {
   "cell_type": "code",
   "execution_count": 21,
   "id": "b0b78de9",
   "metadata": {
    "ExecuteTime": {
     "end_time": "2021-07-13T14:38:33.579631Z",
     "start_time": "2021-07-13T14:38:33.565651Z"
    }
   },
   "outputs": [
    {
     "data": {
      "text/plain": [
       "0.8333333333333334"
      ]
     },
     "execution_count": 21,
     "metadata": {},
     "output_type": "execute_result"
    }
   ],
   "source": [
    "abm.score(test_X, test_y)"
   ]
  },
  {
   "cell_type": "code",
   "execution_count": 22,
   "id": "b2d1bca8",
   "metadata": {
    "ExecuteTime": {
     "end_time": "2021-07-13T14:38:33.594642Z",
     "start_time": "2021-07-13T14:38:33.581631Z"
    }
   },
   "outputs": [],
   "source": [
    "from sklearn.ensemble import GradientBoostingClassifier\n",
    "gbm = GradientBoostingClassifier(n_estimators=500, random_state=1)"
   ]
  },
  {
   "cell_type": "code",
   "execution_count": 23,
   "id": "21fd146f",
   "metadata": {
    "ExecuteTime": {
     "end_time": "2021-07-13T14:38:33.819554Z",
     "start_time": "2021-07-13T14:38:33.596626Z"
    }
   },
   "outputs": [
    {
     "data": {
      "text/plain": [
       "GradientBoostingClassifier(n_estimators=500, random_state=1)"
      ]
     },
     "execution_count": 23,
     "metadata": {},
     "output_type": "execute_result"
    }
   ],
   "source": [
    "gbm.fit(train_X, train_y)"
   ]
  },
  {
   "cell_type": "code",
   "execution_count": 24,
   "id": "6d5f77af",
   "metadata": {
    "ExecuteTime": {
     "end_time": "2021-07-13T14:38:33.834563Z",
     "start_time": "2021-07-13T14:38:33.823570Z"
    }
   },
   "outputs": [
    {
     "data": {
      "text/plain": [
       "0.875"
      ]
     },
     "execution_count": 24,
     "metadata": {},
     "output_type": "execute_result"
    }
   ],
   "source": [
    "gbm.score(test_X, test_y)"
   ]
  },
  {
   "cell_type": "code",
   "execution_count": 25,
   "id": "939c34fe",
   "metadata": {
    "ExecuteTime": {
     "end_time": "2021-07-13T14:38:33.894748Z",
     "start_time": "2021-07-13T14:38:33.838549Z"
    }
   },
   "outputs": [],
   "source": [
    "from xgboost import XGBClassifier\n",
    "xgb = XGBClassifier()"
   ]
  },
  {
   "cell_type": "code",
   "execution_count": 26,
   "id": "a2e439fa",
   "metadata": {
    "ExecuteTime": {
     "end_time": "2021-07-13T14:38:34.015711Z",
     "start_time": "2021-07-13T14:38:33.895751Z"
    }
   },
   "outputs": [
    {
     "name": "stderr",
     "output_type": "stream",
     "text": [
      "C:\\Users\\COM\\anaconda3\\lib\\site-packages\\xgboost\\sklearn.py:1146: UserWarning: The use of label encoder in XGBClassifier is deprecated and will be removed in a future release. To remove this warning, do the following: 1) Pass option use_label_encoder=False when constructing XGBClassifier object; and 2) Encode your labels (y) as integers starting with 0, i.e. 0, 1, 2, ..., [num_class - 1].\n",
      "  warnings.warn(label_encoder_deprecation_msg, UserWarning)\n"
     ]
    },
    {
     "data": {
      "text/plain": [
       "XGBClassifier(base_score=0.5, booster='gbtree', colsample_bylevel=1,\n",
       "              colsample_bynode=1, colsample_bytree=1, gamma=0, gpu_id=-1,\n",
       "              importance_type='gain', interaction_constraints='',\n",
       "              learning_rate=0.300000012, max_delta_step=0, max_depth=6,\n",
       "              min_child_weight=1, missing=nan, monotone_constraints='()',\n",
       "              n_estimators=100, n_jobs=8, num_parallel_tree=1, random_state=0,\n",
       "              reg_alpha=0, reg_lambda=1, scale_pos_weight=1, subsample=1,\n",
       "              tree_method='exact', validate_parameters=1, verbosity=None)"
      ]
     },
     "execution_count": 26,
     "metadata": {},
     "output_type": "execute_result"
    }
   ],
   "source": [
    "xgb.fit(train_X, train_y, eval_metric='logloss')"
   ]
  },
  {
   "cell_type": "code",
   "execution_count": 28,
   "id": "6ea6e5b1",
   "metadata": {
    "ExecuteTime": {
     "end_time": "2021-07-13T14:38:34.030707Z",
     "start_time": "2021-07-13T14:38:34.016712Z"
    }
   },
   "outputs": [
    {
     "data": {
      "text/plain": [
       "0.8958333333333334"
      ]
     },
     "execution_count": 28,
     "metadata": {},
     "output_type": "execute_result"
    }
   ],
   "source": [
    "xgb.score(test_X, test_y)"
   ]
  },
  {
   "cell_type": "code",
   "execution_count": 29,
   "id": "1e2d2fb0",
   "metadata": {},
   "outputs": [
    {
     "data": {
      "text/plain": [
       "LGBMClassifier()"
      ]
     },
     "execution_count": 29,
     "metadata": {},
     "output_type": "execute_result"
    }
   ],
   "source": [
    "from lightgbm import LGBMClassifier\n",
    "lgbm = LGBMClassifier()\n",
    "lgbm.fit(train_X, train_y)"
   ]
  },
  {
   "cell_type": "code",
   "execution_count": 30,
   "id": "f64b5090",
   "metadata": {},
   "outputs": [
    {
     "data": {
      "text/plain": [
       "0.8958333333333334"
      ]
     },
     "execution_count": 30,
     "metadata": {},
     "output_type": "execute_result"
    }
   ],
   "source": [
    "lgbm.score(test_X, test_y)"
   ]
  },
  {
   "cell_type": "code",
   "execution_count": 32,
   "id": "061bd735",
   "metadata": {
    "ExecuteTime": {
     "end_time": "2021-07-13T14:38:34.045702Z",
     "start_time": "2021-07-13T14:38:34.032707Z"
    }
   },
   "outputs": [],
   "source": [
    "from sklearn.model_selection import GridSearchCV\n",
    "xgb_param_grid = {'max_depth': [3,5,7,9],\n",
    "                  'subsample': [0.4, 0.6, 0.8, 1.0]}\n",
    "grid = GridSearchCV(estimator=xgb, param_grid=xgb_param_grid,\n",
    "                    scoring='roc_auc', n_jobs=-1, cv=5,\n",
    "                    refit=True, return_train_score=True)"
   ]
  },
  {
   "cell_type": "code",
   "execution_count": 33,
   "id": "4a004e50",
   "metadata": {
    "ExecuteTime": {
     "end_time": "2021-07-13T14:38:39.414990Z",
     "start_time": "2021-07-13T14:38:34.046702Z"
    }
   },
   "outputs": [
    {
     "name": "stdout",
     "output_type": "stream",
     "text": [
      "[16:40:40] WARNING: C:/Users/Administrator/workspace/xgboost-win64_release_1.4.0/src/learner.cc:1095: Starting in XGBoost 1.3.0, the default evaluation metric used with the objective 'binary:logistic' was changed from 'error' to 'logloss'. Explicitly set eval_metric if you'd like to restore the old behavior.\n"
     ]
    },
    {
     "name": "stderr",
     "output_type": "stream",
     "text": [
      "C:\\Users\\COM\\anaconda3\\lib\\site-packages\\xgboost\\sklearn.py:1146: UserWarning: The use of label encoder in XGBClassifier is deprecated and will be removed in a future release. To remove this warning, do the following: 1) Pass option use_label_encoder=False when constructing XGBClassifier object; and 2) Encode your labels (y) as integers starting with 0, i.e. 0, 1, 2, ..., [num_class - 1].\n",
      "  warnings.warn(label_encoder_deprecation_msg, UserWarning)\n"
     ]
    },
    {
     "data": {
      "text/plain": [
       "GridSearchCV(cv=5,\n",
       "             estimator=XGBClassifier(base_score=0.5, booster='gbtree',\n",
       "                                     colsample_bylevel=1, colsample_bynode=1,\n",
       "                                     colsample_bytree=1, gamma=0, gpu_id=-1,\n",
       "                                     importance_type='gain',\n",
       "                                     interaction_constraints='',\n",
       "                                     learning_rate=0.300000012,\n",
       "                                     max_delta_step=0, max_depth=6,\n",
       "                                     min_child_weight=1, missing=nan,\n",
       "                                     monotone_constraints='()',\n",
       "                                     n_estimators=100, n_jobs=8,\n",
       "                                     num_parallel_tree=1, random_state=0,\n",
       "                                     reg_alpha=0, reg_lambda=1,\n",
       "                                     scale_pos_weight=1, subsample=1,\n",
       "                                     tree_method='exact', validate_parameters=1,\n",
       "                                     verbosity=None),\n",
       "             n_jobs=-1,\n",
       "             param_grid={'max_depth': [3, 5, 7, 9],\n",
       "                         'subsample': [0.4, 0.6, 0.8, 1.0]},\n",
       "             return_train_score=True, scoring='roc_auc')"
      ]
     },
     "execution_count": 33,
     "metadata": {},
     "output_type": "execute_result"
    }
   ],
   "source": [
    "grid.fit(train_X, train_y)"
   ]
  },
  {
   "cell_type": "code",
   "execution_count": 34,
   "id": "8cd7eef2",
   "metadata": {
    "ExecuteTime": {
     "end_time": "2021-07-13T14:38:39.430986Z",
     "start_time": "2021-07-13T14:38:39.416990Z"
    }
   },
   "outputs": [],
   "source": [
    "import pandas as pd\n",
    "grid_df = pd.DataFrame(grid.cv_results_)"
   ]
  },
  {
   "cell_type": "code",
   "execution_count": 30,
   "id": "824193c5",
   "metadata": {
    "ExecuteTime": {
     "end_time": "2021-07-13T14:38:39.462975Z",
     "start_time": "2021-07-13T14:38:39.432985Z"
    }
   },
   "outputs": [
    {
     "data": {
      "text/html": [
       "<div>\n",
       "<style scoped>\n",
       "    .dataframe tbody tr th:only-of-type {\n",
       "        vertical-align: middle;\n",
       "    }\n",
       "\n",
       "    .dataframe tbody tr th {\n",
       "        vertical-align: top;\n",
       "    }\n",
       "\n",
       "    .dataframe thead th {\n",
       "        text-align: right;\n",
       "    }\n",
       "</style>\n",
       "<table border=\"1\" class=\"dataframe\">\n",
       "  <thead>\n",
       "    <tr style=\"text-align: right;\">\n",
       "      <th></th>\n",
       "      <th>mean_fit_time</th>\n",
       "      <th>std_fit_time</th>\n",
       "      <th>mean_score_time</th>\n",
       "      <th>std_score_time</th>\n",
       "      <th>param_max_depth</th>\n",
       "      <th>param_subsample</th>\n",
       "      <th>params</th>\n",
       "      <th>split0_test_score</th>\n",
       "      <th>split1_test_score</th>\n",
       "      <th>split2_test_score</th>\n",
       "      <th>...</th>\n",
       "      <th>mean_test_score</th>\n",
       "      <th>std_test_score</th>\n",
       "      <th>rank_test_score</th>\n",
       "      <th>split0_train_score</th>\n",
       "      <th>split1_train_score</th>\n",
       "      <th>split2_train_score</th>\n",
       "      <th>split3_train_score</th>\n",
       "      <th>split4_train_score</th>\n",
       "      <th>mean_train_score</th>\n",
       "      <th>std_train_score</th>\n",
       "    </tr>\n",
       "  </thead>\n",
       "  <tbody>\n",
       "    <tr>\n",
       "      <th>0</th>\n",
       "      <td>0.114763</td>\n",
       "      <td>0.036091</td>\n",
       "      <td>0.004998</td>\n",
       "      <td>0.000632</td>\n",
       "      <td>3</td>\n",
       "      <td>0.4</td>\n",
       "      <td>{'max_depth': 3, 'subsample': 0.4}</td>\n",
       "      <td>0.98</td>\n",
       "      <td>0.977778</td>\n",
       "      <td>1.0</td>\n",
       "      <td>...</td>\n",
       "      <td>0.962667</td>\n",
       "      <td>0.038423</td>\n",
       "      <td>5</td>\n",
       "      <td>0.990278</td>\n",
       "      <td>0.983784</td>\n",
       "      <td>0.981757</td>\n",
       "      <td>0.987838</td>\n",
       "      <td>0.995946</td>\n",
       "      <td>0.987920</td>\n",
       "      <td>0.005002</td>\n",
       "    </tr>\n",
       "    <tr>\n",
       "      <th>1</th>\n",
       "      <td>0.048985</td>\n",
       "      <td>0.001672</td>\n",
       "      <td>0.005398</td>\n",
       "      <td>0.000799</td>\n",
       "      <td>3</td>\n",
       "      <td>0.6</td>\n",
       "      <td>{'max_depth': 3, 'subsample': 0.6}</td>\n",
       "      <td>0.94</td>\n",
       "      <td>0.977778</td>\n",
       "      <td>1.0</td>\n",
       "      <td>...</td>\n",
       "      <td>0.963556</td>\n",
       "      <td>0.033098</td>\n",
       "      <td>1</td>\n",
       "      <td>0.998611</td>\n",
       "      <td>0.983784</td>\n",
       "      <td>0.991892</td>\n",
       "      <td>0.990541</td>\n",
       "      <td>0.994595</td>\n",
       "      <td>0.991884</td>\n",
       "      <td>0.004899</td>\n",
       "    </tr>\n",
       "    <tr>\n",
       "      <th>2</th>\n",
       "      <td>0.048184</td>\n",
       "      <td>0.002637</td>\n",
       "      <td>0.005598</td>\n",
       "      <td>0.000800</td>\n",
       "      <td>3</td>\n",
       "      <td>0.8</td>\n",
       "      <td>{'max_depth': 3, 'subsample': 0.8}</td>\n",
       "      <td>0.94</td>\n",
       "      <td>0.955556</td>\n",
       "      <td>1.0</td>\n",
       "      <td>...</td>\n",
       "      <td>0.959111</td>\n",
       "      <td>0.032374</td>\n",
       "      <td>9</td>\n",
       "      <td>1.000000</td>\n",
       "      <td>0.991892</td>\n",
       "      <td>0.997297</td>\n",
       "      <td>0.998649</td>\n",
       "      <td>0.998649</td>\n",
       "      <td>0.997297</td>\n",
       "      <td>0.002835</td>\n",
       "    </tr>\n",
       "    <tr>\n",
       "      <th>3</th>\n",
       "      <td>0.051983</td>\n",
       "      <td>0.005402</td>\n",
       "      <td>0.005198</td>\n",
       "      <td>0.000400</td>\n",
       "      <td>3</td>\n",
       "      <td>1.0</td>\n",
       "      <td>{'max_depth': 3, 'subsample': 1.0}</td>\n",
       "      <td>0.98</td>\n",
       "      <td>0.911111</td>\n",
       "      <td>1.0</td>\n",
       "      <td>...</td>\n",
       "      <td>0.958222</td>\n",
       "      <td>0.038985</td>\n",
       "      <td>13</td>\n",
       "      <td>1.000000</td>\n",
       "      <td>0.991892</td>\n",
       "      <td>1.000000</td>\n",
       "      <td>0.998649</td>\n",
       "      <td>1.000000</td>\n",
       "      <td>0.998108</td>\n",
       "      <td>0.003152</td>\n",
       "    </tr>\n",
       "    <tr>\n",
       "      <th>4</th>\n",
       "      <td>0.045585</td>\n",
       "      <td>0.003772</td>\n",
       "      <td>0.005998</td>\n",
       "      <td>0.001264</td>\n",
       "      <td>5</td>\n",
       "      <td>0.4</td>\n",
       "      <td>{'max_depth': 5, 'subsample': 0.4}</td>\n",
       "      <td>0.98</td>\n",
       "      <td>0.977778</td>\n",
       "      <td>1.0</td>\n",
       "      <td>...</td>\n",
       "      <td>0.962667</td>\n",
       "      <td>0.038423</td>\n",
       "      <td>5</td>\n",
       "      <td>0.990278</td>\n",
       "      <td>0.983784</td>\n",
       "      <td>0.981757</td>\n",
       "      <td>0.987838</td>\n",
       "      <td>0.995946</td>\n",
       "      <td>0.987920</td>\n",
       "      <td>0.005002</td>\n",
       "    </tr>\n",
       "  </tbody>\n",
       "</table>\n",
       "<p>5 rows × 22 columns</p>\n",
       "</div>"
      ],
      "text/plain": [
       "   mean_fit_time  std_fit_time  mean_score_time  std_score_time  \\\n",
       "0       0.114763      0.036091         0.004998        0.000632   \n",
       "1       0.048985      0.001672         0.005398        0.000799   \n",
       "2       0.048184      0.002637         0.005598        0.000800   \n",
       "3       0.051983      0.005402         0.005198        0.000400   \n",
       "4       0.045585      0.003772         0.005998        0.001264   \n",
       "\n",
       "  param_max_depth param_subsample                              params  \\\n",
       "0               3             0.4  {'max_depth': 3, 'subsample': 0.4}   \n",
       "1               3             0.6  {'max_depth': 3, 'subsample': 0.6}   \n",
       "2               3             0.8  {'max_depth': 3, 'subsample': 0.8}   \n",
       "3               3             1.0  {'max_depth': 3, 'subsample': 1.0}   \n",
       "4               5             0.4  {'max_depth': 5, 'subsample': 0.4}   \n",
       "\n",
       "   split0_test_score  split1_test_score  split2_test_score  ...  \\\n",
       "0               0.98           0.977778                1.0  ...   \n",
       "1               0.94           0.977778                1.0  ...   \n",
       "2               0.94           0.955556                1.0  ...   \n",
       "3               0.98           0.911111                1.0  ...   \n",
       "4               0.98           0.977778                1.0  ...   \n",
       "\n",
       "   mean_test_score  std_test_score  rank_test_score  split0_train_score  \\\n",
       "0         0.962667        0.038423                5            0.990278   \n",
       "1         0.963556        0.033098                1            0.998611   \n",
       "2         0.959111        0.032374                9            1.000000   \n",
       "3         0.958222        0.038985               13            1.000000   \n",
       "4         0.962667        0.038423                5            0.990278   \n",
       "\n",
       "   split1_train_score  split2_train_score  split3_train_score  \\\n",
       "0            0.983784            0.981757            0.987838   \n",
       "1            0.983784            0.991892            0.990541   \n",
       "2            0.991892            0.997297            0.998649   \n",
       "3            0.991892            1.000000            0.998649   \n",
       "4            0.983784            0.981757            0.987838   \n",
       "\n",
       "   split4_train_score  mean_train_score  std_train_score  \n",
       "0            0.995946          0.987920         0.005002  \n",
       "1            0.994595          0.991884         0.004899  \n",
       "2            0.998649          0.997297         0.002835  \n",
       "3            1.000000          0.998108         0.003152  \n",
       "4            0.995946          0.987920         0.005002  \n",
       "\n",
       "[5 rows x 22 columns]"
      ]
     },
     "execution_count": 30,
     "metadata": {},
     "output_type": "execute_result"
    }
   ],
   "source": [
    "grid_df.head()"
   ]
  },
  {
   "cell_type": "code",
   "execution_count": 31,
   "id": "0b2acd2d",
   "metadata": {
    "ExecuteTime": {
     "end_time": "2021-07-13T14:38:39.493964Z",
     "start_time": "2021-07-13T14:38:39.464974Z"
    }
   },
   "outputs": [
    {
     "data": {
      "text/html": [
       "<div>\n",
       "<style scoped>\n",
       "    .dataframe tbody tr th:only-of-type {\n",
       "        vertical-align: middle;\n",
       "    }\n",
       "\n",
       "    .dataframe tbody tr th {\n",
       "        vertical-align: top;\n",
       "    }\n",
       "\n",
       "    .dataframe thead th {\n",
       "        text-align: right;\n",
       "    }\n",
       "</style>\n",
       "<table border=\"1\" class=\"dataframe\">\n",
       "  <thead>\n",
       "    <tr style=\"text-align: right;\">\n",
       "      <th></th>\n",
       "      <th>mean_test_score</th>\n",
       "      <th>params</th>\n",
       "    </tr>\n",
       "  </thead>\n",
       "  <tbody>\n",
       "    <tr>\n",
       "      <th>0</th>\n",
       "      <td>0.962667</td>\n",
       "      <td>{'max_depth': 3, 'subsample': 0.4}</td>\n",
       "    </tr>\n",
       "    <tr>\n",
       "      <th>1</th>\n",
       "      <td>0.963556</td>\n",
       "      <td>{'max_depth': 3, 'subsample': 0.6}</td>\n",
       "    </tr>\n",
       "    <tr>\n",
       "      <th>2</th>\n",
       "      <td>0.959111</td>\n",
       "      <td>{'max_depth': 3, 'subsample': 0.8}</td>\n",
       "    </tr>\n",
       "    <tr>\n",
       "      <th>3</th>\n",
       "      <td>0.958222</td>\n",
       "      <td>{'max_depth': 3, 'subsample': 1.0}</td>\n",
       "    </tr>\n",
       "    <tr>\n",
       "      <th>4</th>\n",
       "      <td>0.962667</td>\n",
       "      <td>{'max_depth': 5, 'subsample': 0.4}</td>\n",
       "    </tr>\n",
       "    <tr>\n",
       "      <th>5</th>\n",
       "      <td>0.963556</td>\n",
       "      <td>{'max_depth': 5, 'subsample': 0.6}</td>\n",
       "    </tr>\n",
       "    <tr>\n",
       "      <th>6</th>\n",
       "      <td>0.959111</td>\n",
       "      <td>{'max_depth': 5, 'subsample': 0.8}</td>\n",
       "    </tr>\n",
       "    <tr>\n",
       "      <th>7</th>\n",
       "      <td>0.958222</td>\n",
       "      <td>{'max_depth': 5, 'subsample': 1.0}</td>\n",
       "    </tr>\n",
       "    <tr>\n",
       "      <th>8</th>\n",
       "      <td>0.962667</td>\n",
       "      <td>{'max_depth': 7, 'subsample': 0.4}</td>\n",
       "    </tr>\n",
       "    <tr>\n",
       "      <th>9</th>\n",
       "      <td>0.963556</td>\n",
       "      <td>{'max_depth': 7, 'subsample': 0.6}</td>\n",
       "    </tr>\n",
       "    <tr>\n",
       "      <th>10</th>\n",
       "      <td>0.959111</td>\n",
       "      <td>{'max_depth': 7, 'subsample': 0.8}</td>\n",
       "    </tr>\n",
       "    <tr>\n",
       "      <th>11</th>\n",
       "      <td>0.958222</td>\n",
       "      <td>{'max_depth': 7, 'subsample': 1.0}</td>\n",
       "    </tr>\n",
       "    <tr>\n",
       "      <th>12</th>\n",
       "      <td>0.962667</td>\n",
       "      <td>{'max_depth': 9, 'subsample': 0.4}</td>\n",
       "    </tr>\n",
       "    <tr>\n",
       "      <th>13</th>\n",
       "      <td>0.963556</td>\n",
       "      <td>{'max_depth': 9, 'subsample': 0.6}</td>\n",
       "    </tr>\n",
       "    <tr>\n",
       "      <th>14</th>\n",
       "      <td>0.959111</td>\n",
       "      <td>{'max_depth': 9, 'subsample': 0.8}</td>\n",
       "    </tr>\n",
       "    <tr>\n",
       "      <th>15</th>\n",
       "      <td>0.958222</td>\n",
       "      <td>{'max_depth': 9, 'subsample': 1.0}</td>\n",
       "    </tr>\n",
       "  </tbody>\n",
       "</table>\n",
       "</div>"
      ],
      "text/plain": [
       "    mean_test_score                              params\n",
       "0          0.962667  {'max_depth': 3, 'subsample': 0.4}\n",
       "1          0.963556  {'max_depth': 3, 'subsample': 0.6}\n",
       "2          0.959111  {'max_depth': 3, 'subsample': 0.8}\n",
       "3          0.958222  {'max_depth': 3, 'subsample': 1.0}\n",
       "4          0.962667  {'max_depth': 5, 'subsample': 0.4}\n",
       "5          0.963556  {'max_depth': 5, 'subsample': 0.6}\n",
       "6          0.959111  {'max_depth': 5, 'subsample': 0.8}\n",
       "7          0.958222  {'max_depth': 5, 'subsample': 1.0}\n",
       "8          0.962667  {'max_depth': 7, 'subsample': 0.4}\n",
       "9          0.963556  {'max_depth': 7, 'subsample': 0.6}\n",
       "10         0.959111  {'max_depth': 7, 'subsample': 0.8}\n",
       "11         0.958222  {'max_depth': 7, 'subsample': 1.0}\n",
       "12         0.962667  {'max_depth': 9, 'subsample': 0.4}\n",
       "13         0.963556  {'max_depth': 9, 'subsample': 0.6}\n",
       "14         0.959111  {'max_depth': 9, 'subsample': 0.8}\n",
       "15         0.958222  {'max_depth': 9, 'subsample': 1.0}"
      ]
     },
     "execution_count": 31,
     "metadata": {},
     "output_type": "execute_result"
    }
   ],
   "source": [
    "grid_df.loc[:, ['mean_test_score', 'params']]"
   ]
  },
  {
   "cell_type": "code",
   "execution_count": 32,
   "id": "289e2892",
   "metadata": {
    "ExecuteTime": {
     "end_time": "2021-07-13T14:38:39.523956Z",
     "start_time": "2021-07-13T14:38:39.495965Z"
    }
   },
   "outputs": [
    {
     "data": {
      "text/html": [
       "<div>\n",
       "<style scoped>\n",
       "    .dataframe tbody tr th:only-of-type {\n",
       "        vertical-align: middle;\n",
       "    }\n",
       "\n",
       "    .dataframe tbody tr th {\n",
       "        vertical-align: top;\n",
       "    }\n",
       "\n",
       "    .dataframe thead th {\n",
       "        text-align: right;\n",
       "    }\n",
       "</style>\n",
       "<table border=\"1\" class=\"dataframe\">\n",
       "  <thead>\n",
       "    <tr style=\"text-align: right;\">\n",
       "      <th></th>\n",
       "      <th>mean_fit_time</th>\n",
       "      <th>std_fit_time</th>\n",
       "      <th>mean_score_time</th>\n",
       "      <th>std_score_time</th>\n",
       "      <th>param_max_depth</th>\n",
       "      <th>param_subsample</th>\n",
       "      <th>params</th>\n",
       "      <th>split0_test_score</th>\n",
       "      <th>split1_test_score</th>\n",
       "      <th>split2_test_score</th>\n",
       "      <th>...</th>\n",
       "      <th>mean_test_score</th>\n",
       "      <th>std_test_score</th>\n",
       "      <th>rank_test_score</th>\n",
       "      <th>split0_train_score</th>\n",
       "      <th>split1_train_score</th>\n",
       "      <th>split2_train_score</th>\n",
       "      <th>split3_train_score</th>\n",
       "      <th>split4_train_score</th>\n",
       "      <th>mean_train_score</th>\n",
       "      <th>std_train_score</th>\n",
       "    </tr>\n",
       "  </thead>\n",
       "  <tbody>\n",
       "    <tr>\n",
       "      <th>1</th>\n",
       "      <td>0.048985</td>\n",
       "      <td>0.001672</td>\n",
       "      <td>0.005398</td>\n",
       "      <td>0.000799</td>\n",
       "      <td>3</td>\n",
       "      <td>0.6</td>\n",
       "      <td>{'max_depth': 3, 'subsample': 0.6}</td>\n",
       "      <td>0.94</td>\n",
       "      <td>0.977778</td>\n",
       "      <td>1.0</td>\n",
       "      <td>...</td>\n",
       "      <td>0.963556</td>\n",
       "      <td>0.033098</td>\n",
       "      <td>1</td>\n",
       "      <td>0.998611</td>\n",
       "      <td>0.983784</td>\n",
       "      <td>0.991892</td>\n",
       "      <td>0.990541</td>\n",
       "      <td>0.994595</td>\n",
       "      <td>0.991884</td>\n",
       "      <td>0.004899</td>\n",
       "    </tr>\n",
       "    <tr>\n",
       "      <th>5</th>\n",
       "      <td>0.065379</td>\n",
       "      <td>0.015274</td>\n",
       "      <td>0.005598</td>\n",
       "      <td>0.000800</td>\n",
       "      <td>5</td>\n",
       "      <td>0.6</td>\n",
       "      <td>{'max_depth': 5, 'subsample': 0.6}</td>\n",
       "      <td>0.94</td>\n",
       "      <td>0.977778</td>\n",
       "      <td>1.0</td>\n",
       "      <td>...</td>\n",
       "      <td>0.963556</td>\n",
       "      <td>0.033098</td>\n",
       "      <td>1</td>\n",
       "      <td>0.998611</td>\n",
       "      <td>0.983784</td>\n",
       "      <td>0.991892</td>\n",
       "      <td>0.990541</td>\n",
       "      <td>0.994595</td>\n",
       "      <td>0.991884</td>\n",
       "      <td>0.004899</td>\n",
       "    </tr>\n",
       "    <tr>\n",
       "      <th>9</th>\n",
       "      <td>0.043986</td>\n",
       "      <td>0.001673</td>\n",
       "      <td>0.005199</td>\n",
       "      <td>0.000980</td>\n",
       "      <td>7</td>\n",
       "      <td>0.6</td>\n",
       "      <td>{'max_depth': 7, 'subsample': 0.6}</td>\n",
       "      <td>0.94</td>\n",
       "      <td>0.977778</td>\n",
       "      <td>1.0</td>\n",
       "      <td>...</td>\n",
       "      <td>0.963556</td>\n",
       "      <td>0.033098</td>\n",
       "      <td>1</td>\n",
       "      <td>0.998611</td>\n",
       "      <td>0.983784</td>\n",
       "      <td>0.991892</td>\n",
       "      <td>0.990541</td>\n",
       "      <td>0.994595</td>\n",
       "      <td>0.991884</td>\n",
       "      <td>0.004899</td>\n",
       "    </tr>\n",
       "    <tr>\n",
       "      <th>13</th>\n",
       "      <td>0.049384</td>\n",
       "      <td>0.009663</td>\n",
       "      <td>0.005598</td>\n",
       "      <td>0.001200</td>\n",
       "      <td>9</td>\n",
       "      <td>0.6</td>\n",
       "      <td>{'max_depth': 9, 'subsample': 0.6}</td>\n",
       "      <td>0.94</td>\n",
       "      <td>0.977778</td>\n",
       "      <td>1.0</td>\n",
       "      <td>...</td>\n",
       "      <td>0.963556</td>\n",
       "      <td>0.033098</td>\n",
       "      <td>1</td>\n",
       "      <td>0.998611</td>\n",
       "      <td>0.983784</td>\n",
       "      <td>0.991892</td>\n",
       "      <td>0.990541</td>\n",
       "      <td>0.994595</td>\n",
       "      <td>0.991884</td>\n",
       "      <td>0.004899</td>\n",
       "    </tr>\n",
       "  </tbody>\n",
       "</table>\n",
       "<p>4 rows × 22 columns</p>\n",
       "</div>"
      ],
      "text/plain": [
       "    mean_fit_time  std_fit_time  mean_score_time  std_score_time  \\\n",
       "1        0.048985      0.001672         0.005398        0.000799   \n",
       "5        0.065379      0.015274         0.005598        0.000800   \n",
       "9        0.043986      0.001673         0.005199        0.000980   \n",
       "13       0.049384      0.009663         0.005598        0.001200   \n",
       "\n",
       "   param_max_depth param_subsample                              params  \\\n",
       "1                3             0.6  {'max_depth': 3, 'subsample': 0.6}   \n",
       "5                5             0.6  {'max_depth': 5, 'subsample': 0.6}   \n",
       "9                7             0.6  {'max_depth': 7, 'subsample': 0.6}   \n",
       "13               9             0.6  {'max_depth': 9, 'subsample': 0.6}   \n",
       "\n",
       "    split0_test_score  split1_test_score  split2_test_score  ...  \\\n",
       "1                0.94           0.977778                1.0  ...   \n",
       "5                0.94           0.977778                1.0  ...   \n",
       "9                0.94           0.977778                1.0  ...   \n",
       "13               0.94           0.977778                1.0  ...   \n",
       "\n",
       "    mean_test_score  std_test_score  rank_test_score  split0_train_score  \\\n",
       "1          0.963556        0.033098                1            0.998611   \n",
       "5          0.963556        0.033098                1            0.998611   \n",
       "9          0.963556        0.033098                1            0.998611   \n",
       "13         0.963556        0.033098                1            0.998611   \n",
       "\n",
       "    split1_train_score  split2_train_score  split3_train_score  \\\n",
       "1             0.983784            0.991892            0.990541   \n",
       "5             0.983784            0.991892            0.990541   \n",
       "9             0.983784            0.991892            0.990541   \n",
       "13            0.983784            0.991892            0.990541   \n",
       "\n",
       "    split4_train_score  mean_train_score  std_train_score  \n",
       "1             0.994595          0.991884         0.004899  \n",
       "5             0.994595          0.991884         0.004899  \n",
       "9             0.994595          0.991884         0.004899  \n",
       "13            0.994595          0.991884         0.004899  \n",
       "\n",
       "[4 rows x 22 columns]"
      ]
     },
     "execution_count": 32,
     "metadata": {},
     "output_type": "execute_result"
    }
   ],
   "source": [
    "grid_df[grid_df['rank_test_score'] == 1]"
   ]
  },
  {
   "cell_type": "code",
   "execution_count": null,
   "id": "4ee21389",
   "metadata": {},
   "outputs": [],
   "source": []
  }
 ],
 "metadata": {
  "kernelspec": {
   "display_name": "Python 3 (ipykernel)",
   "language": "python",
   "name": "python3"
  },
  "language_info": {
   "codemirror_mode": {
    "name": "ipython",
    "version": 3
   },
   "file_extension": ".py",
   "mimetype": "text/x-python",
   "name": "python",
   "nbconvert_exporter": "python",
   "pygments_lexer": "ipython3",
   "version": "3.10.8"
  },
  "toc": {
   "base_numbering": 1,
   "nav_menu": {},
   "number_sections": true,
   "sideBar": true,
   "skip_h1_title": false,
   "title_cell": "Table of Contents",
   "title_sidebar": "Contents",
   "toc_cell": false,
   "toc_position": {},
   "toc_section_display": true,
   "toc_window_display": false
  },
  "varInspector": {
   "cols": {
    "lenName": 16,
    "lenType": 16,
    "lenVar": 40
   },
   "kernels_config": {
    "python": {
     "delete_cmd_postfix": "",
     "delete_cmd_prefix": "del ",
     "library": "var_list.py",
     "varRefreshCmd": "print(var_dic_list())"
    },
    "r": {
     "delete_cmd_postfix": ") ",
     "delete_cmd_prefix": "rm(",
     "library": "var_list.r",
     "varRefreshCmd": "cat(var_dic_list()) "
    }
   },
   "types_to_exclude": [
    "module",
    "function",
    "builtin_function_or_method",
    "instance",
    "_Feature"
   ],
   "window_display": false
  }
 },
 "nbformat": 4,
 "nbformat_minor": 5
}
