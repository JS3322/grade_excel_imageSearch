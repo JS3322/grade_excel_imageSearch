{
 "cells": [
  {
   "cell_type": "code",
   "execution_count": 1,
   "id": "7d33fa43-b32f-45d7-b212-4848b7d5729b",
   "metadata": {},
   "outputs": [],
   "source": [
    "# 평균 : 값 리스트들을 모두 더해서 가운데 값\n",
    "# 중앙값 : 값 리스트들을 정렬하여 가운데에 있는 값\n",
    "# 최빈값 : 값 리스트 중에 가장 빈도가 많은 값\n",
    "\n",
    "# 편차 : 평균과의 차이\n",
    "# 편차제곱 : 평균과의 차이의 제곱 (모두 양수로 만들기 위해)\n",
    "# 분산 : 편차 제곱의 평균 (값 리스트들이 얼마나 퍼져 있는지 확인)\n",
    "# 표준편차 : 분산에 루트씌우기"
   ]
  },
  {
   "cell_type": "code",
   "execution_count": 2,
   "id": "2b02f35f-885f-461f-a2ac-53058de9bbb3",
   "metadata": {},
   "outputs": [
    {
     "name": "stdout",
     "output_type": "stream",
     "text": [
      "평균 :  44.0\n",
      "분산  :  962.8888888888889\n",
      "표준편차 :  31.03045099396541\n"
     ]
    }
   ],
   "source": [
    "import numpy\n",
    "\n",
    "data_list = [50, 1, 20, 90, 70, 22, 32, 20, 91]\n",
    "print(\"평균 : \", numpy.mean(data_list))\n",
    "print(\"분산  : \", numpy.var(data_list))\n",
    "print(\"표준편차 : \", numpy.std(data_list))"
   ]
  },
  {
   "cell_type": "code",
   "execution_count": 3,
   "id": "94126138-8ed9-467f-8051-6c2c17a00ccf",
   "metadata": {},
   "outputs": [
    {
     "name": "stdout",
     "output_type": "stream",
     "text": [
      "평균 :  0    37.489095\n",
      "dtype: float64\n"
     ]
    }
   ],
   "source": [
    "# mean : 평균 / 50% : 중앙값\n",
    "import pandas as pd\n",
    "\n",
    "df = pd.DataFrame(data_list)\n",
    "x_des = df.describe()\n",
    "x_des_round = x_des.round(2)\n",
    "# print(xx)\n",
    "print(\"평균 : \", x_des.mean())\n",
    "# print(x_des_round)"
   ]
  },
  {
   "cell_type": "code",
   "execution_count": 6,
   "id": "27901d40-63e6-42b0-944c-090783870d81",
   "metadata": {},
   "outputs": [
    {
     "data": {
      "text/html": [
       "<div>\n",
       "<style scoped>\n",
       "    .dataframe tbody tr th:only-of-type {\n",
       "        vertical-align: middle;\n",
       "    }\n",
       "\n",
       "    .dataframe tbody tr th {\n",
       "        vertical-align: top;\n",
       "    }\n",
       "\n",
       "    .dataframe thead th {\n",
       "        text-align: right;\n",
       "    }\n",
       "</style>\n",
       "<table border=\"1\" class=\"dataframe\">\n",
       "  <thead>\n",
       "    <tr style=\"text-align: right;\">\n",
       "      <th></th>\n",
       "      <th>0</th>\n",
       "    </tr>\n",
       "  </thead>\n",
       "  <tbody>\n",
       "    <tr>\n",
       "      <th>count</th>\n",
       "      <td>9.000000</td>\n",
       "    </tr>\n",
       "    <tr>\n",
       "      <th>mean</th>\n",
       "      <td>44.000000</td>\n",
       "    </tr>\n",
       "    <tr>\n",
       "      <th>std</th>\n",
       "      <td>32.912763</td>\n",
       "    </tr>\n",
       "    <tr>\n",
       "      <th>min</th>\n",
       "      <td>1.000000</td>\n",
       "    </tr>\n",
       "    <tr>\n",
       "      <th>25%</th>\n",
       "      <td>20.000000</td>\n",
       "    </tr>\n",
       "    <tr>\n",
       "      <th>50%</th>\n",
       "      <td>32.000000</td>\n",
       "    </tr>\n",
       "    <tr>\n",
       "      <th>75%</th>\n",
       "      <td>70.000000</td>\n",
       "    </tr>\n",
       "    <tr>\n",
       "      <th>max</th>\n",
       "      <td>91.000000</td>\n",
       "    </tr>\n",
       "  </tbody>\n",
       "</table>\n",
       "</div>"
      ],
      "text/plain": [
       "               0\n",
       "count   9.000000\n",
       "mean   44.000000\n",
       "std    32.912763\n",
       "min     1.000000\n",
       "25%    20.000000\n",
       "50%    32.000000\n",
       "75%    70.000000\n",
       "max    91.000000"
      ]
     },
     "execution_count": 6,
     "metadata": {},
     "output_type": "execute_result"
    }
   ],
   "source": [
    "#25% : 1분위수\n",
    "#50% : 2분위수(중앙값)\n",
    "#75% : 3분위수\n",
    "x_des"
   ]
  },
  {
   "cell_type": "code",
   "execution_count": 5,
   "id": "2f2fa247-e473-42d3-a0a2-70dcc71afecf",
   "metadata": {},
   "outputs": [
    {
     "data": {
      "text/html": [
       "<div>\n",
       "<style scoped>\n",
       "    .dataframe tbody tr th:only-of-type {\n",
       "        vertical-align: middle;\n",
       "    }\n",
       "\n",
       "    .dataframe tbody tr th {\n",
       "        vertical-align: top;\n",
       "    }\n",
       "\n",
       "    .dataframe thead th {\n",
       "        text-align: right;\n",
       "    }\n",
       "</style>\n",
       "<table border=\"1\" class=\"dataframe\">\n",
       "  <thead>\n",
       "    <tr style=\"text-align: right;\">\n",
       "      <th></th>\n",
       "      <th>0</th>\n",
       "    </tr>\n",
       "  </thead>\n",
       "  <tbody>\n",
       "    <tr>\n",
       "      <th>count</th>\n",
       "      <td>9.00</td>\n",
       "    </tr>\n",
       "    <tr>\n",
       "      <th>mean</th>\n",
       "      <td>44.00</td>\n",
       "    </tr>\n",
       "    <tr>\n",
       "      <th>std</th>\n",
       "      <td>32.91</td>\n",
       "    </tr>\n",
       "    <tr>\n",
       "      <th>min</th>\n",
       "      <td>1.00</td>\n",
       "    </tr>\n",
       "    <tr>\n",
       "      <th>25%</th>\n",
       "      <td>20.00</td>\n",
       "    </tr>\n",
       "    <tr>\n",
       "      <th>50%</th>\n",
       "      <td>32.00</td>\n",
       "    </tr>\n",
       "    <tr>\n",
       "      <th>75%</th>\n",
       "      <td>70.00</td>\n",
       "    </tr>\n",
       "    <tr>\n",
       "      <th>max</th>\n",
       "      <td>91.00</td>\n",
       "    </tr>\n",
       "  </tbody>\n",
       "</table>\n",
       "</div>"
      ],
      "text/plain": [
       "           0\n",
       "count   9.00\n",
       "mean   44.00\n",
       "std    32.91\n",
       "min     1.00\n",
       "25%    20.00\n",
       "50%    32.00\n",
       "75%    70.00\n",
       "max    91.00"
      ]
     },
     "execution_count": 5,
     "metadata": {},
     "output_type": "execute_result"
    }
   ],
   "source": [
    "x_des_round"
   ]
  },
  {
   "cell_type": "code",
   "execution_count": 7,
   "id": "b70abe7d-0e1f-4940-9248-7fa4bacb2a57",
   "metadata": {},
   "outputs": [],
   "source": [
    "# 결측치 처리\n",
    "from sklearn.impute import KNNImputer # 가장 가까운 이웃의 값으로 대체\n",
    "import numpy as np\n",
    "import pandas as pd"
   ]
  },
  {
   "cell_type": "code",
   "execution_count": 8,
   "id": "82d07e27-e198-4c1f-91f7-81d2e570faf9",
   "metadata": {},
   "outputs": [
    {
     "data": {
      "text/html": [
       "<div>\n",
       "<style scoped>\n",
       "    .dataframe tbody tr th:only-of-type {\n",
       "        vertical-align: middle;\n",
       "    }\n",
       "\n",
       "    .dataframe tbody tr th {\n",
       "        vertical-align: top;\n",
       "    }\n",
       "\n",
       "    .dataframe thead th {\n",
       "        text-align: right;\n",
       "    }\n",
       "</style>\n",
       "<table border=\"1\" class=\"dataframe\">\n",
       "  <thead>\n",
       "    <tr style=\"text-align: right;\">\n",
       "      <th></th>\n",
       "      <th>first</th>\n",
       "      <th>second</th>\n",
       "      <th>third</th>\n",
       "    </tr>\n",
       "  </thead>\n",
       "  <tbody>\n",
       "    <tr>\n",
       "      <th>0</th>\n",
       "      <td>100.0</td>\n",
       "      <td>20.0</td>\n",
       "      <td>NaN</td>\n",
       "    </tr>\n",
       "    <tr>\n",
       "      <th>1</th>\n",
       "      <td>80.0</td>\n",
       "      <td>55.0</td>\n",
       "      <td>70.0</td>\n",
       "    </tr>\n",
       "    <tr>\n",
       "      <th>2</th>\n",
       "      <td>NaN</td>\n",
       "      <td>76.0</td>\n",
       "      <td>60.0</td>\n",
       "    </tr>\n",
       "    <tr>\n",
       "      <th>3</th>\n",
       "      <td>65.0</td>\n",
       "      <td>NaN</td>\n",
       "      <td>88.0</td>\n",
       "    </tr>\n",
       "  </tbody>\n",
       "</table>\n",
       "</div>"
      ],
      "text/plain": [
       "   first  second  third\n",
       "0  100.0    20.0    NaN\n",
       "1   80.0    55.0   70.0\n",
       "2    NaN    76.0   60.0\n",
       "3   65.0     NaN   88.0"
      ]
     },
     "execution_count": 8,
     "metadata": {},
     "output_type": "execute_result"
    }
   ],
   "source": [
    "data_o = {'first': [100, 80, np.nan, 65],\n",
    "        'second': [20, 55, 76, np.nan],\n",
    "        'third': [np.nan, 70, 60, 88]}\n",
    "data = pd.DataFrame(data_o)\n",
    "data"
   ]
  },
  {
   "cell_type": "code",
   "execution_count": 9,
   "id": "8e36a4f1-3931-4e21-8507-cbe1663ca51f",
   "metadata": {},
   "outputs": [],
   "source": [
    "imputer = KNNImputer(n_neighbors=2)"
   ]
  },
  {
   "cell_type": "code",
   "execution_count": 10,
   "id": "960444e0-005d-4c03-858e-0f21cd7806cb",
   "metadata": {},
   "outputs": [
    {
     "data": {
      "text/html": [
       "<div>\n",
       "<style scoped>\n",
       "    .dataframe tbody tr th:only-of-type {\n",
       "        vertical-align: middle;\n",
       "    }\n",
       "\n",
       "    .dataframe tbody tr th {\n",
       "        vertical-align: top;\n",
       "    }\n",
       "\n",
       "    .dataframe thead th {\n",
       "        text-align: right;\n",
       "    }\n",
       "</style>\n",
       "<table border=\"1\" class=\"dataframe\">\n",
       "  <thead>\n",
       "    <tr style=\"text-align: right;\">\n",
       "      <th></th>\n",
       "      <th>0</th>\n",
       "      <th>1</th>\n",
       "      <th>2</th>\n",
       "    </tr>\n",
       "  </thead>\n",
       "  <tbody>\n",
       "    <tr>\n",
       "      <th>0</th>\n",
       "      <td>100.0</td>\n",
       "      <td>20.0</td>\n",
       "      <td>79.0</td>\n",
       "    </tr>\n",
       "    <tr>\n",
       "      <th>1</th>\n",
       "      <td>80.0</td>\n",
       "      <td>55.0</td>\n",
       "      <td>70.0</td>\n",
       "    </tr>\n",
       "    <tr>\n",
       "      <th>2</th>\n",
       "      <td>72.5</td>\n",
       "      <td>76.0</td>\n",
       "      <td>60.0</td>\n",
       "    </tr>\n",
       "    <tr>\n",
       "      <th>3</th>\n",
       "      <td>65.0</td>\n",
       "      <td>65.5</td>\n",
       "      <td>88.0</td>\n",
       "    </tr>\n",
       "  </tbody>\n",
       "</table>\n",
       "</div>"
      ],
      "text/plain": [
       "       0     1     2\n",
       "0  100.0  20.0  79.0\n",
       "1   80.0  55.0  70.0\n",
       "2   72.5  76.0  60.0\n",
       "3   65.0  65.5  88.0"
      ]
     },
     "execution_count": 10,
     "metadata": {},
     "output_type": "execute_result"
    }
   ],
   "source": [
    "data_filled = imputer.fit_transform(data)\n",
    "pd.DataFrame(data_filled)"
   ]
  },
  {
   "cell_type": "code",
   "execution_count": 7,
   "id": "153aafd6-96b6-418e-bf82-4864fc3175e7",
   "metadata": {},
   "outputs": [],
   "source": [
    "# number = str(data_filled[0][0])\n",
    "# number[:3] + \"-\" + number[3:]\n",
    "# # num_list = list(map(int, str(number)))\n",
    "# # print(num_list)"
   ]
  },
  {
   "cell_type": "code",
   "execution_count": null,
   "id": "a0f34188-ab1c-48ed-94e2-30cf78c20b53",
   "metadata": {},
   "outputs": [],
   "source": []
  }
 ],
 "metadata": {
  "kernelspec": {
   "display_name": "Python 3 (ipykernel)",
   "language": "python",
   "name": "python3"
  },
  "language_info": {
   "codemirror_mode": {
    "name": "ipython",
    "version": 3
   },
   "file_extension": ".py",
   "mimetype": "text/x-python",
   "name": "python",
   "nbconvert_exporter": "python",
   "pygments_lexer": "ipython3",
   "version": "3.10.8"
  }
 },
 "nbformat": 4,
 "nbformat_minor": 5
}
