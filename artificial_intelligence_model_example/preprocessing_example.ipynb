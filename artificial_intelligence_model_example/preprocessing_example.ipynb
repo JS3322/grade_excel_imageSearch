{
 "cells": [
  {
   "cell_type": "code",
   "execution_count": null,
   "id": "226a2cee-120c-4bcc-87be-2231021e91ab",
   "metadata": {},
   "outputs": [],
   "source": [
    "# data.describe() : NaN값 확인"
   ]
  },
  {
   "cell_type": "code",
   "execution_count": 1,
   "id": "0afd295e-2df7-4110-a19d-ad242d262225",
   "metadata": {},
   "outputs": [],
   "source": [
    "# 예제 데이터 선언\n",
    "import numpy as np\n",
    "\n",
    "Input_data = np.array([[1,1], [2,2], [3,3], [4,4], [5,5], [6,6], [7,7], [8,8]])\n",
    "Output_data = np.array([[1], [2], [3], [4], [5], [6], [7], [8]])"
   ]
  },
  {
   "cell_type": "code",
   "execution_count": 2,
   "id": "316a821e-6097-44bc-a47c-5a35c7677f3a",
   "metadata": {},
   "outputs": [],
   "source": [
    "# 정규화 (Normalized)\n",
    "# 모든 데이터가 0 ~ 1 사이의 값. 최대값은 1, 최소값은 0으로 데이터의 범위를 조정\n",
    "\n",
    "from sklearn.preprocessing import MinMaxScaler\n",
    "\n",
    "scaler = MinMaxScaler()\n",
    "scaler.fit(Input_data)\n",
    "\n",
    "Normalized_Values = scaler.transform(Input_data)"
   ]
  },
  {
   "cell_type": "code",
   "execution_count": 4,
   "id": "538c5d91-41ea-48c0-8b5a-8346c7e838a8",
   "metadata": {},
   "outputs": [
    {
     "data": {
      "text/plain": [
       "array([[0.        , 0.        ],\n",
       "       [0.14285714, 0.14285714],\n",
       "       [0.28571429, 0.28571429],\n",
       "       [0.42857143, 0.42857143],\n",
       "       [0.57142857, 0.57142857],\n",
       "       [0.71428571, 0.71428571],\n",
       "       [0.85714286, 0.85714286],\n",
       "       [1.        , 1.        ]])"
      ]
     },
     "execution_count": 4,
     "metadata": {},
     "output_type": "execute_result"
    }
   ],
   "source": [
    "Normalized_Values"
   ]
  },
  {
   "cell_type": "code",
   "execution_count": null,
   "id": "7819ec17-bf22-4d33-b1ed-cf9ccc31beda",
   "metadata": {},
   "outputs": [],
   "source": [
    "# 표준화 (Standardization)\n",
    "# 표준화는 데이터의 평균을 0 분산 및 표준편차를 1로 만듬"
   ]
  }
 ],
 "metadata": {
  "kernelspec": {
   "display_name": "Python 3 (ipykernel)",
   "language": "python",
   "name": "python3"
  },
  "language_info": {
   "codemirror_mode": {
    "name": "ipython",
    "version": 3
   },
   "file_extension": ".py",
   "mimetype": "text/x-python",
   "name": "python",
   "nbconvert_exporter": "python",
   "pygments_lexer": "ipython3",
   "version": "3.10.8"
  }
 },
 "nbformat": 4,
 "nbformat_minor": 5
}
