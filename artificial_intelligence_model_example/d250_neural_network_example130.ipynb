{
 "cells": [
  {
   "cell_type": "code",
   "execution_count": 1,
   "id": "0125e682-e798-4b75-9e91-0292a7f28cae",
   "metadata": {},
   "outputs": [],
   "source": [
    "import sklearn.datasets as datasets # csv로 되어 있는 데이터 패키지\n",
    "import sklearn.model_selection as model_selection # 독립변수, 종속변수 등 피처 구분\n",
    "import sklearn.neural_network as neural_network # 시냅스 형태의 함수를 만드는 패키지\n",
    "import sklearn.preprocessing as preprocessing # 전처리 도구들 패키지"
   ]
  },
  {
   "cell_type": "code",
   "execution_count": 2,
   "id": "8822620f-7ac7-48b6-aa62-1c88b4f662ac",
   "metadata": {},
   "outputs": [],
   "source": [
    "# 인공신경망 : Artificial Neural Network\n",
    "# 사람의 시냅스를 사용하여 다른 여러 뉴런으로 자극을 전달받고 전달 시키는 과정 = 함수형 프로그래밍과 비슷?"
   ]
  },
  {
   "cell_type": "code",
   "execution_count": 3,
   "id": "ba10053a-b459-47fa-8779-34367fda6997",
   "metadata": {
    "tags": []
   },
   "outputs": [
    {
     "name": "stdout",
     "output_type": "stream",
     "text": [
      "MNIST 데이터를 구합니다...\n",
      "MNIST 데이터를 다운로드 했습니다.\n"
     ]
    }
   ],
   "source": [
    "print(\"MNIST 데이터를 구합니다...\")\n",
    "mnistBunch = datasets.fetch_openml(\"mnist_784\")\n",
    "\n",
    "print(\"MNIST 데이터를 다운로드 했습니다.\")\n",
    "\n",
    "imageNDArray = mnistBunch.data # 독립변수(피처)\n",
    "labelNDArray = mnistBunch.target # 종속변수"
   ]
  },
  {
   "cell_type": "code",
   "execution_count": 4,
   "id": "4d40beb4-dc61-48e0-8593-4d18f1dc989e",
   "metadata": {},
   "outputs": [],
   "source": [
    "imageNDArray = preprocessing.normalize(imageNDArray, norm = \"l2\") # \"l1\" 정규화도 사용 가능\n",
    "\n",
    "trainImageNDArray, testImageNDArray, trainLabelNDArray, testLabelNDArray = model_selection.train_test_split(imageNDArray, labelNDArray, test_size = 0.25, random_state = 17)\n",
    "# MLPClassifier : multi layer perceptron classifier\n",
    "mlpClassifier = neural_network.MLPClassifier(hidden_layer_sizes = (300, 300, 300), max_iter = 50, solver = \"sgd\", learning_rate_init = 0.01, verbose = True)"
   ]
  },
  {
   "cell_type": "code",
   "execution_count": 5,
   "id": "9c6c33df-fd7e-4eb3-9e5f-dad6443d5313",
   "metadata": {},
   "outputs": [
    {
     "name": "stdout",
     "output_type": "stream",
     "text": [
      "신경망 학습을 시작합니다...\n",
      "Iteration 1, loss = 1.92062099\n",
      "Iteration 2, loss = 0.61417343\n",
      "Iteration 3, loss = 0.40470183\n",
      "Iteration 4, loss = 0.34480155\n",
      "Iteration 5, loss = 0.31291350\n",
      "Iteration 6, loss = 0.28712767\n",
      "Iteration 7, loss = 0.26529369\n",
      "Iteration 8, loss = 0.24555003\n",
      "Iteration 9, loss = 0.22773005\n",
      "Iteration 10, loss = 0.21125919\n",
      "Iteration 11, loss = 0.19533898\n",
      "Iteration 12, loss = 0.18215835\n",
      "Iteration 13, loss = 0.16889475\n",
      "Iteration 14, loss = 0.15836994\n",
      "Iteration 15, loss = 0.14872052\n",
      "Iteration 16, loss = 0.13916700\n",
      "Iteration 17, loss = 0.13081061\n",
      "Iteration 18, loss = 0.12297656\n",
      "Iteration 19, loss = 0.11655392\n",
      "Iteration 20, loss = 0.11033852\n",
      "Iteration 21, loss = 0.10470500\n",
      "Iteration 22, loss = 0.09882103\n",
      "Iteration 23, loss = 0.09386124\n",
      "Iteration 24, loss = 0.08850712\n",
      "Iteration 25, loss = 0.08480233\n",
      "Iteration 26, loss = 0.08023027\n",
      "Iteration 27, loss = 0.07635048\n",
      "Iteration 28, loss = 0.07305110\n",
      "Iteration 29, loss = 0.06916057\n",
      "Iteration 30, loss = 0.06620448\n",
      "Iteration 31, loss = 0.06317523\n",
      "Iteration 32, loss = 0.06029360\n",
      "Iteration 33, loss = 0.05761328\n",
      "Iteration 34, loss = 0.05528155\n",
      "Iteration 35, loss = 0.05291105\n",
      "Iteration 36, loss = 0.05076017\n",
      "Iteration 37, loss = 0.04819247\n",
      "Iteration 38, loss = 0.04662226\n",
      "Iteration 39, loss = 0.04413404\n",
      "Iteration 40, loss = 0.04243140\n",
      "Iteration 41, loss = 0.04026674\n",
      "Iteration 42, loss = 0.03894567\n",
      "Iteration 43, loss = 0.03711851\n",
      "Iteration 44, loss = 0.03539630\n",
      "Iteration 45, loss = 0.03396090\n",
      "Iteration 46, loss = 0.03202872\n",
      "Iteration 47, loss = 0.03095154\n",
      "Iteration 48, loss = 0.02897399\n",
      "Iteration 49, loss = 0.02784217\n",
      "Iteration 50, loss = 0.02698614\n",
      "신경망 학습을 완료했습니다.\n"
     ]
    },
    {
     "name": "stderr",
     "output_type": "stream",
     "text": [
      "C:\\Users\\YONSAI\\anaconda3\\lib\\site-packages\\sklearn\\neural_network\\_multilayer_perceptron.py:702: ConvergenceWarning: Stochastic Optimizer: Maximum iterations (50) reached and the optimization hasn't converged yet.\n",
      "  warnings.warn(\n"
     ]
    },
    {
     "name": "stdout",
     "output_type": "stream",
     "text": [
      "네트워크 성능 : 0.976114\n"
     ]
    }
   ],
   "source": [
    "print(\"신경망 학습을 시작합니다...\")\n",
    "\n",
    "mlpClassifier.fit(trainImageNDArray, trainLabelNDArray)\n",
    "\n",
    "print(\"신경망 학습을 완료했습니다.\")\n",
    "\n",
    "print(\"네트워크 성능 : %f\" % mlpClassifier.score(testImageNDArray, testLabelNDArray))\n",
    "\n"
   ]
  },
  {
   "cell_type": "code",
   "execution_count": 6,
   "id": "59801e1b-89f6-4478-a3c4-c0507a7ec484",
   "metadata": {},
   "outputs": [
    {
     "data": {
      "text/plain": [
       "['./mlpClassifier_model.pkl']"
      ]
     },
     "execution_count": 6,
     "metadata": {},
     "output_type": "execute_result"
    }
   ],
   "source": [
    "# 모델 저장\n",
    "import joblib\n",
    "joblib.dump(mlpClassifier, './mlpClassifier_model.pkl')"
   ]
  },
  {
   "cell_type": "code",
   "execution_count": 7,
   "id": "199c6a0a-e821-4ee1-9221-27cab2ca24d3",
   "metadata": {},
   "outputs": [
    {
     "data": {
      "text/plain": [
       "0.9761142857142857"
      ]
     },
     "execution_count": 7,
     "metadata": {},
     "output_type": "execute_result"
    }
   ],
   "source": [
    "loaded_model = joblib.load('./mlpClassifier_model.pkl')\n",
    "loaded_model.score(testImageNDArray, testLabelNDArray)\n",
    "\n",
    "# score = loaded_model.score(testImageNDArray, testLabelNDArray)\n",
    "# print('정확도: {score:.3f}'.format(score=score))"
   ]
  },
  {
   "cell_type": "code",
   "execution_count": 8,
   "id": "76ee5e32-5224-405d-a582-bca5a1d7f58a",
   "metadata": {},
   "outputs": [
    {
     "data": {
      "text/plain": [
       "0.9939238095238095"
      ]
     },
     "execution_count": 8,
     "metadata": {},
     "output_type": "execute_result"
    }
   ],
   "source": [
    "loaded_model.score(trainImageNDArray, trainLabelNDArray)"
   ]
  },
  {
   "cell_type": "code",
   "execution_count": 9,
   "id": "51322134-273f-4695-a216-a6c2fe8705f9",
   "metadata": {},
   "outputs": [],
   "source": [
    "# import matplotlib.pyplot as plt\n",
    "\n",
    "# mnistBunch = datasets.fetch_openml(\"mnist_784\")\n",
    "# imageNDArray = mnistBunch.data\n",
    "# labelNDArray = mnistBunch.target \n",
    "# plt.imshow(imageNDArray[0], cmap='Greys')\n",
    "# plt.show()\n",
    "from PIL import Image\n",
    "import numpy as np"
   ]
  },
  {
   "cell_type": "code",
   "execution_count": 10,
   "id": "8149b518-ee81-48e3-a0e8-fb5a3b1614a5",
   "metadata": {},
   "outputs": [
    {
     "data": {
      "text/plain": [
       "array(['3'], dtype='<U1')"
      ]
     },
     "execution_count": 10,
     "metadata": {},
     "output_type": "execute_result"
    }
   ],
   "source": [
    "img = Image.open('./test_number.png').convert('L')\n",
    "img = np.resize(img, (1, 784))\n",
    "test_data = ((np.array(img) / 255) - 1) * -1\n",
    "result = loaded_model.predict(test_data)\n",
    "result"
   ]
  },
  {
   "cell_type": "code",
   "execution_count": null,
   "id": "b15e71f4-69cf-4512-b2c4-b95bd0294677",
   "metadata": {},
   "outputs": [],
   "source": []
  }
 ],
 "metadata": {
  "kernelspec": {
   "display_name": "Python 3 (ipykernel)",
   "language": "python",
   "name": "python3"
  },
  "language_info": {
   "codemirror_mode": {
    "name": "ipython",
    "version": 3
   },
   "file_extension": ".py",
   "mimetype": "text/x-python",
   "name": "python",
   "nbconvert_exporter": "python",
   "pygments_lexer": "ipython3",
   "version": "3.10.8"
  }
 },
 "nbformat": 4,
 "nbformat_minor": 5
}
