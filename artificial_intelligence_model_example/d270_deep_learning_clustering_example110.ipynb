{
 "cells": [
  {
   "cell_type": "code",
   "execution_count": 24,
   "id": "115dfede-ab4b-4a8b-b70e-159254c64273",
   "metadata": {},
   "outputs": [],
   "source": [
    "# 결측치 전처리, 회귀 <-> 분류 (Data Encoding : Label encoding, One Hot encoding)\n",
    "# one hot encoding : 단어 집합 크기를 백터 차원으로 표현\n",
    "# split()데이터셋 > fit()모델학습 > predict()예측적용\n",
    "\n",
    "# 자연어 특징 추출\n",
    "# text를 수치화 하는 법\n",
    "from sklearn.feature_extraction.text import CountVectorizer"
   ]
  },
  {
   "cell_type": "code",
   "execution_count": 25,
   "id": "35d75986-d4f9-4f6c-84d6-436c9a737788",
   "metadata": {},
   "outputs": [
    {
     "name": "stdout",
     "output_type": "stream",
     "text": [
      "{'나는': 0, '배가': 3, '부르다': 4, '오늘': 6, '저녁': 8, '뭐먹지': 2, '운동': 7, '해야겠다': 9, '아침': 5, '먹고': 1, '해야지': 10}\n"
     ]
    }
   ],
   "source": [
    "# countVectorizer : 각 텍스트에서 횟수를 기준으로 특징 추출\n",
    "# 토큰 리스트로 변환하여 토큰의 출현 빈도 측정하고, BOW 인코딩 벡터로 변환\n",
    "data = ['나는 배가 부르다', '오늘 저녁 뭐먹지', '오늘 운동 해야겠다.', '아침 먹고 운동 해야지']\n",
    "cv = CountVectorizer()\n",
    "cv.fit(data)\n",
    "print(cv.vocabulary_)"
   ]
  },
  {
   "cell_type": "code",
   "execution_count": 26,
   "id": "0f7baaf1-1c1c-4bf4-8e7a-0aa7106486e2",
   "metadata": {},
   "outputs": [
    {
     "name": "stdout",
     "output_type": "stream",
     "text": [
      "[[1 0 0 1 1 0 0 0 0 0 0]]\n"
     ]
    }
   ],
   "source": [
    "sentence = [data[0]]\n",
    "print(cv.transform(sentence).toarray())"
   ]
  },
  {
   "cell_type": "code",
   "execution_count": 27,
   "id": "924c1d19-8106-49e9-8629-a539aa536c7d",
   "metadata": {},
   "outputs": [],
   "source": [
    "# TfidVectorizer : use TF-IDF 서로 곱하기 : 어떤 단어가 해당 문서에는 자주 등장하지만 다른 문서에 없으면 높은 값을 가지는 가중치\n",
    "tfv = TfidVectorizer()\n",
    "tfv.fie(data)\n",
    "print(tfv.vocabulary_)\n",
    "sentence = [data[3]] # 아침먹고 운동해야지\n",
    "print(tfv_vectorizer.transform(data).toarray()"
   ]
  },
  {
   "cell_type": "code",
   "execution_count": null,
   "id": "1f6cd60e-1420-418d-a36f-d721b5a2226e",
   "metadata": {},
   "outputs": [],
   "source": []
  }
 ],
 "metadata": {
  "kernelspec": {
   "display_name": "Python 3 (ipykernel)",
   "language": "python",
   "name": "python3"
  },
  "language_info": {
   "codemirror_mode": {
    "name": "ipython",
    "version": 3
   },
   "file_extension": ".py",
   "mimetype": "text/x-python",
   "name": "python",
   "nbconvert_exporter": "python",
   "pygments_lexer": "ipython3",
   "version": "3.10.8"
  }
 },
 "nbformat": 4,
 "nbformat_minor": 5
}
