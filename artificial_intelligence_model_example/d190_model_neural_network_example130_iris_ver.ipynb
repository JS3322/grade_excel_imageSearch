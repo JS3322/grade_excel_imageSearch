{
 "cells": [
  {
   "cell_type": "code",
   "execution_count": 2,
   "id": "0125e682-e798-4b75-9e91-0292a7f28cae",
   "metadata": {},
   "outputs": [],
   "source": [
    "import sklearn.datasets as datasets\n",
    "import sklearn.model_selection as model_selection\n",
    "import sklearn.neural_network as neural_network\n",
    "import sklearn.preprocessing as preprocessing"
   ]
  },
  {
   "cell_type": "code",
   "execution_count": 3,
   "id": "8822620f-7ac7-48b6-aa62-1c88b4f662ac",
   "metadata": {},
   "outputs": [],
   "source": [
    "# 인공신경망 : Artificial Neural Network\n",
    "# 사람의 시냅스를 사용하여 다른 여런 뉴런으로 자극을 전달받고 전달 시키는 과정 = 함수형 프로그래밍과 비슷?"
   ]
  },
  {
   "cell_type": "code",
   "execution_count": 4,
   "id": "ba10053a-b459-47fa-8779-34367fda6997",
   "metadata": {
    "tags": []
   },
   "outputs": [
    {
     "name": "stdout",
     "output_type": "stream",
     "text": [
      "데이터를 구합니다...\n"
     ]
    },
    {
     "name": "stderr",
     "output_type": "stream",
     "text": [
      "/opt/conda/lib/python3.10/site-packages/sklearn/datasets/_openml.py:292: UserWarning: Multiple active versions of the dataset matching the name iris exist. Versions may be fundamentally different, returning version 1.\n",
      "  warn(\n",
      "/opt/conda/lib/python3.10/site-packages/sklearn/datasets/_openml.py:932: FutureWarning: The default value of `parser` will change from `'liac-arff'` to `'auto'` in 1.4. You can set `parser='auto'` to silence this warning. Therefore, an `ImportError` will be raised from 1.4 if the dataset is dense and pandas is not installed. Note that the pandas parser may return different data types. See the Notes Section in fetch_openml's API doc for details.\n",
      "  warn(\n"
     ]
    },
    {
     "name": "stdout",
     "output_type": "stream",
     "text": [
      "데이터를 다운로드 했습니다.\n"
     ]
    }
   ],
   "source": [
    "print(\"데이터를 구합니다...\")\n",
    "mnistBunch = datasets.fetch_openml(\"iris\")\n",
    "\n",
    "print(\"데이터를 다운로드 했습니다.\")\n",
    "\n",
    "imageNDArray = mnistBunch.data\n",
    "labelNDArray = mnistBunch.target "
   ]
  },
  {
   "cell_type": "code",
   "execution_count": 6,
   "id": "82cf5e7b-4ecb-4d7e-a7a1-682c20ee90cd",
   "metadata": {},
   "outputs": [
    {
     "data": {
      "text/html": [
       "<div>\n",
       "<style scoped>\n",
       "    .dataframe tbody tr th:only-of-type {\n",
       "        vertical-align: middle;\n",
       "    }\n",
       "\n",
       "    .dataframe tbody tr th {\n",
       "        vertical-align: top;\n",
       "    }\n",
       "\n",
       "    .dataframe thead th {\n",
       "        text-align: right;\n",
       "    }\n",
       "</style>\n",
       "<table border=\"1\" class=\"dataframe\">\n",
       "  <thead>\n",
       "    <tr style=\"text-align: right;\">\n",
       "      <th></th>\n",
       "      <th>sepallength</th>\n",
       "      <th>sepalwidth</th>\n",
       "      <th>petallength</th>\n",
       "      <th>petalwidth</th>\n",
       "    </tr>\n",
       "  </thead>\n",
       "  <tbody>\n",
       "    <tr>\n",
       "      <th>0</th>\n",
       "      <td>5.1</td>\n",
       "      <td>3.5</td>\n",
       "      <td>1.4</td>\n",
       "      <td>0.2</td>\n",
       "    </tr>\n",
       "    <tr>\n",
       "      <th>1</th>\n",
       "      <td>4.9</td>\n",
       "      <td>3.0</td>\n",
       "      <td>1.4</td>\n",
       "      <td>0.2</td>\n",
       "    </tr>\n",
       "    <tr>\n",
       "      <th>2</th>\n",
       "      <td>4.7</td>\n",
       "      <td>3.2</td>\n",
       "      <td>1.3</td>\n",
       "      <td>0.2</td>\n",
       "    </tr>\n",
       "    <tr>\n",
       "      <th>3</th>\n",
       "      <td>4.6</td>\n",
       "      <td>3.1</td>\n",
       "      <td>1.5</td>\n",
       "      <td>0.2</td>\n",
       "    </tr>\n",
       "    <tr>\n",
       "      <th>4</th>\n",
       "      <td>5.0</td>\n",
       "      <td>3.6</td>\n",
       "      <td>1.4</td>\n",
       "      <td>0.2</td>\n",
       "    </tr>\n",
       "    <tr>\n",
       "      <th>...</th>\n",
       "      <td>...</td>\n",
       "      <td>...</td>\n",
       "      <td>...</td>\n",
       "      <td>...</td>\n",
       "    </tr>\n",
       "    <tr>\n",
       "      <th>145</th>\n",
       "      <td>6.7</td>\n",
       "      <td>3.0</td>\n",
       "      <td>5.2</td>\n",
       "      <td>2.3</td>\n",
       "    </tr>\n",
       "    <tr>\n",
       "      <th>146</th>\n",
       "      <td>6.3</td>\n",
       "      <td>2.5</td>\n",
       "      <td>5.0</td>\n",
       "      <td>1.9</td>\n",
       "    </tr>\n",
       "    <tr>\n",
       "      <th>147</th>\n",
       "      <td>6.5</td>\n",
       "      <td>3.0</td>\n",
       "      <td>5.2</td>\n",
       "      <td>2.0</td>\n",
       "    </tr>\n",
       "    <tr>\n",
       "      <th>148</th>\n",
       "      <td>6.2</td>\n",
       "      <td>3.4</td>\n",
       "      <td>5.4</td>\n",
       "      <td>2.3</td>\n",
       "    </tr>\n",
       "    <tr>\n",
       "      <th>149</th>\n",
       "      <td>5.9</td>\n",
       "      <td>3.0</td>\n",
       "      <td>5.1</td>\n",
       "      <td>1.8</td>\n",
       "    </tr>\n",
       "  </tbody>\n",
       "</table>\n",
       "<p>150 rows × 4 columns</p>\n",
       "</div>"
      ],
      "text/plain": [
       "     sepallength  sepalwidth  petallength  petalwidth\n",
       "0            5.1         3.5          1.4         0.2\n",
       "1            4.9         3.0          1.4         0.2\n",
       "2            4.7         3.2          1.3         0.2\n",
       "3            4.6         3.1          1.5         0.2\n",
       "4            5.0         3.6          1.4         0.2\n",
       "..           ...         ...          ...         ...\n",
       "145          6.7         3.0          5.2         2.3\n",
       "146          6.3         2.5          5.0         1.9\n",
       "147          6.5         3.0          5.2         2.0\n",
       "148          6.2         3.4          5.4         2.3\n",
       "149          5.9         3.0          5.1         1.8\n",
       "\n",
       "[150 rows x 4 columns]"
      ]
     },
     "execution_count": 6,
     "metadata": {},
     "output_type": "execute_result"
    }
   ],
   "source": [
    "imageNDArray"
   ]
  },
  {
   "cell_type": "code",
   "execution_count": 5,
   "id": "2ee9742f-bc7e-4022-99ba-ff29fc08b165",
   "metadata": {},
   "outputs": [
    {
     "data": {
      "text/plain": [
       "0         Iris-setosa\n",
       "1         Iris-setosa\n",
       "2         Iris-setosa\n",
       "3         Iris-setosa\n",
       "4         Iris-setosa\n",
       "            ...      \n",
       "145    Iris-virginica\n",
       "146    Iris-virginica\n",
       "147    Iris-virginica\n",
       "148    Iris-virginica\n",
       "149    Iris-virginica\n",
       "Name: class, Length: 150, dtype: category\n",
       "Categories (3, object): ['Iris-setosa', 'Iris-versicolor', 'Iris-virginica']"
      ]
     },
     "execution_count": 5,
     "metadata": {},
     "output_type": "execute_result"
    }
   ],
   "source": [
    "labelNDArray"
   ]
  },
  {
   "cell_type": "code",
   "execution_count": 5,
   "id": "4d40beb4-dc61-48e0-8593-4d18f1dc989e",
   "metadata": {},
   "outputs": [],
   "source": [
    "# sklearn.preprocessing.normalize : \n",
    "imageNDArray = preprocessing.normalize(imageNDArray, norm = \"l2\") # \"l1\" 정규화도 사용 가능\n",
    "\n",
    "trainImageNDArray, testImageNDArray, trainLabelNDArray, testLabelNDArray = model_selection.train_test_split(imageNDArray, labelNDArray, test_size = 0.25, random_state = 17)\n",
    "\n",
    "mlpClassifier = neural_network.MLPClassifier(hidden_layer_sizes = (300, 300, 300), max_iter = 50, solver = \"sgd\", learning_rate_init = 0.01, verbose = True)"
   ]
  },
  {
   "cell_type": "code",
   "execution_count": 6,
   "id": "fd10e87d-7eed-495b-8480-4dfc9b52c4b3",
   "metadata": {},
   "outputs": [
    {
     "data": {
      "text/html": [
       "<div>\n",
       "<style scoped>\n",
       "    .dataframe tbody tr th:only-of-type {\n",
       "        vertical-align: middle;\n",
       "    }\n",
       "\n",
       "    .dataframe tbody tr th {\n",
       "        vertical-align: top;\n",
       "    }\n",
       "\n",
       "    .dataframe thead th {\n",
       "        text-align: right;\n",
       "    }\n",
       "</style>\n",
       "<table border=\"1\" class=\"dataframe\">\n",
       "  <thead>\n",
       "    <tr style=\"text-align: right;\">\n",
       "      <th></th>\n",
       "      <th>sepallength</th>\n",
       "      <th>sepalwidth</th>\n",
       "      <th>petallength</th>\n",
       "      <th>petalwidth</th>\n",
       "    </tr>\n",
       "  </thead>\n",
       "  <tbody>\n",
       "    <tr>\n",
       "      <th>0</th>\n",
       "      <td>5.1</td>\n",
       "      <td>3.5</td>\n",
       "      <td>1.4</td>\n",
       "      <td>0.2</td>\n",
       "    </tr>\n",
       "    <tr>\n",
       "      <th>1</th>\n",
       "      <td>4.9</td>\n",
       "      <td>3.0</td>\n",
       "      <td>1.4</td>\n",
       "      <td>0.2</td>\n",
       "    </tr>\n",
       "    <tr>\n",
       "      <th>2</th>\n",
       "      <td>4.7</td>\n",
       "      <td>3.2</td>\n",
       "      <td>1.3</td>\n",
       "      <td>0.2</td>\n",
       "    </tr>\n",
       "    <tr>\n",
       "      <th>3</th>\n",
       "      <td>4.6</td>\n",
       "      <td>3.1</td>\n",
       "      <td>1.5</td>\n",
       "      <td>0.2</td>\n",
       "    </tr>\n",
       "    <tr>\n",
       "      <th>4</th>\n",
       "      <td>5.0</td>\n",
       "      <td>3.6</td>\n",
       "      <td>1.4</td>\n",
       "      <td>0.2</td>\n",
       "    </tr>\n",
       "    <tr>\n",
       "      <th>...</th>\n",
       "      <td>...</td>\n",
       "      <td>...</td>\n",
       "      <td>...</td>\n",
       "      <td>...</td>\n",
       "    </tr>\n",
       "    <tr>\n",
       "      <th>145</th>\n",
       "      <td>6.7</td>\n",
       "      <td>3.0</td>\n",
       "      <td>5.2</td>\n",
       "      <td>2.3</td>\n",
       "    </tr>\n",
       "    <tr>\n",
       "      <th>146</th>\n",
       "      <td>6.3</td>\n",
       "      <td>2.5</td>\n",
       "      <td>5.0</td>\n",
       "      <td>1.9</td>\n",
       "    </tr>\n",
       "    <tr>\n",
       "      <th>147</th>\n",
       "      <td>6.5</td>\n",
       "      <td>3.0</td>\n",
       "      <td>5.2</td>\n",
       "      <td>2.0</td>\n",
       "    </tr>\n",
       "    <tr>\n",
       "      <th>148</th>\n",
       "      <td>6.2</td>\n",
       "      <td>3.4</td>\n",
       "      <td>5.4</td>\n",
       "      <td>2.3</td>\n",
       "    </tr>\n",
       "    <tr>\n",
       "      <th>149</th>\n",
       "      <td>5.9</td>\n",
       "      <td>3.0</td>\n",
       "      <td>5.1</td>\n",
       "      <td>1.8</td>\n",
       "    </tr>\n",
       "  </tbody>\n",
       "</table>\n",
       "<p>150 rows × 4 columns</p>\n",
       "</div>"
      ],
      "text/plain": [
       "     sepallength  sepalwidth  petallength  petalwidth\n",
       "0            5.1         3.5          1.4         0.2\n",
       "1            4.9         3.0          1.4         0.2\n",
       "2            4.7         3.2          1.3         0.2\n",
       "3            4.6         3.1          1.5         0.2\n",
       "4            5.0         3.6          1.4         0.2\n",
       "..           ...         ...          ...         ...\n",
       "145          6.7         3.0          5.2         2.3\n",
       "146          6.3         2.5          5.0         1.9\n",
       "147          6.5         3.0          5.2         2.0\n",
       "148          6.2         3.4          5.4         2.3\n",
       "149          5.9         3.0          5.1         1.8\n",
       "\n",
       "[150 rows x 4 columns]"
      ]
     },
     "execution_count": 6,
     "metadata": {},
     "output_type": "execute_result"
    }
   ],
   "source": [
    "imageNDArray"
   ]
  },
  {
   "cell_type": "code",
   "execution_count": 6,
   "id": "9c6c33df-fd7e-4eb3-9e5f-dad6443d5313",
   "metadata": {},
   "outputs": [
    {
     "name": "stdout",
     "output_type": "stream",
     "text": [
      "신경망 학습을 시작합니다...\n",
      "Iteration 1, loss = 1.09265554\n",
      "Iteration 2, loss = 1.09034969\n",
      "Iteration 3, loss = 1.08730908\n",
      "Iteration 4, loss = 1.08410200\n",
      "Iteration 5, loss = 1.08098023\n",
      "Iteration 6, loss = 1.07824895\n",
      "Iteration 7, loss = 1.07569456\n",
      "Iteration 8, loss = 1.07338773\n",
      "Iteration 9, loss = 1.07113068\n",
      "Iteration 10, loss = 1.06877228\n",
      "Iteration 11, loss = 1.06652574\n",
      "Iteration 12, loss = 1.06437739\n",
      "Iteration 13, loss = 1.06218027\n",
      "Iteration 14, loss = 1.05990546\n",
      "Iteration 15, loss = 1.05765590\n",
      "Iteration 16, loss = 1.05549645\n",
      "Iteration 17, loss = 1.05329411\n",
      "Iteration 18, loss = 1.05096622\n",
      "Iteration 19, loss = 1.04852316\n",
      "Iteration 20, loss = 1.04595805\n",
      "Iteration 21, loss = 1.04324393\n",
      "Iteration 22, loss = 1.04034623\n",
      "Iteration 23, loss = 1.03726509\n",
      "Iteration 24, loss = 1.03408584\n",
      "Iteration 25, loss = 1.03095822\n",
      "Iteration 26, loss = 1.02777680\n",
      "Iteration 27, loss = 1.02449092\n",
      "Iteration 28, loss = 1.02110673\n",
      "Iteration 29, loss = 1.01755146\n",
      "Iteration 30, loss = 1.01375160\n",
      "Iteration 31, loss = 1.00976271\n",
      "Iteration 32, loss = 1.00559014\n",
      "Iteration 33, loss = 1.00121110\n",
      "Iteration 34, loss = 0.99662376\n",
      "Iteration 35, loss = 0.99184712\n",
      "Iteration 36, loss = 0.98697097\n",
      "Iteration 37, loss = 0.98192985\n",
      "Iteration 38, loss = 0.97665090\n",
      "Iteration 39, loss = 0.97113182\n",
      "Iteration 40, loss = 0.96536425\n",
      "Iteration 41, loss = 0.95934350\n",
      "Iteration 42, loss = 0.95306879\n",
      "Iteration 43, loss = 0.94650441\n",
      "Iteration 44, loss = 0.93957562\n",
      "Iteration 45, loss = 0.93228797\n",
      "Iteration 46, loss = 0.92462506\n",
      "Iteration 47, loss = 0.91666779\n",
      "Iteration 48, loss = 0.90860943\n",
      "Iteration 49, loss = 0.90030025\n",
      "Iteration 50, loss = 0.89173796\n",
      "신경망 학습을 완료했습니다.\n",
      "네트워크 성능 : 0.605263\n"
     ]
    },
    {
     "name": "stderr",
     "output_type": "stream",
     "text": [
      "C:\\Users\\YONSAI\\anaconda3\\lib\\site-packages\\sklearn\\neural_network\\_multilayer_perceptron.py:702: ConvergenceWarning: Stochastic Optimizer: Maximum iterations (50) reached and the optimization hasn't converged yet.\n",
      "  warnings.warn(\n"
     ]
    }
   ],
   "source": [
    "print(\"신경망 학습을 시작합니다...\")\n",
    "\n",
    "mlpClassifier.fit(trainImageNDArray, trainLabelNDArray)\n",
    "\n",
    "print(\"신경망 학습을 완료했습니다.\")\n",
    "\n",
    "print(\"네트워크 성능 : %f\" % mlpClassifier.score(testImageNDArray, testLabelNDArray))\n",
    "\n"
   ]
  },
  {
   "cell_type": "code",
   "execution_count": 24,
   "id": "59801e1b-89f6-4478-a3c4-c0507a7ec484",
   "metadata": {},
   "outputs": [
    {
     "data": {
      "text/plain": [
       "['./mlpClassifier_model.pkl']"
      ]
     },
     "execution_count": 24,
     "metadata": {},
     "output_type": "execute_result"
    }
   ],
   "source": [
    "# 모델 저장\n",
    "import joblib\n",
    "joblib.dump(mlpClassifier, './mlpClassifier_model.pkl')"
   ]
  },
  {
   "cell_type": "code",
   "execution_count": 27,
   "id": "199c6a0a-e821-4ee1-9221-27cab2ca24d3",
   "metadata": {},
   "outputs": [
    {
     "data": {
      "text/plain": [
       "0.9761714285714286"
      ]
     },
     "execution_count": 27,
     "metadata": {},
     "output_type": "execute_result"
    }
   ],
   "source": [
    "loaded_model = joblib.load('./mlpClassifier_model.pkl')\n",
    "loaded_model.score(testImageNDArray, testLabelNDArray)\n",
    "\n",
    "# score = loaded_model.score(testImageNDArray, testLabelNDArray)\n",
    "# print('정확도: {score:.3f}'.format(score=score))"
   ]
  },
  {
   "cell_type": "code",
   "execution_count": 29,
   "id": "76ee5e32-5224-405d-a582-bca5a1d7f58a",
   "metadata": {},
   "outputs": [
    {
     "data": {
      "text/plain": [
       "0.9945714285714286"
      ]
     },
     "execution_count": 29,
     "metadata": {},
     "output_type": "execute_result"
    }
   ],
   "source": [
    "loaded_model.score(trainImageNDArray, trainLabelNDArray)"
   ]
  },
  {
   "cell_type": "code",
   "execution_count": 39,
   "id": "51322134-273f-4695-a216-a6c2fe8705f9",
   "metadata": {},
   "outputs": [],
   "source": [
    "# import matplotlib.pyplot as plt\n",
    "\n",
    "# mnistBunch = datasets.fetch_openml(\"mnist_784\")\n",
    "# imageNDArray = mnistBunch.data\n",
    "# labelNDArray = mnistBunch.target \n",
    "# plt.imshow(imageNDArray[0], cmap='Greys')\n",
    "# plt.show()\n",
    "from PIL import Image\n",
    "import numpy as np"
   ]
  },
  {
   "cell_type": "code",
   "execution_count": 47,
   "id": "8149b518-ee81-48e3-a0e8-fb5a3b1614a5",
   "metadata": {},
   "outputs": [
    {
     "data": {
      "text/plain": [
       "array(['3'], dtype='<U1')"
      ]
     },
     "execution_count": 47,
     "metadata": {},
     "output_type": "execute_result"
    }
   ],
   "source": [
    "img = Image.open('./test_number.png').convert('L')\n",
    "img = np.resize(img, (1, 784))\n",
    "test_data = ((np.array(img) / 255) - 1) * -1\n",
    "result = loaded_model.predict(test_data)\n",
    "result"
   ]
  },
  {
   "cell_type": "code",
   "execution_count": null,
   "id": "b15e71f4-69cf-4512-b2c4-b95bd0294677",
   "metadata": {},
   "outputs": [],
   "source": []
  }
 ],
 "metadata": {
  "kernelspec": {
   "display_name": "Python 3 (ipykernel)",
   "language": "python",
   "name": "python3"
  },
  "language_info": {
   "codemirror_mode": {
    "name": "ipython",
    "version": 3
   },
   "file_extension": ".py",
   "mimetype": "text/x-python",
   "name": "python",
   "nbconvert_exporter": "python",
   "pygments_lexer": "ipython3",
   "version": "3.10.8"
  }
 },
 "nbformat": 4,
 "nbformat_minor": 5
}
