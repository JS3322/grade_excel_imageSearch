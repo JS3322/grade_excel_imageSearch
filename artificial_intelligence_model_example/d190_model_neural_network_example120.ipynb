{
 "cells": [
  {
   "cell_type": "code",
   "execution_count": 1,
   "id": "4e52eb22-8e68-423b-801b-6949e7a81a75",
   "metadata": {},
   "outputs": [],
   "source": [
    "# 데이터셋과 시각화용 라이브러리\n",
    "import numpy as np\n",
    "import pandas as pd\n",
    "from matplotlib import pyplot as plt\n",
    "from matplotlib.colors import ListedColormap\n",
    "from sklearn.datasets import make_moons, make_circles, make_classification"
   ]
  },
  {
   "cell_type": "code",
   "execution_count": 2,
   "id": "35d83530-7b63-4767-a5de-fe84c30e16c9",
   "metadata": {},
   "outputs": [],
   "source": [
    "# 데이터 분류와 모델 형성에 사용되는 라이브러리\n",
    "from sklearn.model_selection import train_test_split\n",
    "from sklearn.preprocessing import StandardScaler         \n",
    "from sklearn.neural_network import MLPClassifier"
   ]
  },
  {
   "cell_type": "code",
   "execution_count": 6,
   "id": "3c96bcf7-fd03-450e-898d-b4e836395de5",
   "metadata": {},
   "outputs": [],
   "source": [
    "# 파라미터 설정\n",
    "h = .02 # visualization을 위한 parameter / not for NN                       \n",
    "alphas = np.logspace(-5,3,5) # NN의 alpha값\n",
    "names = ['alpha' + str(i) for i in alphas] # 시각화시 plot의 title용\n",
    "\n",
    "# use logspace : alphas - array([1.e-05, 1.e-03, 1.e-01, 1.e+01, 1.e+03]) 제약 지정\n",
    "# names : ['alpha 1e-05', 'alpha 0.001', 'alpha 0.1', 'alpha 10.0', 'alpha 1000.0'] "
   ]
  },
  {
   "cell_type": "code",
   "execution_count": 9,
   "id": "cadd6dcf-cfe6-4c08-bdaf-61fb2d3c8453",
   "metadata": {},
   "outputs": [],
   "source": [
    "# alpha 값에 따른 neural network model 생성\n",
    "classifiers = []\n",
    "for i in alphas : \n",
    "    classifiers.append(MLPClassifier(solver = 'lbfgs',alpha = i, random_state = 1,\n",
    "                                     hidden_layer_sizes = [100,100]))"
   ]
  },
  {
   "cell_type": "code",
   "execution_count": 15,
   "id": "568471ec-e785-40c5-a74f-507e674ba03a",
   "metadata": {},
   "outputs": [],
   "source": [
    "# 데이터 생성\n",
    "X, y = make_classification(n_features = 2, n_redundant = 0, n_informative = 2,\n",
    "                           random_state = 0, n_clusters_per_class = 1) \n",
    "# pd.DataFrame(X).head()\n",
    "# pd.DataFrame(y).head()"
   ]
  },
  {
   "cell_type": "code",
   "execution_count": 16,
   "id": "18a85eb2-473d-4de9-8e94-97e7bd3fe2cd",
   "metadata": {},
   "outputs": [],
   "source": [
    "# uniform error 생성\n",
    "rng = np.random.RandomState(2)\n",
    "X += 2*rng.uniform(size = X.shape)\n",
    "linearly_separable = (X,y)"
   ]
  },
  {
   "cell_type": "code",
   "execution_count": 17,
   "id": "c5e12855-3946-4481-8a0e-cf081bb9a0d0",
   "metadata": {},
   "outputs": [],
   "source": [
    "# 여러 모양(원형, 선형)의 추가 데이터세트 생성\n",
    "datasets = [make_moons(noise = 0.3, random_state = 0),\n",
    "            make_circles(noise = 0.2, factor = 0.5, random_state = 1),\n",
    "            linearly_separable]"
   ]
  },
  {
   "cell_type": "code",
   "execution_count": 18,
   "id": "afe60229-215b-445d-929d-112171a278da",
   "metadata": {},
   "outputs": [
    {
     "data": {
      "text/plain": [
       "<Figure size 1800x600 with 0 Axes>"
      ]
     },
     "metadata": {},
     "output_type": "display_data"
    }
   ],
   "source": [
    "# figure 생성\n",
    "figure = plt.figure(figsize = (18,6))"
   ]
  },
  {
   "cell_type": "code",
   "execution_count": 19,
   "id": "fb14f401-dee0-4d37-b08e-4bb93cf7ffc6",
   "metadata": {},
   "outputs": [
    {
     "ename": "ValueError",
     "evalue": "num must be 1 <= num <= 18, not 1000.0",
     "output_type": "error",
     "traceback": [
      "\u001b[1;31m---------------------------------------------------------------------------\u001b[0m",
      "\u001b[1;31mValueError\u001b[0m                                Traceback (most recent call last)",
      "Input \u001b[1;32mIn [19]\u001b[0m, in \u001b[0;36m<cell line: 4>\u001b[1;34m()\u001b[0m\n\u001b[0;32m     15\u001b[0m cm \u001b[38;5;241m=\u001b[39m plt\u001b[38;5;241m.\u001b[39mcm\u001b[38;5;241m.\u001b[39mRdBu\n\u001b[0;32m     16\u001b[0m cm_bright \u001b[38;5;241m=\u001b[39m ListedColormap([\u001b[38;5;124m'\u001b[39m\u001b[38;5;124m#FF0000\u001b[39m\u001b[38;5;124m'\u001b[39m,\u001b[38;5;124m'\u001b[39m\u001b[38;5;124m#0000FF\u001b[39m\u001b[38;5;124m'\u001b[39m])\n\u001b[1;32m---> 17\u001b[0m ax \u001b[38;5;241m=\u001b[39m \u001b[43mplt\u001b[49m\u001b[38;5;241;43m.\u001b[39;49m\u001b[43msubplot\u001b[49m\u001b[43m(\u001b[49m\u001b[38;5;28;43mlen\u001b[39;49m\u001b[43m(\u001b[49m\u001b[43mdatasets\u001b[49m\u001b[43m)\u001b[49m\u001b[43m,\u001b[49m\u001b[43m \u001b[49m\u001b[38;5;28;43mlen\u001b[39;49m\u001b[43m(\u001b[49m\u001b[43mclassifiers\u001b[49m\u001b[43m)\u001b[49m\u001b[43m \u001b[49m\u001b[38;5;241;43m+\u001b[39;49m\u001b[43m \u001b[49m\u001b[38;5;241;43m1\u001b[39;49m\u001b[43m,\u001b[49m\u001b[43m \u001b[49m\u001b[43mi\u001b[49m\u001b[43m)\u001b[49m\n\u001b[0;32m     19\u001b[0m \u001b[38;5;66;03m# training point plot\u001b[39;00m\n\u001b[0;32m     20\u001b[0m ax\u001b[38;5;241m.\u001b[39mscatter(X_train[:,\u001b[38;5;241m0\u001b[39m],X_train[:,\u001b[38;5;241m1\u001b[39m], c\u001b[38;5;241m=\u001b[39my_train, cmap\u001b[38;5;241m=\u001b[39mcm_bright)\n",
      "File \u001b[1;32m~\\anaconda3\\lib\\site-packages\\matplotlib\\pyplot.py:1254\u001b[0m, in \u001b[0;36msubplot\u001b[1;34m(*args, **kwargs)\u001b[0m\n\u001b[0;32m   1251\u001b[0m fig \u001b[38;5;241m=\u001b[39m gcf()\n\u001b[0;32m   1253\u001b[0m \u001b[38;5;66;03m# First, search for an existing subplot with a matching spec.\u001b[39;00m\n\u001b[1;32m-> 1254\u001b[0m key \u001b[38;5;241m=\u001b[39m \u001b[43mSubplotSpec\u001b[49m\u001b[38;5;241;43m.\u001b[39;49m\u001b[43m_from_subplot_args\u001b[49m\u001b[43m(\u001b[49m\u001b[43mfig\u001b[49m\u001b[43m,\u001b[49m\u001b[43m \u001b[49m\u001b[43margs\u001b[49m\u001b[43m)\u001b[49m\n\u001b[0;32m   1256\u001b[0m \u001b[38;5;28;01mfor\u001b[39;00m ax \u001b[38;5;129;01min\u001b[39;00m fig\u001b[38;5;241m.\u001b[39maxes:\n\u001b[0;32m   1257\u001b[0m     \u001b[38;5;66;03m# if we found an Axes at the position sort out if we can re-use it\u001b[39;00m\n\u001b[0;32m   1258\u001b[0m     \u001b[38;5;28;01mif\u001b[39;00m \u001b[38;5;28mhasattr\u001b[39m(ax, \u001b[38;5;124m'\u001b[39m\u001b[38;5;124mget_subplotspec\u001b[39m\u001b[38;5;124m'\u001b[39m) \u001b[38;5;129;01mand\u001b[39;00m ax\u001b[38;5;241m.\u001b[39mget_subplotspec() \u001b[38;5;241m==\u001b[39m key:\n\u001b[0;32m   1259\u001b[0m         \u001b[38;5;66;03m# if the user passed no kwargs, re-use\u001b[39;00m\n",
      "File \u001b[1;32m~\\anaconda3\\lib\\site-packages\\matplotlib\\gridspec.py:612\u001b[0m, in \u001b[0;36mSubplotSpec._from_subplot_args\u001b[1;34m(figure, args)\u001b[0m\n\u001b[0;32m    610\u001b[0m \u001b[38;5;28;01melse\u001b[39;00m:\n\u001b[0;32m    611\u001b[0m     \u001b[38;5;28;01mif\u001b[39;00m \u001b[38;5;129;01mnot\u001b[39;00m \u001b[38;5;28misinstance\u001b[39m(num, Integral) \u001b[38;5;129;01mor\u001b[39;00m num \u001b[38;5;241m<\u001b[39m \u001b[38;5;241m1\u001b[39m \u001b[38;5;129;01mor\u001b[39;00m num \u001b[38;5;241m>\u001b[39m rows\u001b[38;5;241m*\u001b[39mcols:\n\u001b[1;32m--> 612\u001b[0m         \u001b[38;5;28;01mraise\u001b[39;00m \u001b[38;5;167;01mValueError\u001b[39;00m(\n\u001b[0;32m    613\u001b[0m             \u001b[38;5;124mf\u001b[39m\u001b[38;5;124m\"\u001b[39m\u001b[38;5;124mnum must be 1 <= num <= \u001b[39m\u001b[38;5;132;01m{\u001b[39;00mrows\u001b[38;5;241m*\u001b[39mcols\u001b[38;5;132;01m}\u001b[39;00m\u001b[38;5;124m, not \u001b[39m\u001b[38;5;132;01m{\u001b[39;00mnum\u001b[38;5;132;01m!r}\u001b[39;00m\u001b[38;5;124m\"\u001b[39m)\n\u001b[0;32m    614\u001b[0m     i \u001b[38;5;241m=\u001b[39m j \u001b[38;5;241m=\u001b[39m num\n\u001b[0;32m    615\u001b[0m \u001b[38;5;28;01mreturn\u001b[39;00m gs[i\u001b[38;5;241m-\u001b[39m\u001b[38;5;241m1\u001b[39m:j]\n",
      "\u001b[1;31mValueError\u001b[0m: num must be 1 <= num <= 18, not 1000.0"
     ]
    },
    {
     "data": {
      "text/plain": [
       "<Figure size 640x480 with 0 Axes>"
      ]
     },
     "metadata": {},
     "output_type": "display_data"
    }
   ],
   "source": [
    "## 3개의 데이터 구조를 5개의 alpha값에 따른 학습과 시각화\n",
    "\n",
    "# 데이터세트 3종류, moon, circle, linear data 반복\n",
    "for X,y in datasets : \n",
    "    X = StandardScaler().fit_transform(X)  \n",
    "    X_train, X_test, y_train, y_test = train_test_split(X,y, test_size = 4)\n",
    "    \n",
    "    # grid 생성\n",
    "    x_min, x_max = X[:, 0].min() - 5, X[:,0].max() +5\n",
    "    y_min, y_max = X[:, 0].min() - 5, X[:,0].max() +5\n",
    "    xx, yy = np.meshgrid(np.arange(x_min, x_max, h),\n",
    "                         np.arange(y_min, y_max, h))\n",
    "    \n",
    "    # dataset 시각화를 위한 plot작업\n",
    "    cm = plt.cm.RdBu\n",
    "    cm_bright = ListedColormap(['#FF0000','#0000FF'])\n",
    "    ax = plt.subplot(len(datasets), len(classifiers) + 1, i)\n",
    "    \n",
    "    # training point plot\n",
    "    ax.scatter(X_train[:,0],X_train[:,1], c=y_train, cmap=cm_bright)\n",
    "    \n",
    "    # testing point plot - 여기서 alpha값은 sklearn의 알파와 다름, 투명도를 의미\n",
    "    ax.scatter(X_test[:,0], X_train[:,1], c=y_train, cmap=cm_bright, alpha = 0.6)\n",
    "    \n",
    "    ax.set_xlim(xx.min(), xx.max())\n",
    "    ax.set_ylim(yy.min(), yy.max())\n",
    "    ax.set_xticks(())\n",
    "    ax.set_yticks(())\n",
    "    i += 1\n",
    "    \n",
    "    # classifiers iterate - alpha값에 따른 5개의 분류기준 반복\n",
    "    for name, clf in zip(names, classifiers):\n",
    "        ax = plt.subplot(len(datasets), len(classifiers) + 1, i)\n",
    "        clf.fit(X_train, y_train)\n",
    "        score = clf.score(X_test, y_test)\n",
    "        \n",
    "        # plot의 초평면(Decision Boundary)를 기준으로 다른 색을 할당\n",
    "        \n",
    "        if hasattr(clf, \"decision_function\"):\n",
    "            Z = clf.decision_function(np.c_[xx.ravel(), yy.ravel()])\n",
    "        else:\n",
    "            Z = clf.predict_proba(np.c_[xx.ravel(), yy.ravel()])[:, 1]\n",
    "\n",
    "        # Put the result into a color plot\n",
    "        Z = Z.reshape(xx.shape)\n",
    "        ax.contourf(xx, yy, Z, cmap=cm, alpha=.8)\n",
    "\n",
    "        # Plot also the training points\n",
    "        ax.scatter(X_train[:, 0], X_train[:, 1], c=y_train, cmap=cm_bright,\n",
    "                   edgecolors='black', s=25)\n",
    "        # and testing points\n",
    "        ax.scatter(X_test[:, 0], X_test[:, 1], c=y_test, cmap=cm_bright,\n",
    "                   alpha=0.6, edgecolors='black', s=25)\n",
    "\n",
    "        ax.set_xlim(xx.min(), xx.max())\n",
    "        ax.set_ylim(yy.min(), yy.max())\n",
    "        ax.set_xticks(())\n",
    "        ax.set_yticks(())\n",
    "        ax.set_title(name)\n",
    "        ax.text(xx.max() - .3, yy.min() + .3, ('%.2f' % score).lstrip('0'),\n",
    "                size=15, horizontalalignment='right')\n",
    "        i += 1        "
   ]
  },
  {
   "cell_type": "code",
   "execution_count": null,
   "id": "4df6bd3f-bc02-4e10-826d-9e7ab742a0fc",
   "metadata": {},
   "outputs": [],
   "source": []
  }
 ],
 "metadata": {
  "kernelspec": {
   "display_name": "Python 3 (ipykernel)",
   "language": "python",
   "name": "python3"
  },
  "language_info": {
   "codemirror_mode": {
    "name": "ipython",
    "version": 3
   },
   "file_extension": ".py",
   "mimetype": "text/x-python",
   "name": "python",
   "nbconvert_exporter": "python",
   "pygments_lexer": "ipython3",
   "version": "3.10.8"
  }
 },
 "nbformat": 4,
 "nbformat_minor": 5
}
