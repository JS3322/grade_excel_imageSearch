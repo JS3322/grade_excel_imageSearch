{
 "cells": [
  {
   "cell_type": "code",
   "execution_count": null,
   "id": "a3f47f4e",
   "metadata": {
    "collapsed": false,
    "jupyter": {
     "outputs_hidden": false
    },
    "pycharm": {
     "name": "#%%\n"
    }
   },
   "outputs": [],
   "source": [
    "import cv2\n",
    "\n",
    "image1 = cv2.imread(\"1.png\",cv2.IMREAD_COLOR)\n",
    "image2 = cv2.imread(\"1.png\",cv2.IMREAD_GRAYSCALE)\n",
    "image3 = cv2.imread(\"1.png\",cv2.IMREAD_UNCHANGED)\n",
    "\n",
    "cv2.imshow(\"TEST1\",image1)\n",
    "cv2.imshow(\"TEST2\",image2)\n",
    "cv2.imshow(\"TEST3\",image3)\n",
    "cv2.imshow\n",
    "\n",
    "cv2.waitKey(0)\n",
    "\n",
    "\n",
    "\n",
    "cv2.destroyAllWindows()"
   ]
  },
  {
   "cell_type": "code",
   "execution_count": null,
   "id": "09f870b5",
   "metadata": {
    "collapsed": false,
    "jupyter": {
     "outputs_hidden": false
    },
    "pycharm": {
     "name": "#%%\n"
    }
   },
   "outputs": [],
   "source": []
  }
 ],
 "metadata": {
  "kernelspec": {
   "display_name": "Python 3 (ipykernel)",
   "language": "python",
   "name": "python3"
  },
  "language_info": {
   "codemirror_mode": {
    "name": "ipython",
    "version": 3
   },
   "file_extension": ".py",
   "mimetype": "text/x-python",
   "name": "python",
   "nbconvert_exporter": "python",
   "pygments_lexer": "ipython3",
   "version": "3.10.6"
  }
 },
 "nbformat": 4,
 "nbformat_minor": 5
}