{
 "cells": [
  {
   "cell_type": "code",
   "execution_count": 9,
   "id": "a621174d-d8f1-46a1-ae57-54e01a901fab",
   "metadata": {},
   "outputs": [],
   "source": [
    "import pandas as pd\n",
    "import numpy as np\n",
    "from time import sleep"
   ]
  },
  {
   "cell_type": "code",
   "execution_count": 16,
   "id": "d1909cd1-e08c-49f7-8928-d5310557b432",
   "metadata": {},
   "outputs": [],
   "source": [
    "from tqdm import tqdm, trange"
   ]
  },
  {
   "cell_type": "code",
   "execution_count": 17,
   "id": "cf5c1863-bb11-437e-9252-365327060e3a",
   "metadata": {},
   "outputs": [
    {
     "name": "stderr",
     "output_type": "stream",
     "text": [
      "100%|███████████████████████████████████████████████████████████████████████████████████████████████████████████████████████████████████████████████████████████████████████████████| 500/500 [00:53<00:00,  9.38it/s]\n"
     ]
    }
   ],
   "source": [
    "for step in tqdm(range(500)):\n",
    "    sleep(0.1)"
   ]
  },
  {
   "cell_type": "code",
   "execution_count": 11,
   "id": "616893fe-71a7-469c-ab4b-bbc383f69e9c",
   "metadata": {},
   "outputs": [],
   "source": [
    "# fake data"
   ]
  },
  {
   "cell_type": "code",
   "execution_count": 23,
   "id": "e0d15e57-be56-4253-a73e-df77e06735e3",
   "metadata": {},
   "outputs": [],
   "source": [
    "dogs = np.random.choice(['labradoodle','beagle','mutt'], size=50_000)"
   ]
  },
  {
   "cell_type": "code",
   "execution_count": 26,
   "id": "e20e92b2-2832-435f-90dd-03719da86fe5",
   "metadata": {},
   "outputs": [],
   "source": [
    "smell = np.random.randint(0,100,size=50_000)"
   ]
  },
  {
   "cell_type": "code",
   "execution_count": 27,
   "id": "fa1d10f3-cfb6-40c3-9856-afbc5392ab70",
   "metadata": {},
   "outputs": [],
   "source": [
    "df = pd.DataFrame(data=np.array([dogs, smell]).T, columns=['dog','smell'])"
   ]
  },
  {
   "cell_type": "code",
   "execution_count": 28,
   "id": "dc9ef66e-d438-4350-b8a3-3e8e4370a062",
   "metadata": {},
   "outputs": [
    {
     "data": {
      "text/html": [
       "<div>\n",
       "<style scoped>\n",
       "    .dataframe tbody tr th:only-of-type {\n",
       "        vertical-align: middle;\n",
       "    }\n",
       "\n",
       "    .dataframe tbody tr th {\n",
       "        vertical-align: top;\n",
       "    }\n",
       "\n",
       "    .dataframe thead th {\n",
       "        text-align: right;\n",
       "    }\n",
       "</style>\n",
       "<table border=\"1\" class=\"dataframe\">\n",
       "  <thead>\n",
       "    <tr style=\"text-align: right;\">\n",
       "      <th></th>\n",
       "      <th>dog</th>\n",
       "      <th>smell</th>\n",
       "    </tr>\n",
       "  </thead>\n",
       "  <tbody>\n",
       "    <tr>\n",
       "      <th>0</th>\n",
       "      <td>labradoodle</td>\n",
       "      <td>32</td>\n",
       "    </tr>\n",
       "    <tr>\n",
       "      <th>1</th>\n",
       "      <td>labradoodle</td>\n",
       "      <td>14</td>\n",
       "    </tr>\n",
       "    <tr>\n",
       "      <th>2</th>\n",
       "      <td>beagle</td>\n",
       "      <td>71</td>\n",
       "    </tr>\n",
       "    <tr>\n",
       "      <th>3</th>\n",
       "      <td>mutt</td>\n",
       "      <td>14</td>\n",
       "    </tr>\n",
       "    <tr>\n",
       "      <th>4</th>\n",
       "      <td>labradoodle</td>\n",
       "      <td>18</td>\n",
       "    </tr>\n",
       "  </tbody>\n",
       "</table>\n",
       "</div>"
      ],
      "text/plain": [
       "           dog smell\n",
       "0  labradoodle    32\n",
       "1  labradoodle    14\n",
       "2       beagle    71\n",
       "3         mutt    14\n",
       "4  labradoodle    18"
      ]
     },
     "execution_count": 28,
     "metadata": {},
     "output_type": "execute_result"
    }
   ],
   "source": [
    "df.head()"
   ]
  },
  {
   "cell_type": "code",
   "execution_count": 29,
   "id": "36859f06-da51-4a5f-9919-0941179d8917",
   "metadata": {},
   "outputs": [
    {
     "data": {
      "text/plain": [
       "50000"
      ]
     },
     "execution_count": 29,
     "metadata": {},
     "output_type": "execute_result"
    }
   ],
   "source": [
    "len(df)"
   ]
  },
  {
   "cell_type": "code",
   "execution_count": 33,
   "id": "3307704c-283b-4921-8a34-1913ca3f6ffa",
   "metadata": {},
   "outputs": [
    {
     "name": "stderr",
     "output_type": "stream",
     "text": [
      "100%|████████████████████████████████████████████████████████████████████████████████████████████████████████████████████████████████████████████████████████████████████████| 50000/50000 [00:00<00:00, 68851.66it/s]"
     ]
    },
    {
     "name": "stdout",
     "output_type": "stream",
     "text": [
      "success\n"
     ]
    },
    {
     "name": "stderr",
     "output_type": "stream",
     "text": [
      "\n"
     ]
    }
   ],
   "source": [
    "for dog in tqdm(dogs):\n",
    "    sleep(0.00001)\n",
    "print('success')"
   ]
  },
  {
   "cell_type": "code",
   "execution_count": 36,
   "id": "e801f82e-2cb9-44fd-be8e-bd6d265ede40",
   "metadata": {},
   "outputs": [
    {
     "name": "stderr",
     "output_type": "stream",
     "text": [
      "100%|█████████████████████████████████████████████████████████████████████████████████████████████████████████████████████████████████████████████████████████████████████████| 50000/50000 [00:06<00:00, 7659.59it/s]\n"
     ]
    }
   ],
   "source": [
    "# pbar = tqdm(total=len(dogs))\n",
    "pbar = tqdm(total=50_000)\n",
    "for s in smell:\n",
    "    pbar.update(1)\n",
    "    sleep(0.0001)\n",
    "pbar.close()"
   ]
  },
  {
   "cell_type": "code",
   "execution_count": 37,
   "id": "fd88cc3c-acb3-40e3-88b6-fba68bb4ffe1",
   "metadata": {},
   "outputs": [
    {
     "name": "stderr",
     "output_type": "stream",
     "text": [
      "dog counter: 100%|█████████████████████████████████████████████████████████████████████████████████████████████████████████████████████████████████████████████████████████| 50000/50000 [00:06<00:00, 7628.86barks/s]\n"
     ]
    }
   ],
   "source": [
    "for dog in tqdm(dogs, desc='dog counter', unit='barks'):\n",
    "    sleep(0.0001)"
   ]
  },
  {
   "cell_type": "code",
   "execution_count": null,
   "id": "b773deee-9829-4a5a-8f9c-f383ffbfff48",
   "metadata": {},
   "outputs": [],
   "source": []
  }
 ],
 "metadata": {
  "kernelspec": {
   "display_name": "Python 3 (ipykernel)",
   "language": "python",
   "name": "python3"
  },
  "language_info": {
   "codemirror_mode": {
    "name": "ipython",
    "version": 3
   },
   "file_extension": ".py",
   "mimetype": "text/x-python",
   "name": "python",
   "nbconvert_exporter": "python",
   "pygments_lexer": "ipython3",
   "version": "3.9.15"
  }
 },
 "nbformat": 4,
 "nbformat_minor": 5
}
